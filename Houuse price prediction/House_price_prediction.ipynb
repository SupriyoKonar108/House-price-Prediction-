{
 "cells": [
  {
   "cell_type": "code",
   "execution_count": 122,
   "metadata": {},
   "outputs": [],
   "source": [
    "import numpy as np\n",
    "import pandas as pd\n",
    "import matplotlib.pyplot as plt\n",
    "import sklearn as sl\n",
    "import seaborn as sns\n",
    "import calendar \n",
    "\n",
    "from pandas.api.types import CategoricalDtype\n",
    "from sklearn.preprocessing import StandardScaler\n"
   ]
  },
  {
   "cell_type": "code",
   "execution_count": 123,
   "metadata": {},
   "outputs": [
    {
     "name": "stdout",
     "output_type": "stream",
     "text": [
      "shape of house_train (1460, 81)\n",
      "shape of house_test (1459, 80)\n"
     ]
    }
   ],
   "source": [
    "train_data_path = r\"C:\\Users\\supri\\Desktop\\python\\jupyter\\data\\train.csv\"\n",
    "test_data_path = r\"C:\\Users\\supri\\Desktop\\python\\jupyter\\data\\test.csv\"\n",
    "\n",
    "house_train = pd.read_csv(train_data_path)\n",
    "house_test = pd.read_csv(test_data_path)\n",
    "\n",
    "print(\"shape of house_train\", house_train.shape)\n",
    "print(\"shape of house_test\", house_test.shape)"
   ]
  },
  {
   "cell_type": "code",
   "execution_count": 124,
   "metadata": {},
   "outputs": [
    {
     "data": {
      "text/html": [
       "<div>\n",
       "<style scoped>\n",
       "    .dataframe tbody tr th:only-of-type {\n",
       "        vertical-align: middle;\n",
       "    }\n",
       "\n",
       "    .dataframe tbody tr th {\n",
       "        vertical-align: top;\n",
       "    }\n",
       "\n",
       "    .dataframe thead th {\n",
       "        text-align: right;\n",
       "    }\n",
       "</style>\n",
       "<table border=\"1\" class=\"dataframe\">\n",
       "  <thead>\n",
       "    <tr style=\"text-align: right;\">\n",
       "      <th></th>\n",
       "      <th>Id</th>\n",
       "      <th>MSSubClass</th>\n",
       "      <th>MSZoning</th>\n",
       "      <th>LotFrontage</th>\n",
       "      <th>LotArea</th>\n",
       "      <th>Street</th>\n",
       "      <th>Alley</th>\n",
       "      <th>LotShape</th>\n",
       "      <th>LandContour</th>\n",
       "      <th>Utilities</th>\n",
       "      <th>...</th>\n",
       "      <th>ScreenPorch</th>\n",
       "      <th>PoolArea</th>\n",
       "      <th>PoolQC</th>\n",
       "      <th>Fence</th>\n",
       "      <th>MiscFeature</th>\n",
       "      <th>MiscVal</th>\n",
       "      <th>MoSold</th>\n",
       "      <th>YrSold</th>\n",
       "      <th>SaleType</th>\n",
       "      <th>SaleCondition</th>\n",
       "    </tr>\n",
       "  </thead>\n",
       "  <tbody>\n",
       "    <tr>\n",
       "      <th>0</th>\n",
       "      <td>1461</td>\n",
       "      <td>20</td>\n",
       "      <td>RH</td>\n",
       "      <td>80.0</td>\n",
       "      <td>11622</td>\n",
       "      <td>Pave</td>\n",
       "      <td>NaN</td>\n",
       "      <td>Reg</td>\n",
       "      <td>Lvl</td>\n",
       "      <td>AllPub</td>\n",
       "      <td>...</td>\n",
       "      <td>120</td>\n",
       "      <td>0</td>\n",
       "      <td>NaN</td>\n",
       "      <td>MnPrv</td>\n",
       "      <td>NaN</td>\n",
       "      <td>0</td>\n",
       "      <td>6</td>\n",
       "      <td>2010</td>\n",
       "      <td>WD</td>\n",
       "      <td>Normal</td>\n",
       "    </tr>\n",
       "    <tr>\n",
       "      <th>1</th>\n",
       "      <td>1462</td>\n",
       "      <td>20</td>\n",
       "      <td>RL</td>\n",
       "      <td>81.0</td>\n",
       "      <td>14267</td>\n",
       "      <td>Pave</td>\n",
       "      <td>NaN</td>\n",
       "      <td>IR1</td>\n",
       "      <td>Lvl</td>\n",
       "      <td>AllPub</td>\n",
       "      <td>...</td>\n",
       "      <td>0</td>\n",
       "      <td>0</td>\n",
       "      <td>NaN</td>\n",
       "      <td>NaN</td>\n",
       "      <td>Gar2</td>\n",
       "      <td>12500</td>\n",
       "      <td>6</td>\n",
       "      <td>2010</td>\n",
       "      <td>WD</td>\n",
       "      <td>Normal</td>\n",
       "    </tr>\n",
       "    <tr>\n",
       "      <th>2</th>\n",
       "      <td>1463</td>\n",
       "      <td>60</td>\n",
       "      <td>RL</td>\n",
       "      <td>74.0</td>\n",
       "      <td>13830</td>\n",
       "      <td>Pave</td>\n",
       "      <td>NaN</td>\n",
       "      <td>IR1</td>\n",
       "      <td>Lvl</td>\n",
       "      <td>AllPub</td>\n",
       "      <td>...</td>\n",
       "      <td>0</td>\n",
       "      <td>0</td>\n",
       "      <td>NaN</td>\n",
       "      <td>MnPrv</td>\n",
       "      <td>NaN</td>\n",
       "      <td>0</td>\n",
       "      <td>3</td>\n",
       "      <td>2010</td>\n",
       "      <td>WD</td>\n",
       "      <td>Normal</td>\n",
       "    </tr>\n",
       "    <tr>\n",
       "      <th>3</th>\n",
       "      <td>1464</td>\n",
       "      <td>60</td>\n",
       "      <td>RL</td>\n",
       "      <td>78.0</td>\n",
       "      <td>9978</td>\n",
       "      <td>Pave</td>\n",
       "      <td>NaN</td>\n",
       "      <td>IR1</td>\n",
       "      <td>Lvl</td>\n",
       "      <td>AllPub</td>\n",
       "      <td>...</td>\n",
       "      <td>0</td>\n",
       "      <td>0</td>\n",
       "      <td>NaN</td>\n",
       "      <td>NaN</td>\n",
       "      <td>NaN</td>\n",
       "      <td>0</td>\n",
       "      <td>6</td>\n",
       "      <td>2010</td>\n",
       "      <td>WD</td>\n",
       "      <td>Normal</td>\n",
       "    </tr>\n",
       "    <tr>\n",
       "      <th>4</th>\n",
       "      <td>1465</td>\n",
       "      <td>120</td>\n",
       "      <td>RL</td>\n",
       "      <td>43.0</td>\n",
       "      <td>5005</td>\n",
       "      <td>Pave</td>\n",
       "      <td>NaN</td>\n",
       "      <td>IR1</td>\n",
       "      <td>HLS</td>\n",
       "      <td>AllPub</td>\n",
       "      <td>...</td>\n",
       "      <td>144</td>\n",
       "      <td>0</td>\n",
       "      <td>NaN</td>\n",
       "      <td>NaN</td>\n",
       "      <td>NaN</td>\n",
       "      <td>0</td>\n",
       "      <td>1</td>\n",
       "      <td>2010</td>\n",
       "      <td>WD</td>\n",
       "      <td>Normal</td>\n",
       "    </tr>\n",
       "  </tbody>\n",
       "</table>\n",
       "<p>5 rows × 80 columns</p>\n",
       "</div>"
      ],
      "text/plain": [
       "     Id  MSSubClass MSZoning  LotFrontage  LotArea Street Alley LotShape  \\\n",
       "0  1461          20       RH         80.0    11622   Pave   NaN      Reg   \n",
       "1  1462          20       RL         81.0    14267   Pave   NaN      IR1   \n",
       "2  1463          60       RL         74.0    13830   Pave   NaN      IR1   \n",
       "3  1464          60       RL         78.0     9978   Pave   NaN      IR1   \n",
       "4  1465         120       RL         43.0     5005   Pave   NaN      IR1   \n",
       "\n",
       "  LandContour Utilities  ... ScreenPorch PoolArea PoolQC  Fence MiscFeature  \\\n",
       "0         Lvl    AllPub  ...         120        0    NaN  MnPrv         NaN   \n",
       "1         Lvl    AllPub  ...           0        0    NaN    NaN        Gar2   \n",
       "2         Lvl    AllPub  ...           0        0    NaN  MnPrv         NaN   \n",
       "3         Lvl    AllPub  ...           0        0    NaN    NaN         NaN   \n",
       "4         HLS    AllPub  ...         144        0    NaN    NaN         NaN   \n",
       "\n",
       "  MiscVal MoSold  YrSold  SaleType  SaleCondition  \n",
       "0       0      6    2010        WD         Normal  \n",
       "1   12500      6    2010        WD         Normal  \n",
       "2       0      3    2010        WD         Normal  \n",
       "3       0      6    2010        WD         Normal  \n",
       "4       0      1    2010        WD         Normal  \n",
       "\n",
       "[5 rows x 80 columns]"
      ]
     },
     "execution_count": 124,
     "metadata": {},
     "output_type": "execute_result"
    }
   ],
   "source": [
    "house_train.head()\n",
    "house_test.head()"
   ]
  },
  {
   "cell_type": "code",
   "execution_count": 125,
   "metadata": {},
   "outputs": [
    {
     "name": "stdout",
     "output_type": "stream",
     "text": [
      "shape of integrated data of : (2919, 81)\n"
     ]
    }
   ],
   "source": [
    "df =  pd.concat([house_train, house_test])\n",
    "print(\"shape of integrated data of :\", df.shape)"
   ]
  },
  {
   "cell_type": "code",
   "execution_count": 126,
   "metadata": {},
   "outputs": [
    {
     "data": {
      "text/html": [
       "<div>\n",
       "<style scoped>\n",
       "    .dataframe tbody tr th:only-of-type {\n",
       "        vertical-align: middle;\n",
       "    }\n",
       "\n",
       "    .dataframe tbody tr th {\n",
       "        vertical-align: top;\n",
       "    }\n",
       "\n",
       "    .dataframe thead th {\n",
       "        text-align: right;\n",
       "    }\n",
       "</style>\n",
       "<table border=\"1\" class=\"dataframe\">\n",
       "  <thead>\n",
       "    <tr style=\"text-align: right;\">\n",
       "      <th></th>\n",
       "      <th>Id</th>\n",
       "      <th>MSSubClass</th>\n",
       "      <th>MSZoning</th>\n",
       "      <th>LotFrontage</th>\n",
       "      <th>LotArea</th>\n",
       "      <th>Street</th>\n",
       "      <th>Alley</th>\n",
       "      <th>LotShape</th>\n",
       "      <th>LandContour</th>\n",
       "      <th>Utilities</th>\n",
       "      <th>...</th>\n",
       "      <th>PoolArea</th>\n",
       "      <th>PoolQC</th>\n",
       "      <th>Fence</th>\n",
       "      <th>MiscFeature</th>\n",
       "      <th>MiscVal</th>\n",
       "      <th>MoSold</th>\n",
       "      <th>YrSold</th>\n",
       "      <th>SaleType</th>\n",
       "      <th>SaleCondition</th>\n",
       "      <th>SalePrice</th>\n",
       "    </tr>\n",
       "  </thead>\n",
       "  <tbody>\n",
       "    <tr>\n",
       "      <th>0</th>\n",
       "      <td>1</td>\n",
       "      <td>60</td>\n",
       "      <td>RL</td>\n",
       "      <td>65.0</td>\n",
       "      <td>8450</td>\n",
       "      <td>Pave</td>\n",
       "      <td>NaN</td>\n",
       "      <td>Reg</td>\n",
       "      <td>Lvl</td>\n",
       "      <td>AllPub</td>\n",
       "      <td>...</td>\n",
       "      <td>0</td>\n",
       "      <td>NaN</td>\n",
       "      <td>NaN</td>\n",
       "      <td>NaN</td>\n",
       "      <td>0</td>\n",
       "      <td>2</td>\n",
       "      <td>2008</td>\n",
       "      <td>WD</td>\n",
       "      <td>Normal</td>\n",
       "      <td>208500.0</td>\n",
       "    </tr>\n",
       "    <tr>\n",
       "      <th>1</th>\n",
       "      <td>2</td>\n",
       "      <td>20</td>\n",
       "      <td>RL</td>\n",
       "      <td>80.0</td>\n",
       "      <td>9600</td>\n",
       "      <td>Pave</td>\n",
       "      <td>NaN</td>\n",
       "      <td>Reg</td>\n",
       "      <td>Lvl</td>\n",
       "      <td>AllPub</td>\n",
       "      <td>...</td>\n",
       "      <td>0</td>\n",
       "      <td>NaN</td>\n",
       "      <td>NaN</td>\n",
       "      <td>NaN</td>\n",
       "      <td>0</td>\n",
       "      <td>5</td>\n",
       "      <td>2007</td>\n",
       "      <td>WD</td>\n",
       "      <td>Normal</td>\n",
       "      <td>181500.0</td>\n",
       "    </tr>\n",
       "    <tr>\n",
       "      <th>2</th>\n",
       "      <td>3</td>\n",
       "      <td>60</td>\n",
       "      <td>RL</td>\n",
       "      <td>68.0</td>\n",
       "      <td>11250</td>\n",
       "      <td>Pave</td>\n",
       "      <td>NaN</td>\n",
       "      <td>IR1</td>\n",
       "      <td>Lvl</td>\n",
       "      <td>AllPub</td>\n",
       "      <td>...</td>\n",
       "      <td>0</td>\n",
       "      <td>NaN</td>\n",
       "      <td>NaN</td>\n",
       "      <td>NaN</td>\n",
       "      <td>0</td>\n",
       "      <td>9</td>\n",
       "      <td>2008</td>\n",
       "      <td>WD</td>\n",
       "      <td>Normal</td>\n",
       "      <td>223500.0</td>\n",
       "    </tr>\n",
       "    <tr>\n",
       "      <th>3</th>\n",
       "      <td>4</td>\n",
       "      <td>70</td>\n",
       "      <td>RL</td>\n",
       "      <td>60.0</td>\n",
       "      <td>9550</td>\n",
       "      <td>Pave</td>\n",
       "      <td>NaN</td>\n",
       "      <td>IR1</td>\n",
       "      <td>Lvl</td>\n",
       "      <td>AllPub</td>\n",
       "      <td>...</td>\n",
       "      <td>0</td>\n",
       "      <td>NaN</td>\n",
       "      <td>NaN</td>\n",
       "      <td>NaN</td>\n",
       "      <td>0</td>\n",
       "      <td>2</td>\n",
       "      <td>2006</td>\n",
       "      <td>WD</td>\n",
       "      <td>Abnorml</td>\n",
       "      <td>140000.0</td>\n",
       "    </tr>\n",
       "    <tr>\n",
       "      <th>4</th>\n",
       "      <td>5</td>\n",
       "      <td>60</td>\n",
       "      <td>RL</td>\n",
       "      <td>84.0</td>\n",
       "      <td>14260</td>\n",
       "      <td>Pave</td>\n",
       "      <td>NaN</td>\n",
       "      <td>IR1</td>\n",
       "      <td>Lvl</td>\n",
       "      <td>AllPub</td>\n",
       "      <td>...</td>\n",
       "      <td>0</td>\n",
       "      <td>NaN</td>\n",
       "      <td>NaN</td>\n",
       "      <td>NaN</td>\n",
       "      <td>0</td>\n",
       "      <td>12</td>\n",
       "      <td>2008</td>\n",
       "      <td>WD</td>\n",
       "      <td>Normal</td>\n",
       "      <td>250000.0</td>\n",
       "    </tr>\n",
       "  </tbody>\n",
       "</table>\n",
       "<p>5 rows × 81 columns</p>\n",
       "</div>"
      ],
      "text/plain": [
       "   Id  MSSubClass MSZoning  LotFrontage  LotArea Street Alley LotShape  \\\n",
       "0   1          60       RL         65.0     8450   Pave   NaN      Reg   \n",
       "1   2          20       RL         80.0     9600   Pave   NaN      Reg   \n",
       "2   3          60       RL         68.0    11250   Pave   NaN      IR1   \n",
       "3   4          70       RL         60.0     9550   Pave   NaN      IR1   \n",
       "4   5          60       RL         84.0    14260   Pave   NaN      IR1   \n",
       "\n",
       "  LandContour Utilities  ... PoolArea PoolQC Fence MiscFeature MiscVal MoSold  \\\n",
       "0         Lvl    AllPub  ...        0    NaN   NaN         NaN       0      2   \n",
       "1         Lvl    AllPub  ...        0    NaN   NaN         NaN       0      5   \n",
       "2         Lvl    AllPub  ...        0    NaN   NaN         NaN       0      9   \n",
       "3         Lvl    AllPub  ...        0    NaN   NaN         NaN       0      2   \n",
       "4         Lvl    AllPub  ...        0    NaN   NaN         NaN       0     12   \n",
       "\n",
       "  YrSold  SaleType  SaleCondition  SalePrice  \n",
       "0   2008        WD         Normal   208500.0  \n",
       "1   2007        WD         Normal   181500.0  \n",
       "2   2008        WD         Normal   223500.0  \n",
       "3   2006        WD        Abnorml   140000.0  \n",
       "4   2008        WD         Normal   250000.0  \n",
       "\n",
       "[5 rows x 81 columns]"
      ]
     },
     "execution_count": 126,
     "metadata": {},
     "output_type": "execute_result"
    }
   ],
   "source": [
    "df.head()"
   ]
  },
  {
   "cell_type": "code",
   "execution_count": 127,
   "metadata": {},
   "outputs": [
    {
     "data": {
      "text/html": [
       "<div>\n",
       "<style scoped>\n",
       "    .dataframe tbody tr th:only-of-type {\n",
       "        vertical-align: middle;\n",
       "    }\n",
       "\n",
       "    .dataframe tbody tr th {\n",
       "        vertical-align: top;\n",
       "    }\n",
       "\n",
       "    .dataframe thead th {\n",
       "        text-align: right;\n",
       "    }\n",
       "</style>\n",
       "<table border=\"1\" class=\"dataframe\">\n",
       "  <thead>\n",
       "    <tr style=\"text-align: right;\">\n",
       "      <th></th>\n",
       "      <th>Id</th>\n",
       "      <th>MSSubClass</th>\n",
       "      <th>MSZoning</th>\n",
       "      <th>LotFrontage</th>\n",
       "      <th>LotArea</th>\n",
       "      <th>Street</th>\n",
       "      <th>Alley</th>\n",
       "      <th>LotShape</th>\n",
       "      <th>LandContour</th>\n",
       "      <th>Utilities</th>\n",
       "      <th>...</th>\n",
       "      <th>PoolArea</th>\n",
       "      <th>PoolQC</th>\n",
       "      <th>Fence</th>\n",
       "      <th>MiscFeature</th>\n",
       "      <th>MiscVal</th>\n",
       "      <th>MoSold</th>\n",
       "      <th>YrSold</th>\n",
       "      <th>SaleType</th>\n",
       "      <th>SaleCondition</th>\n",
       "      <th>SalePrice</th>\n",
       "    </tr>\n",
       "  </thead>\n",
       "  <tbody>\n",
       "    <tr>\n",
       "      <th>1454</th>\n",
       "      <td>2915</td>\n",
       "      <td>160</td>\n",
       "      <td>RM</td>\n",
       "      <td>21.0</td>\n",
       "      <td>1936</td>\n",
       "      <td>Pave</td>\n",
       "      <td>NaN</td>\n",
       "      <td>Reg</td>\n",
       "      <td>Lvl</td>\n",
       "      <td>AllPub</td>\n",
       "      <td>...</td>\n",
       "      <td>0</td>\n",
       "      <td>NaN</td>\n",
       "      <td>NaN</td>\n",
       "      <td>NaN</td>\n",
       "      <td>0</td>\n",
       "      <td>6</td>\n",
       "      <td>2006</td>\n",
       "      <td>WD</td>\n",
       "      <td>Normal</td>\n",
       "      <td>NaN</td>\n",
       "    </tr>\n",
       "    <tr>\n",
       "      <th>1455</th>\n",
       "      <td>2916</td>\n",
       "      <td>160</td>\n",
       "      <td>RM</td>\n",
       "      <td>21.0</td>\n",
       "      <td>1894</td>\n",
       "      <td>Pave</td>\n",
       "      <td>NaN</td>\n",
       "      <td>Reg</td>\n",
       "      <td>Lvl</td>\n",
       "      <td>AllPub</td>\n",
       "      <td>...</td>\n",
       "      <td>0</td>\n",
       "      <td>NaN</td>\n",
       "      <td>NaN</td>\n",
       "      <td>NaN</td>\n",
       "      <td>0</td>\n",
       "      <td>4</td>\n",
       "      <td>2006</td>\n",
       "      <td>WD</td>\n",
       "      <td>Abnorml</td>\n",
       "      <td>NaN</td>\n",
       "    </tr>\n",
       "    <tr>\n",
       "      <th>1456</th>\n",
       "      <td>2917</td>\n",
       "      <td>20</td>\n",
       "      <td>RL</td>\n",
       "      <td>160.0</td>\n",
       "      <td>20000</td>\n",
       "      <td>Pave</td>\n",
       "      <td>NaN</td>\n",
       "      <td>Reg</td>\n",
       "      <td>Lvl</td>\n",
       "      <td>AllPub</td>\n",
       "      <td>...</td>\n",
       "      <td>0</td>\n",
       "      <td>NaN</td>\n",
       "      <td>NaN</td>\n",
       "      <td>NaN</td>\n",
       "      <td>0</td>\n",
       "      <td>9</td>\n",
       "      <td>2006</td>\n",
       "      <td>WD</td>\n",
       "      <td>Abnorml</td>\n",
       "      <td>NaN</td>\n",
       "    </tr>\n",
       "    <tr>\n",
       "      <th>1457</th>\n",
       "      <td>2918</td>\n",
       "      <td>85</td>\n",
       "      <td>RL</td>\n",
       "      <td>62.0</td>\n",
       "      <td>10441</td>\n",
       "      <td>Pave</td>\n",
       "      <td>NaN</td>\n",
       "      <td>Reg</td>\n",
       "      <td>Lvl</td>\n",
       "      <td>AllPub</td>\n",
       "      <td>...</td>\n",
       "      <td>0</td>\n",
       "      <td>NaN</td>\n",
       "      <td>MnPrv</td>\n",
       "      <td>Shed</td>\n",
       "      <td>700</td>\n",
       "      <td>7</td>\n",
       "      <td>2006</td>\n",
       "      <td>WD</td>\n",
       "      <td>Normal</td>\n",
       "      <td>NaN</td>\n",
       "    </tr>\n",
       "    <tr>\n",
       "      <th>1458</th>\n",
       "      <td>2919</td>\n",
       "      <td>60</td>\n",
       "      <td>RL</td>\n",
       "      <td>74.0</td>\n",
       "      <td>9627</td>\n",
       "      <td>Pave</td>\n",
       "      <td>NaN</td>\n",
       "      <td>Reg</td>\n",
       "      <td>Lvl</td>\n",
       "      <td>AllPub</td>\n",
       "      <td>...</td>\n",
       "      <td>0</td>\n",
       "      <td>NaN</td>\n",
       "      <td>NaN</td>\n",
       "      <td>NaN</td>\n",
       "      <td>0</td>\n",
       "      <td>11</td>\n",
       "      <td>2006</td>\n",
       "      <td>WD</td>\n",
       "      <td>Normal</td>\n",
       "      <td>NaN</td>\n",
       "    </tr>\n",
       "  </tbody>\n",
       "</table>\n",
       "<p>5 rows × 81 columns</p>\n",
       "</div>"
      ],
      "text/plain": [
       "        Id  MSSubClass MSZoning  LotFrontage  LotArea Street Alley LotShape  \\\n",
       "1454  2915         160       RM         21.0     1936   Pave   NaN      Reg   \n",
       "1455  2916         160       RM         21.0     1894   Pave   NaN      Reg   \n",
       "1456  2917          20       RL        160.0    20000   Pave   NaN      Reg   \n",
       "1457  2918          85       RL         62.0    10441   Pave   NaN      Reg   \n",
       "1458  2919          60       RL         74.0     9627   Pave   NaN      Reg   \n",
       "\n",
       "     LandContour Utilities  ... PoolArea PoolQC  Fence MiscFeature MiscVal  \\\n",
       "1454         Lvl    AllPub  ...        0    NaN    NaN         NaN       0   \n",
       "1455         Lvl    AllPub  ...        0    NaN    NaN         NaN       0   \n",
       "1456         Lvl    AllPub  ...        0    NaN    NaN         NaN       0   \n",
       "1457         Lvl    AllPub  ...        0    NaN  MnPrv        Shed     700   \n",
       "1458         Lvl    AllPub  ...        0    NaN    NaN         NaN       0   \n",
       "\n",
       "     MoSold YrSold  SaleType  SaleCondition  SalePrice  \n",
       "1454      6   2006        WD         Normal        NaN  \n",
       "1455      4   2006        WD        Abnorml        NaN  \n",
       "1456      9   2006        WD        Abnorml        NaN  \n",
       "1457      7   2006        WD         Normal        NaN  \n",
       "1458     11   2006        WD         Normal        NaN  \n",
       "\n",
       "[5 rows x 81 columns]"
      ]
     },
     "execution_count": 127,
     "metadata": {},
     "output_type": "execute_result"
    }
   ],
   "source": [
    "df.tail(5)"
   ]
  },
  {
   "cell_type": "markdown",
   "metadata": {},
   "source": [
    "Get the brief informetion of dataset\n"
   ]
  },
  {
   "cell_type": "code",
   "execution_count": 128,
   "metadata": {},
   "outputs": [
    {
     "name": "stdout",
     "output_type": "stream",
     "text": [
      "<class 'pandas.core.frame.DataFrame'>\n",
      "Index: 2919 entries, 0 to 1458\n",
      "Data columns (total 81 columns):\n",
      " #   Column         Non-Null Count  Dtype  \n",
      "---  ------         --------------  -----  \n",
      " 0   Id             2919 non-null   int64  \n",
      " 1   MSSubClass     2919 non-null   int64  \n",
      " 2   MSZoning       2915 non-null   object \n",
      " 3   LotFrontage    2433 non-null   float64\n",
      " 4   LotArea        2919 non-null   int64  \n",
      " 5   Street         2919 non-null   object \n",
      " 6   Alley          198 non-null    object \n",
      " 7   LotShape       2919 non-null   object \n",
      " 8   LandContour    2919 non-null   object \n",
      " 9   Utilities      2917 non-null   object \n",
      " 10  LotConfig      2919 non-null   object \n",
      " 11  LandSlope      2919 non-null   object \n",
      " 12  Neighborhood   2919 non-null   object \n",
      " 13  Condition1     2919 non-null   object \n",
      " 14  Condition2     2919 non-null   object \n",
      " 15  BldgType       2919 non-null   object \n",
      " 16  HouseStyle     2919 non-null   object \n",
      " 17  OverallQual    2919 non-null   int64  \n",
      " 18  OverallCond    2919 non-null   int64  \n",
      " 19  YearBuilt      2919 non-null   int64  \n",
      " 20  YearRemodAdd   2919 non-null   int64  \n",
      " 21  RoofStyle      2919 non-null   object \n",
      " 22  RoofMatl       2919 non-null   object \n",
      " 23  Exterior1st    2918 non-null   object \n",
      " 24  Exterior2nd    2918 non-null   object \n",
      " 25  MasVnrType     1153 non-null   object \n",
      " 26  MasVnrArea     2896 non-null   float64\n",
      " 27  ExterQual      2919 non-null   object \n",
      " 28  ExterCond      2919 non-null   object \n",
      " 29  Foundation     2919 non-null   object \n",
      " 30  BsmtQual       2838 non-null   object \n",
      " 31  BsmtCond       2837 non-null   object \n",
      " 32  BsmtExposure   2837 non-null   object \n",
      " 33  BsmtFinType1   2840 non-null   object \n",
      " 34  BsmtFinSF1     2918 non-null   float64\n",
      " 35  BsmtFinType2   2839 non-null   object \n",
      " 36  BsmtFinSF2     2918 non-null   float64\n",
      " 37  BsmtUnfSF      2918 non-null   float64\n",
      " 38  TotalBsmtSF    2918 non-null   float64\n",
      " 39  Heating        2919 non-null   object \n",
      " 40  HeatingQC      2919 non-null   object \n",
      " 41  CentralAir     2919 non-null   object \n",
      " 42  Electrical     2918 non-null   object \n",
      " 43  1stFlrSF       2919 non-null   int64  \n",
      " 44  2ndFlrSF       2919 non-null   int64  \n",
      " 45  LowQualFinSF   2919 non-null   int64  \n",
      " 46  GrLivArea      2919 non-null   int64  \n",
      " 47  BsmtFullBath   2917 non-null   float64\n",
      " 48  BsmtHalfBath   2917 non-null   float64\n",
      " 49  FullBath       2919 non-null   int64  \n",
      " 50  HalfBath       2919 non-null   int64  \n",
      " 51  BedroomAbvGr   2919 non-null   int64  \n",
      " 52  KitchenAbvGr   2919 non-null   int64  \n",
      " 53  KitchenQual    2918 non-null   object \n",
      " 54  TotRmsAbvGrd   2919 non-null   int64  \n",
      " 55  Functional     2917 non-null   object \n",
      " 56  Fireplaces     2919 non-null   int64  \n",
      " 57  FireplaceQu    1499 non-null   object \n",
      " 58  GarageType     2762 non-null   object \n",
      " 59  GarageYrBlt    2760 non-null   float64\n",
      " 60  GarageFinish   2760 non-null   object \n",
      " 61  GarageCars     2918 non-null   float64\n",
      " 62  GarageArea     2918 non-null   float64\n",
      " 63  GarageQual     2760 non-null   object \n",
      " 64  GarageCond     2760 non-null   object \n",
      " 65  PavedDrive     2919 non-null   object \n",
      " 66  WoodDeckSF     2919 non-null   int64  \n",
      " 67  OpenPorchSF    2919 non-null   int64  \n",
      " 68  EnclosedPorch  2919 non-null   int64  \n",
      " 69  3SsnPorch      2919 non-null   int64  \n",
      " 70  ScreenPorch    2919 non-null   int64  \n",
      " 71  PoolArea       2919 non-null   int64  \n",
      " 72  PoolQC         10 non-null     object \n",
      " 73  Fence          571 non-null    object \n",
      " 74  MiscFeature    105 non-null    object \n",
      " 75  MiscVal        2919 non-null   int64  \n",
      " 76  MoSold         2919 non-null   int64  \n",
      " 77  YrSold         2919 non-null   int64  \n",
      " 78  SaleType       2918 non-null   object \n",
      " 79  SaleCondition  2919 non-null   object \n",
      " 80  SalePrice      1460 non-null   float64\n",
      "dtypes: float64(12), int64(26), object(43)\n",
      "memory usage: 1.8+ MB\n"
     ]
    }
   ],
   "source": [
    "df.info()"
   ]
  },
  {
   "cell_type": "code",
   "execution_count": 129,
   "metadata": {},
   "outputs": [
    {
     "name": "stdout",
     "output_type": "stream",
     "text": [
      "total number of integer fetures:  26\n",
      "integar feature name: ['Id', 'MSSubClass', 'LotArea', 'OverallQual', 'OverallCond', 'YearBuilt', 'YearRemodAdd', '1stFlrSF', '2ndFlrSF', 'LowQualFinSF', 'GrLivArea', 'FullBath', 'HalfBath', 'BedroomAbvGr', 'KitchenAbvGr', 'TotRmsAbvGrd', 'Fireplaces', 'WoodDeckSF', 'OpenPorchSF', 'EnclosedPorch', '3SsnPorch', 'ScreenPorch', 'PoolArea', 'MiscVal', 'MoSold', 'YrSold']\n"
     ]
    }
   ],
   "source": [
    "int_features = df.select_dtypes(include=[\"int64\"]).columns\n",
    "print(\"total number of integer fetures: \", int_features.shape[0])\n",
    "\n",
    "print(\"integar feature name:\", int_features.tolist())"
   ]
  },
  {
   "cell_type": "code",
   "execution_count": 130,
   "metadata": {},
   "outputs": [
    {
     "name": "stdout",
     "output_type": "stream",
     "text": [
      "total number of float fetures:  12\n",
      "float feature name: ['LotFrontage', 'MasVnrArea', 'BsmtFinSF1', 'BsmtFinSF2', 'BsmtUnfSF', 'TotalBsmtSF', 'BsmtFullBath', 'BsmtHalfBath', 'GarageYrBlt', 'GarageCars', 'GarageArea', 'SalePrice']\n"
     ]
    }
   ],
   "source": [
    "float_features = df.select_dtypes(include=[\"float64\"]).columns\n",
    "print(\"total number of float fetures: \", float_features.shape[0])\n",
    "\n",
    "print(\"float feature name:\", float_features.tolist())"
   ]
  },
  {
   "cell_type": "code",
   "execution_count": 131,
   "metadata": {},
   "outputs": [
    {
     "name": "stdout",
     "output_type": "stream",
     "text": [
      "total number of object fetures:  43\n",
      "object feature name: ['MSZoning', 'Street', 'Alley', 'LotShape', 'LandContour', 'Utilities', 'LotConfig', 'LandSlope', 'Neighborhood', 'Condition1', 'Condition2', 'BldgType', 'HouseStyle', 'RoofStyle', 'RoofMatl', 'Exterior1st', 'Exterior2nd', 'MasVnrType', 'ExterQual', 'ExterCond', 'Foundation', 'BsmtQual', 'BsmtCond', 'BsmtExposure', 'BsmtFinType1', 'BsmtFinType2', 'Heating', 'HeatingQC', 'CentralAir', 'Electrical', 'KitchenQual', 'Functional', 'FireplaceQu', 'GarageType', 'GarageFinish', 'GarageQual', 'GarageCond', 'PavedDrive', 'PoolQC', 'Fence', 'MiscFeature', 'SaleType', 'SaleCondition']\n"
     ]
    }
   ],
   "source": [
    "object_features = df.select_dtypes(include=[\"object\"]).columns\n",
    "print(\"total number of object fetures: \", object_features.shape[0])\n",
    "\n",
    "print(\"object feature name:\", object_features.tolist())"
   ]
  },
  {
   "cell_type": "code",
   "execution_count": 132,
   "metadata": {},
   "outputs": [
    {
     "name": "stdout",
     "output_type": "stream",
     "text": [
      "total number of catagorical  fetures:  43\n",
      "catagorical feature name: ['MSZoning', 'Street', 'Alley', 'LotShape', 'LandContour', 'Utilities', 'LotConfig', 'LandSlope', 'Neighborhood', 'Condition1', 'Condition2', 'BldgType', 'HouseStyle', 'RoofStyle', 'RoofMatl', 'Exterior1st', 'Exterior2nd', 'MasVnrType', 'ExterQual', 'ExterCond', 'Foundation', 'BsmtQual', 'BsmtCond', 'BsmtExposure', 'BsmtFinType1', 'BsmtFinType2', 'Heating', 'HeatingQC', 'CentralAir', 'Electrical', 'KitchenQual', 'Functional', 'FireplaceQu', 'GarageType', 'GarageFinish', 'GarageQual', 'GarageCond', 'PavedDrive', 'PoolQC', 'Fence', 'MiscFeature', 'SaleType', 'SaleCondition']\n"
     ]
    }
   ],
   "source": [
    "cat_features = df.select_dtypes(include=[\"object\"]).columns\n",
    "print(\"total number of catagorical  fetures: \", cat_features.shape[0])\n",
    "\n",
    "print(\"catagorical feature name:\", cat_features.tolist())"
   ]
  },
  {
   "cell_type": "markdown",
   "metadata": {},
   "source": []
  },
  {
   "cell_type": "markdown",
   "metadata": {},
   "source": [
    "## Get the statistical information of Numerical Features"
   ]
  },
  {
   "cell_type": "code",
   "execution_count": 133,
   "metadata": {},
   "outputs": [],
   "source": [
    "def new_func():\n",
    "    df.describe()\n",
    "\n",
    "new_func()"
   ]
  },
  {
   "cell_type": "code",
   "execution_count": 134,
   "metadata": {},
   "outputs": [
    {
     "data": {
      "text/plain": [
       "(8, 38)"
      ]
     },
     "execution_count": 134,
     "metadata": {},
     "output_type": "execute_result"
    }
   ],
   "source": [
    "df.describe().shape"
   ]
  },
  {
   "cell_type": "markdown",
   "metadata": {},
   "source": [
    "## Visualise null/ Missing value"
   ]
  },
  {
   "cell_type": "code",
   "execution_count": 135,
   "metadata": {},
   "outputs": [
    {
     "data": {
      "image/png": "[encoded data removed]",
      "text/plain": [
       "<Figure size 1600x900 with 2 Axes>"
      ]
     },
     "metadata": {},
     "output_type": "display_data"
    }
   ],
   "source": [
    "plt.figure(figsize=(16,9))\n",
    "sns.heatmap(df.isnull())\n",
    "plt.savefig(\"EDA_img/heatmap_DF_of_null_values.png\")"
   ]
  },
  {
   "cell_type": "markdown",
   "metadata": {},
   "source": [
    "## Get the null  value percentage for ever features\n"
   ]
  },
  {
   "cell_type": "code",
   "execution_count": 136,
   "metadata": {},
   "outputs": [],
   "source": [
    "#set index as id column\n",
    "df = df.set_index(\"Id\")"
   ]
  },
  {
   "cell_type": "code",
   "execution_count": 137,
   "metadata": {},
   "outputs": [
    {
     "data": {
      "text/plain": [
       "MSSubClass          0\n",
       "MSZoning            4\n",
       "LotFrontage       486\n",
       "LotArea             0\n",
       "Street              0\n",
       "                 ... \n",
       "MoSold              0\n",
       "YrSold              0\n",
       "SaleType            1\n",
       "SaleCondition       0\n",
       "SalePrice        1459\n",
       "Length: 80, dtype: int64"
      ]
     },
     "execution_count": 137,
     "metadata": {},
     "output_type": "execute_result"
    }
   ],
   "source": [
    "null_count= df.isnull().sum()\n",
    "null_count"
   ]
  },
  {
   "cell_type": "code",
   "execution_count": 138,
   "metadata": {},
   "outputs": [
    {
     "data": {
      "text/plain": [
       "MSSubClass        0.000000\n",
       "MSZoning          0.137033\n",
       "LotFrontage      16.649538\n",
       "LotArea           0.000000\n",
       "Street            0.000000\n",
       "                   ...    \n",
       "MoSold            0.000000\n",
       "YrSold            0.000000\n",
       "SaleType          0.034258\n",
       "SaleCondition     0.000000\n",
       "SalePrice        49.982871\n",
       "Length: 80, dtype: float64"
      ]
     },
     "execution_count": 138,
     "metadata": {},
     "output_type": "execute_result"
    }
   ],
   "source": [
    "null_percent = df.isnull().sum()/df.shape[0]*100\n",
    "null_percent"
   ]
  },
  {
   "cell_type": "markdown",
   "metadata": {},
   "source": [
    "# Drop column features"
   ]
  },
  {
   "cell_type": "code",
   "execution_count": 139,
   "metadata": {},
   "outputs": [
    {
     "data": {
      "text/plain": [
       "Alley          93.216855\n",
       "MasVnrType     60.500171\n",
       "PoolQC         99.657417\n",
       "Fence          80.438506\n",
       "MiscFeature    96.402878\n",
       "dtype: float64"
      ]
     },
     "execution_count": 139,
     "metadata": {},
     "output_type": "execute_result"
    }
   ],
   "source": [
    "\"\"\"as per domain knowledge we will not drop thoose featres, insead None value we will add constant value NA \"\"\"\n",
    "miss_value_50_perc = null_percent[null_percent > 50]\n",
    "miss_value_50_perc"
   ]
  },
  {
   "cell_type": "code",
   "execution_count": 140,
   "metadata": {},
   "outputs": [
    {
     "data": {
      "text/plain": [
       "Alley\n",
       "Grvl    120\n",
       "Pave     78\n",
       "Name: count, dtype: int64"
      ]
     },
     "execution_count": 140,
     "metadata": {},
     "output_type": "execute_result"
    }
   ],
   "source": [
    "df[\"Alley\"].value_counts()"
   ]
  },
  {
   "cell_type": "code",
   "execution_count": 141,
   "metadata": {},
   "outputs": [
    {
     "data": {
      "text/plain": [
       "FireplaceQu    48.646797\n",
       "SalePrice      49.982871\n",
       "dtype: float64"
      ]
     },
     "execution_count": 141,
     "metadata": {},
     "output_type": "execute_result"
    }
   ],
   "source": [
    "\"\"\"as per domain knowledge we will not drop thoose featres, insead None value we will add constant value NA \"\"\" \n",
    "miss_value_20_perc = null_percent[(null_percent > 20) & (null_percent < 50)]\n",
    "miss_value_20_perc"
   ]
  },
  {
   "cell_type": "code",
   "execution_count": 142,
   "metadata": {},
   "outputs": [
    {
     "data": {
      "text/plain": [
       "LotFrontage     16.649538\n",
       "GarageType       5.378554\n",
       "GarageYrBlt      5.447071\n",
       "GarageFinish     5.447071\n",
       "GarageQual       5.447071\n",
       "GarageCond       5.447071\n",
       "dtype: float64"
      ]
     },
     "execution_count": 142,
     "metadata": {},
     "output_type": "execute_result"
    }
   ],
   "source": [
    "miss_value_5_20_perc = null_percent[(null_percent > 5) & (null_percent < 20)]\n",
    "miss_value_5_20_perc"
   ]
  },
  {
   "cell_type": "code",
   "execution_count": 143,
   "metadata": {},
   "outputs": [
    {
     "data": {
      "text/plain": [
       "LotFrontage\n",
       "60.0    276\n",
       "80.0    137\n",
       "70.0    133\n",
       "50.0    117\n",
       "75.0    105\n",
       "Name: count, dtype: int64"
      ]
     },
     "execution_count": 143,
     "metadata": {},
     "output_type": "execute_result"
    }
   ],
   "source": [
    "df[\"LotFrontage\"].value_counts().head()"
   ]
  },
  {
   "cell_type": "code",
   "execution_count": 144,
   "metadata": {},
   "outputs": [
    {
     "data": {
      "text/plain": [
       "<Axes: ylabel='Id'>"
      ]
     },
     "execution_count": 144,
     "metadata": {},
     "output_type": "execute_result"
    },
    {
     "data": {
      "image/png": "[encoded data removed]",
      "text/plain": [
       "<Figure size 640x480 with 2 Axes>"
      ]
     },
     "metadata": {},
     "output_type": "display_data"
    }
   ],
   "source": [
    "sns.heatmap(df[miss_value_5_20_perc.keys()].isnull())"
   ]
  },
  {
   "cell_type": "code",
   "execution_count": 145,
   "metadata": {},
   "outputs": [
    {
     "name": "stdout",
     "output_type": "stream",
     "text": [
      "total mising value features = 35\n"
     ]
    }
   ],
   "source": [
    "missing_value_feat = null_percent[null_percent > 0]\n",
    "print(\"total mising value features =\", len(missing_value_feat))"
   ]
  },
  {
   "cell_type": "code",
   "execution_count": 146,
   "metadata": {},
   "outputs": [
    {
     "data": {
      "text/plain": [
       "MSZoning         0.137033\n",
       "LotFrontage     16.649538\n",
       "Alley           93.216855\n",
       "Utilities        0.068517\n",
       "Exterior1st      0.034258\n",
       "Exterior2nd      0.034258\n",
       "MasVnrType      60.500171\n",
       "MasVnrArea       0.787941\n",
       "BsmtQual         2.774923\n",
       "BsmtCond         2.809181\n",
       "BsmtExposure     2.809181\n",
       "BsmtFinType1     2.706406\n",
       "BsmtFinSF1       0.034258\n",
       "BsmtFinType2     2.740665\n",
       "BsmtFinSF2       0.034258\n",
       "BsmtUnfSF        0.034258\n",
       "TotalBsmtSF      0.034258\n",
       "Electrical       0.034258\n",
       "BsmtFullBath     0.068517\n",
       "BsmtHalfBath     0.068517\n",
       "KitchenQual      0.034258\n",
       "Functional       0.068517\n",
       "FireplaceQu     48.646797\n",
       "GarageType       5.378554\n",
       "GarageYrBlt      5.447071\n",
       "GarageFinish     5.447071\n",
       "GarageCars       0.034258\n",
       "GarageArea       0.034258\n",
       "GarageQual       5.447071\n",
       "GarageCond       5.447071\n",
       "PoolQC          99.657417\n",
       "Fence           80.438506\n",
       "MiscFeature     96.402878\n",
       "SaleType         0.034258\n",
       "SalePrice       49.982871\n",
       "dtype: float64"
      ]
     },
     "execution_count": 146,
     "metadata": {},
     "output_type": "execute_result"
    }
   ],
   "source": [
    "missing_value_feat"
   ]
  },
  {
   "cell_type": "code",
   "execution_count": 147,
   "metadata": {},
   "outputs": [
    {
     "name": "stdout",
     "output_type": "stream",
     "text": [
      "total number of cat feature 23\n",
      "MSZoning         0.137033\n",
      "Alley           93.216855\n",
      "Utilities        0.068517\n",
      "Exterior1st      0.034258\n",
      "Exterior2nd      0.034258\n",
      "MasVnrType      60.500171\n",
      "BsmtQual         2.774923\n",
      "BsmtCond         2.809181\n",
      "BsmtExposure     2.809181\n",
      "BsmtFinType1     2.706406\n",
      "BsmtFinType2     2.740665\n",
      "Electrical       0.034258\n",
      "KitchenQual      0.034258\n",
      "Functional       0.068517\n",
      "FireplaceQu     48.646797\n",
      "GarageType       5.378554\n",
      "GarageFinish     5.447071\n",
      "GarageQual       5.447071\n",
      "GarageCond       5.447071\n",
      "PoolQC          99.657417\n",
      "Fence           80.438506\n",
      "MiscFeature     96.402878\n",
      "SaleType         0.034258\n",
      "dtype: float64\n"
     ]
    }
   ],
   "source": [
    "cat_na_feat = missing_value_feat[missing_value_feat.keys().isin(cat_features)]\n",
    "print(\"total number of cat feature\", len(cat_na_feat))\n",
    "print(cat_na_feat)"
   ]
  },
  {
   "cell_type": "code",
   "execution_count": 148,
   "metadata": {},
   "outputs": [
    {
     "name": "stdout",
     "output_type": "stream",
     "text": [
      "total number of cat feature 0\n",
      "Series([], dtype: float64)\n"
     ]
    }
   ],
   "source": [
    "int_na_feat = missing_value_feat[missing_value_feat.keys().isin(int_features)]\n",
    "print(\"total number of cat feature\", len(int_na_feat))\n",
    "print(int_na_feat)"
   ]
  },
  {
   "cell_type": "code",
   "execution_count": 149,
   "metadata": {},
   "outputs": [
    {
     "name": "stdout",
     "output_type": "stream",
     "text": [
      "total number of cat feature 12\n",
      "LotFrontage     16.649538\n",
      "MasVnrArea       0.787941\n",
      "BsmtFinSF1       0.034258\n",
      "BsmtFinSF2       0.034258\n",
      "BsmtUnfSF        0.034258\n",
      "TotalBsmtSF      0.034258\n",
      "BsmtFullBath     0.068517\n",
      "BsmtHalfBath     0.068517\n",
      "GarageYrBlt      5.447071\n",
      "GarageCars       0.034258\n",
      "GarageArea       0.034258\n",
      "SalePrice       49.982871\n",
      "dtype: float64\n"
     ]
    }
   ],
   "source": [
    "float_na_feat = missing_value_feat[missing_value_feat.keys().isin(float_features)]\n",
    "print(\"total number of cat feature\", len(float_na_feat))\n",
    "print(float_na_feat)"
   ]
  },
  {
   "cell_type": "markdown",
   "metadata": {},
   "source": [
    "## Handling MSZoning\n"
   ]
  },
  {
   "cell_type": "code",
   "execution_count": 150,
   "metadata": {},
   "outputs": [
    {
     "data": {
      "text/plain": [
       "MSZoning\n",
       "RL         2265\n",
       "RM          460\n",
       "FV          139\n",
       "RH           26\n",
       "C (all)      25\n",
       "Name: count, dtype: int64"
      ]
     },
     "execution_count": 150,
     "metadata": {},
     "output_type": "execute_result"
    }
   ],
   "source": [
    "df[\"MSZoning\"].value_counts()"
   ]
  },
  {
   "cell_type": "code",
   "execution_count": 151,
   "metadata": {},
   "outputs": [
    {
     "data": {
      "image/png": "[encoded data removed]",
      "text/plain": [
       "<Figure size 640x480 with 1 Axes>"
      ]
     },
     "metadata": {},
     "output_type": "display_data"
    }
   ],
   "source": [
    "\n",
    "sns.countplot(x=\"MSZoning\", data= df)\n",
    "plt.show()\n"
   ]
  },
  {
   "cell_type": "code",
   "execution_count": 152,
   "metadata": {},
   "outputs": [
    {
     "data": {
      "text/plain": [
       "(2919, 80)"
      ]
     },
     "execution_count": 152,
     "metadata": {},
     "output_type": "execute_result"
    }
   ],
   "source": [
    "df_mvi = df.copy()\n",
    "df_mvi.shape"
   ]
  },
  {
   "cell_type": "code",
   "execution_count": 153,
   "metadata": {},
   "outputs": [
    {
     "data": {
      "text/plain": [
       "0"
      ]
     },
     "execution_count": 153,
     "metadata": {},
     "output_type": "execute_result"
    }
   ],
   "source": [
    "msZoning_mode = df[\"MSZoning\"].mode()[0]\n",
    "df_mvi[\"MSZoning\"].replace(np.nan,msZoning_mode,inplace=True)\n",
    "df_mvi[\"MSZoning\"].isnull().sum()"
   ]
  },
  {
   "cell_type": "code",
   "execution_count": 154,
   "metadata": {},
   "outputs": [],
   "source": [
    "def oldnewCountplot(df, df_new, feature):\n",
    "    plt.subplot(121)\n",
    "    sns.countplot(x= feature, data= df)\n",
    "\n",
    "    plt.subplot(122)\n",
    "    sns.countplot(x= feature, data= df_new)\n",
    "    plt.show()"
   ]
  },
  {
   "cell_type": "code",
   "execution_count": 155,
   "metadata": {},
   "outputs": [
    {
     "data": {
      "image/png": "[encoded data removed]",
      "text/plain": [
       "<Figure size 640x480 with 2 Axes>"
      ]
     },
     "metadata": {},
     "output_type": "display_data"
    }
   ],
   "source": [
    "oldnewCountplot(df, df_mvi, \"MSZoning\" )"
   ]
  },
  {
   "cell_type": "markdown",
   "metadata": {},
   "source": [
    "##  Handling Alley = 93.21685"
   ]
  },
  {
   "cell_type": "code",
   "execution_count": 156,
   "metadata": {},
   "outputs": [
    {
     "data": {
      "text/plain": [
       "Alley\n",
       "Grvl    120\n",
       "Pave     78\n",
       "Name: count, dtype: int64"
      ]
     },
     "execution_count": 156,
     "metadata": {},
     "output_type": "execute_result"
    }
   ],
   "source": [
    "df_mvi[\"Alley\"].value_counts()"
   ]
  },
  {
   "cell_type": "code",
   "execution_count": 157,
   "metadata": {},
   "outputs": [
    {
     "data": {
      "text/plain": [
       "0"
      ]
     },
     "execution_count": 157,
     "metadata": {},
     "output_type": "execute_result"
    }
   ],
   "source": [
    "Alley_cons = \"NA\"\n",
    "df_mvi[\"Alley\"].replace(np.nan, \"Alley_cons\", inplace= True )\n",
    "df_mvi[\"Alley\"].isnull().sum()"
   ]
  },
  {
   "cell_type": "code",
   "execution_count": 158,
   "metadata": {},
   "outputs": [
    {
     "data": {
      "image/png": "[encoded data removed]",
      "text/plain": [
       "<Figure size 640x480 with 2 Axes>"
      ]
     },
     "metadata": {},
     "output_type": "display_data"
    }
   ],
   "source": [
    "oldnewCountplot(df, df_mvi, \"Alley\" )"
   ]
  },
  {
   "cell_type": "markdown",
   "metadata": {},
   "source": [
    "## Handeling Lotfrontge = 16.649538"
   ]
  },
  {
   "cell_type": "code",
   "execution_count": 159,
   "metadata": {},
   "outputs": [],
   "source": [
    "def boxHistplot(df, feature,figsize=(16, 5)):\n",
    "    plt.figure(figsize= figsize)\n",
    "    plt.subplot(121)\n",
    "    sns.boxplot(x = feature, data= df )\n",
    "    plt.subplot(122)\n",
    "    sns.histplot(x= feature, data=df )\n"
   ]
  },
  {
   "cell_type": "code",
   "execution_count": 160,
   "metadata": {},
   "outputs": [
    {
     "data": {
      "image/png": "[encoded data removed]",
      "text/plain": [
       "<Figure size 1600x500 with 2 Axes>"
      ]
     },
     "metadata": {},
     "output_type": "display_data"
    }
   ],
   "source": [
    "boxHistplot(df, \"LotFrontage\")\n",
    "\n"
   ]
  },
  {
   "cell_type": "code",
   "execution_count": 161,
   "metadata": {},
   "outputs": [
    {
     "data": {
      "text/plain": [
       "0"
      ]
     },
     "execution_count": 161,
     "metadata": {},
     "output_type": "execute_result"
    }
   ],
   "source": [
    "lotfortage_mean = df[\"LotFrontage\"].mean()\n",
    "df_mvi[\"LotFrontage\"].replace(np.nan, lotfortage_mean, inplace= True)\n",
    "df_mvi[\"LotFrontage\"].isnull().sum()"
   ]
  },
  {
   "cell_type": "code",
   "execution_count": 162,
   "metadata": {},
   "outputs": [],
   "source": [
    "def oldnewboxHistplot(df, df_new, feature,figsize=(16,10)):\n",
    "    plt.figure(figsize= figsize)\n",
    "    plt.subplot(221)\n",
    "    sns.boxplot(x = feature, data= df )\n",
    "    plt.title(\"old data distribution\")\n",
    "    plt.subplot(222)\n",
    "    sns.distplot(df[feature] )\n",
    "    plt.title(\"old data distribution\")\n",
    "    plt.subplot(223)\n",
    "    sns.boxplot(x = feature, data= df_new )\n",
    "    plt.title(\"new data distribution\")\n",
    "    plt.subplot(224)\n",
    "    sns.distplot(df_new[feature] )\n",
    "    plt.title(\"New data distribution\")"
   ]
  },
  {
   "cell_type": "code",
   "execution_count": 163,
   "metadata": {},
   "outputs": [
    {
     "name": "stderr",
     "output_type": "stream",
     "text": [
      "C:\\Users\\supri\\AppData\\Local\\Temp\\ipykernel_19164\\623834056.py:7: UserWarning: \n",
      "\n",
      "`distplot` is a deprecated function and will be removed in seaborn v0.14.0.\n",
      "\n",
      "Please adapt your code to use either `displot` (a figure-level function with\n",
      "similar flexibility) or `histplot` (an axes-level function for histograms).\n",
      "\n",
      "For a guide to updating your code to use the new functions, please see\n",
      "https://gist.github.com/mwaskom/de44147ed2974457ad6372750bbe5751\n",
      "\n",
      "  sns.distplot(df[feature] )\n",
      "C:\\Users\\supri\\AppData\\Local\\Temp\\ipykernel_19164\\623834056.py:13: UserWarning: \n",
      "\n",
      "`distplot` is a deprecated function and will be removed in seaborn v0.14.0.\n",
      "\n",
      "Please adapt your code to use either `displot` (a figure-level function with\n",
      "similar flexibility) or `histplot` (an axes-level function for histograms).\n",
      "\n",
      "For a guide to updating your code to use the new functions, please see\n",
      "https://gist.github.com/mwaskom/de44147ed2974457ad6372750bbe5751\n",
      "\n",
      "  sns.distplot(df_new[feature] )\n"
     ]
    },
    {
     "data": {
      "image/png": "[encoded data removed]",
      "text/plain": [
       "<Figure size 1600x1000 with 4 Axes>"
      ]
     },
     "metadata": {},
     "output_type": "display_data"
    }
   ],
   "source": [
    "oldnewboxHistplot(df, df_mvi, \"LotFrontage\")"
   ]
  },
  {
   "cell_type": "markdown",
   "metadata": {},
   "source": [
    "## Handling Utilities = 0.068527\n"
   ]
  },
  {
   "cell_type": "code",
   "execution_count": 164,
   "metadata": {},
   "outputs": [
    {
     "data": {
      "text/plain": [
       "Utilities\n",
       "AllPub    2916\n",
       "NoSeWa       1\n",
       "Name: count, dtype: int64"
      ]
     },
     "execution_count": 164,
     "metadata": {},
     "output_type": "execute_result"
    }
   ],
   "source": [
    "df[\"Utilities\"].value_counts()"
   ]
  },
  {
   "cell_type": "code",
   "execution_count": 165,
   "metadata": {},
   "outputs": [
    {
     "data": {
      "text/plain": [
       "0"
      ]
     },
     "execution_count": 165,
     "metadata": {},
     "output_type": "execute_result"
    }
   ],
   "source": [
    "utilities_mode = df_mvi[\"Utilities\"].mode()[0]\n",
    "df_mvi[\"Utilities\"].replace(np.nan,utilities_mode, inplace=True)\n",
    "df_mvi[\"Utilities\"].isnull().sum()"
   ]
  },
  {
   "cell_type": "markdown",
   "metadata": {},
   "source": [
    "## Handling Exterior2nd = 0.034258\n"
   ]
  },
  {
   "cell_type": "code",
   "execution_count": 166,
   "metadata": {},
   "outputs": [
    {
     "data": {
      "text/plain": [
       "Exterior1st\n",
       "VinylSd    1025\n",
       "MetalSd     450\n",
       "HdBoard     442\n",
       "Wd Sdng     411\n",
       "Plywood     221\n",
       "CemntBd     126\n",
       "BrkFace      87\n",
       "WdShing      56\n",
       "AsbShng      44\n",
       "Stucco       43\n",
       "BrkComm       6\n",
       "AsphShn       2\n",
       "Stone         2\n",
       "CBlock        2\n",
       "ImStucc       1\n",
       "Name: count, dtype: int64"
      ]
     },
     "execution_count": 166,
     "metadata": {},
     "output_type": "execute_result"
    }
   ],
   "source": [
    "df[\"Exterior1st\"].value_counts()"
   ]
  },
  {
   "cell_type": "code",
   "execution_count": 167,
   "metadata": {},
   "outputs": [
    {
     "data": {
      "text/plain": [
       "Exterior2nd\n",
       "VinylSd    1014\n",
       "MetalSd     447\n",
       "HdBoard     406\n",
       "Wd Sdng     391\n",
       "Plywood     270\n",
       "CmentBd     126\n",
       "Wd Shng      81\n",
       "BrkFace      47\n",
       "Stucco       47\n",
       "AsbShng      38\n",
       "Brk Cmn      22\n",
       "ImStucc      15\n",
       "Stone         6\n",
       "AsphShn       4\n",
       "CBlock        3\n",
       "Other         1\n",
       "Name: count, dtype: int64"
      ]
     },
     "execution_count": 167,
     "metadata": {},
     "output_type": "execute_result"
    }
   ],
   "source": [
    "df[\"Exterior2nd\"].value_counts()\n"
   ]
  },
  {
   "cell_type": "code",
   "execution_count": 168,
   "metadata": {},
   "outputs": [
    {
     "name": "stdout",
     "output_type": "stream",
     "text": [
      "E1st is null: 0\n",
      "E1st is null: 0\n"
     ]
    }
   ],
   "source": [
    "exterior1st_mode = df_mvi[\"Exterior1st\"].mode()[0]\n",
    "exterior2nd_mode = df_mvi[\"Exterior2nd\"].mode()[0]\n",
    "df_mvi[\"Exterior1st\"].replace(np.nan,exterior1st_mode, inplace=True)\n",
    "df_mvi[\"Exterior2nd\"].replace(np.nan,exterior2nd_mode, inplace=True)\n",
    "\n",
    "print(\"E1st is null:\", df_mvi[\"Exterior1st\"].isnull().sum())\n",
    "print(\"E1st is null:\", df_mvi[\"Exterior2nd\"].isnull().sum())"
   ]
  },
  {
   "cell_type": "markdown",
   "metadata": {},
   "source": [
    "## hendeling MasVnrType = 0.822199 MasVnrArea = 0.787941"
   ]
  },
  {
   "cell_type": "code",
   "execution_count": 169,
   "metadata": {},
   "outputs": [
    {
     "data": {
      "text/plain": [
       "<Axes: ylabel='Id'>"
      ]
     },
     "execution_count": 169,
     "metadata": {},
     "output_type": "execute_result"
    },
    {
     "data": {
      "image/png": "[encoded data removed]",
      "text/plain": [
       "<Figure size 640x480 with 2 Axes>"
      ]
     },
     "metadata": {},
     "output_type": "display_data"
    }
   ],
   "source": [
    "# sns.histplot(x=\"MasVnrArea\" ,  y= \"MasVnrType\", data=df )\n",
    "sns.heatmap(df[[\"MasVnrArea\" , \"MasVnrType\"]].isnull())"
   ]
  },
  {
   "cell_type": "code",
   "execution_count": 170,
   "metadata": {
    "notebookRunGroups": {
     "groupValue": ""
    }
   },
   "outputs": [
    {
     "data": {
      "text/html": [
       "<div>\n",
       "<style scoped>\n",
       "    .dataframe tbody tr th:only-of-type {\n",
       "        vertical-align: middle;\n",
       "    }\n",
       "\n",
       "    .dataframe tbody tr th {\n",
       "        vertical-align: top;\n",
       "    }\n",
       "\n",
       "    .dataframe thead th {\n",
       "        text-align: right;\n",
       "    }\n",
       "</style>\n",
       "<table border=\"1\" class=\"dataframe\">\n",
       "  <thead>\n",
       "    <tr style=\"text-align: right;\">\n",
       "      <th></th>\n",
       "      <th>MSSubClass</th>\n",
       "      <th>MSZoning</th>\n",
       "      <th>LotFrontage</th>\n",
       "      <th>LotArea</th>\n",
       "      <th>Street</th>\n",
       "      <th>Alley</th>\n",
       "      <th>LotShape</th>\n",
       "      <th>LandContour</th>\n",
       "      <th>Utilities</th>\n",
       "      <th>LotConfig</th>\n",
       "      <th>...</th>\n",
       "      <th>PoolArea</th>\n",
       "      <th>PoolQC</th>\n",
       "      <th>Fence</th>\n",
       "      <th>MiscFeature</th>\n",
       "      <th>MiscVal</th>\n",
       "      <th>MoSold</th>\n",
       "      <th>YrSold</th>\n",
       "      <th>SaleType</th>\n",
       "      <th>SaleCondition</th>\n",
       "      <th>SalePrice</th>\n",
       "    </tr>\n",
       "    <tr>\n",
       "      <th>Id</th>\n",
       "      <th></th>\n",
       "      <th></th>\n",
       "      <th></th>\n",
       "      <th></th>\n",
       "      <th></th>\n",
       "      <th></th>\n",
       "      <th></th>\n",
       "      <th></th>\n",
       "      <th></th>\n",
       "      <th></th>\n",
       "      <th></th>\n",
       "      <th></th>\n",
       "      <th></th>\n",
       "      <th></th>\n",
       "      <th></th>\n",
       "      <th></th>\n",
       "      <th></th>\n",
       "      <th></th>\n",
       "      <th></th>\n",
       "      <th></th>\n",
       "      <th></th>\n",
       "    </tr>\n",
       "  </thead>\n",
       "  <tbody>\n",
       "    <tr>\n",
       "      <th>2</th>\n",
       "      <td>20</td>\n",
       "      <td>RL</td>\n",
       "      <td>80.0</td>\n",
       "      <td>9600</td>\n",
       "      <td>Pave</td>\n",
       "      <td>NaN</td>\n",
       "      <td>Reg</td>\n",
       "      <td>Lvl</td>\n",
       "      <td>AllPub</td>\n",
       "      <td>FR2</td>\n",
       "      <td>...</td>\n",
       "      <td>0</td>\n",
       "      <td>NaN</td>\n",
       "      <td>NaN</td>\n",
       "      <td>NaN</td>\n",
       "      <td>0</td>\n",
       "      <td>5</td>\n",
       "      <td>2007</td>\n",
       "      <td>WD</td>\n",
       "      <td>Normal</td>\n",
       "      <td>181500.0</td>\n",
       "    </tr>\n",
       "    <tr>\n",
       "      <th>4</th>\n",
       "      <td>70</td>\n",
       "      <td>RL</td>\n",
       "      <td>60.0</td>\n",
       "      <td>9550</td>\n",
       "      <td>Pave</td>\n",
       "      <td>NaN</td>\n",
       "      <td>IR1</td>\n",
       "      <td>Lvl</td>\n",
       "      <td>AllPub</td>\n",
       "      <td>Corner</td>\n",
       "      <td>...</td>\n",
       "      <td>0</td>\n",
       "      <td>NaN</td>\n",
       "      <td>NaN</td>\n",
       "      <td>NaN</td>\n",
       "      <td>0</td>\n",
       "      <td>2</td>\n",
       "      <td>2006</td>\n",
       "      <td>WD</td>\n",
       "      <td>Abnorml</td>\n",
       "      <td>140000.0</td>\n",
       "    </tr>\n",
       "    <tr>\n",
       "      <th>6</th>\n",
       "      <td>50</td>\n",
       "      <td>RL</td>\n",
       "      <td>85.0</td>\n",
       "      <td>14115</td>\n",
       "      <td>Pave</td>\n",
       "      <td>NaN</td>\n",
       "      <td>IR1</td>\n",
       "      <td>Lvl</td>\n",
       "      <td>AllPub</td>\n",
       "      <td>Inside</td>\n",
       "      <td>...</td>\n",
       "      <td>0</td>\n",
       "      <td>NaN</td>\n",
       "      <td>MnPrv</td>\n",
       "      <td>Shed</td>\n",
       "      <td>700</td>\n",
       "      <td>10</td>\n",
       "      <td>2009</td>\n",
       "      <td>WD</td>\n",
       "      <td>Normal</td>\n",
       "      <td>143000.0</td>\n",
       "    </tr>\n",
       "    <tr>\n",
       "      <th>9</th>\n",
       "      <td>50</td>\n",
       "      <td>RM</td>\n",
       "      <td>51.0</td>\n",
       "      <td>6120</td>\n",
       "      <td>Pave</td>\n",
       "      <td>NaN</td>\n",
       "      <td>Reg</td>\n",
       "      <td>Lvl</td>\n",
       "      <td>AllPub</td>\n",
       "      <td>Inside</td>\n",
       "      <td>...</td>\n",
       "      <td>0</td>\n",
       "      <td>NaN</td>\n",
       "      <td>NaN</td>\n",
       "      <td>NaN</td>\n",
       "      <td>0</td>\n",
       "      <td>4</td>\n",
       "      <td>2008</td>\n",
       "      <td>WD</td>\n",
       "      <td>Abnorml</td>\n",
       "      <td>129900.0</td>\n",
       "    </tr>\n",
       "    <tr>\n",
       "      <th>10</th>\n",
       "      <td>190</td>\n",
       "      <td>RL</td>\n",
       "      <td>50.0</td>\n",
       "      <td>7420</td>\n",
       "      <td>Pave</td>\n",
       "      <td>NaN</td>\n",
       "      <td>Reg</td>\n",
       "      <td>Lvl</td>\n",
       "      <td>AllPub</td>\n",
       "      <td>Corner</td>\n",
       "      <td>...</td>\n",
       "      <td>0</td>\n",
       "      <td>NaN</td>\n",
       "      <td>NaN</td>\n",
       "      <td>NaN</td>\n",
       "      <td>0</td>\n",
       "      <td>1</td>\n",
       "      <td>2008</td>\n",
       "      <td>WD</td>\n",
       "      <td>Normal</td>\n",
       "      <td>118000.0</td>\n",
       "    </tr>\n",
       "    <tr>\n",
       "      <th>...</th>\n",
       "      <td>...</td>\n",
       "      <td>...</td>\n",
       "      <td>...</td>\n",
       "      <td>...</td>\n",
       "      <td>...</td>\n",
       "      <td>...</td>\n",
       "      <td>...</td>\n",
       "      <td>...</td>\n",
       "      <td>...</td>\n",
       "      <td>...</td>\n",
       "      <td>...</td>\n",
       "      <td>...</td>\n",
       "      <td>...</td>\n",
       "      <td>...</td>\n",
       "      <td>...</td>\n",
       "      <td>...</td>\n",
       "      <td>...</td>\n",
       "      <td>...</td>\n",
       "      <td>...</td>\n",
       "      <td>...</td>\n",
       "      <td>...</td>\n",
       "    </tr>\n",
       "    <tr>\n",
       "      <th>2914</th>\n",
       "      <td>160</td>\n",
       "      <td>RM</td>\n",
       "      <td>21.0</td>\n",
       "      <td>1526</td>\n",
       "      <td>Pave</td>\n",
       "      <td>NaN</td>\n",
       "      <td>Reg</td>\n",
       "      <td>Lvl</td>\n",
       "      <td>AllPub</td>\n",
       "      <td>Inside</td>\n",
       "      <td>...</td>\n",
       "      <td>0</td>\n",
       "      <td>NaN</td>\n",
       "      <td>GdPrv</td>\n",
       "      <td>NaN</td>\n",
       "      <td>0</td>\n",
       "      <td>6</td>\n",
       "      <td>2006</td>\n",
       "      <td>WD</td>\n",
       "      <td>Normal</td>\n",
       "      <td>NaN</td>\n",
       "    </tr>\n",
       "    <tr>\n",
       "      <th>2915</th>\n",
       "      <td>160</td>\n",
       "      <td>RM</td>\n",
       "      <td>21.0</td>\n",
       "      <td>1936</td>\n",
       "      <td>Pave</td>\n",
       "      <td>NaN</td>\n",
       "      <td>Reg</td>\n",
       "      <td>Lvl</td>\n",
       "      <td>AllPub</td>\n",
       "      <td>Inside</td>\n",
       "      <td>...</td>\n",
       "      <td>0</td>\n",
       "      <td>NaN</td>\n",
       "      <td>NaN</td>\n",
       "      <td>NaN</td>\n",
       "      <td>0</td>\n",
       "      <td>6</td>\n",
       "      <td>2006</td>\n",
       "      <td>WD</td>\n",
       "      <td>Normal</td>\n",
       "      <td>NaN</td>\n",
       "    </tr>\n",
       "    <tr>\n",
       "      <th>2916</th>\n",
       "      <td>160</td>\n",
       "      <td>RM</td>\n",
       "      <td>21.0</td>\n",
       "      <td>1894</td>\n",
       "      <td>Pave</td>\n",
       "      <td>NaN</td>\n",
       "      <td>Reg</td>\n",
       "      <td>Lvl</td>\n",
       "      <td>AllPub</td>\n",
       "      <td>Inside</td>\n",
       "      <td>...</td>\n",
       "      <td>0</td>\n",
       "      <td>NaN</td>\n",
       "      <td>NaN</td>\n",
       "      <td>NaN</td>\n",
       "      <td>0</td>\n",
       "      <td>4</td>\n",
       "      <td>2006</td>\n",
       "      <td>WD</td>\n",
       "      <td>Abnorml</td>\n",
       "      <td>NaN</td>\n",
       "    </tr>\n",
       "    <tr>\n",
       "      <th>2917</th>\n",
       "      <td>20</td>\n",
       "      <td>RL</td>\n",
       "      <td>160.0</td>\n",
       "      <td>20000</td>\n",
       "      <td>Pave</td>\n",
       "      <td>NaN</td>\n",
       "      <td>Reg</td>\n",
       "      <td>Lvl</td>\n",
       "      <td>AllPub</td>\n",
       "      <td>Inside</td>\n",
       "      <td>...</td>\n",
       "      <td>0</td>\n",
       "      <td>NaN</td>\n",
       "      <td>NaN</td>\n",
       "      <td>NaN</td>\n",
       "      <td>0</td>\n",
       "      <td>9</td>\n",
       "      <td>2006</td>\n",
       "      <td>WD</td>\n",
       "      <td>Abnorml</td>\n",
       "      <td>NaN</td>\n",
       "    </tr>\n",
       "    <tr>\n",
       "      <th>2918</th>\n",
       "      <td>85</td>\n",
       "      <td>RL</td>\n",
       "      <td>62.0</td>\n",
       "      <td>10441</td>\n",
       "      <td>Pave</td>\n",
       "      <td>NaN</td>\n",
       "      <td>Reg</td>\n",
       "      <td>Lvl</td>\n",
       "      <td>AllPub</td>\n",
       "      <td>Inside</td>\n",
       "      <td>...</td>\n",
       "      <td>0</td>\n",
       "      <td>NaN</td>\n",
       "      <td>MnPrv</td>\n",
       "      <td>Shed</td>\n",
       "      <td>700</td>\n",
       "      <td>7</td>\n",
       "      <td>2006</td>\n",
       "      <td>WD</td>\n",
       "      <td>Normal</td>\n",
       "      <td>NaN</td>\n",
       "    </tr>\n",
       "  </tbody>\n",
       "</table>\n",
       "<p>1766 rows × 80 columns</p>\n",
       "</div>"
      ],
      "text/plain": [
       "      MSSubClass MSZoning  LotFrontage  LotArea Street Alley LotShape  \\\n",
       "Id                                                                      \n",
       "2             20       RL         80.0     9600   Pave   NaN      Reg   \n",
       "4             70       RL         60.0     9550   Pave   NaN      IR1   \n",
       "6             50       RL         85.0    14115   Pave   NaN      IR1   \n",
       "9             50       RM         51.0     6120   Pave   NaN      Reg   \n",
       "10           190       RL         50.0     7420   Pave   NaN      Reg   \n",
       "...          ...      ...          ...      ...    ...   ...      ...   \n",
       "2914         160       RM         21.0     1526   Pave   NaN      Reg   \n",
       "2915         160       RM         21.0     1936   Pave   NaN      Reg   \n",
       "2916         160       RM         21.0     1894   Pave   NaN      Reg   \n",
       "2917          20       RL        160.0    20000   Pave   NaN      Reg   \n",
       "2918          85       RL         62.0    10441   Pave   NaN      Reg   \n",
       "\n",
       "     LandContour Utilities LotConfig  ... PoolArea PoolQC  Fence MiscFeature  \\\n",
       "Id                                    ...                                      \n",
       "2            Lvl    AllPub       FR2  ...        0    NaN    NaN         NaN   \n",
       "4            Lvl    AllPub    Corner  ...        0    NaN    NaN         NaN   \n",
       "6            Lvl    AllPub    Inside  ...        0    NaN  MnPrv        Shed   \n",
       "9            Lvl    AllPub    Inside  ...        0    NaN    NaN         NaN   \n",
       "10           Lvl    AllPub    Corner  ...        0    NaN    NaN         NaN   \n",
       "...          ...       ...       ...  ...      ...    ...    ...         ...   \n",
       "2914         Lvl    AllPub    Inside  ...        0    NaN  GdPrv         NaN   \n",
       "2915         Lvl    AllPub    Inside  ...        0    NaN    NaN         NaN   \n",
       "2916         Lvl    AllPub    Inside  ...        0    NaN    NaN         NaN   \n",
       "2917         Lvl    AllPub    Inside  ...        0    NaN    NaN         NaN   \n",
       "2918         Lvl    AllPub    Inside  ...        0    NaN  MnPrv        Shed   \n",
       "\n",
       "     MiscVal MoSold  YrSold  SaleType  SaleCondition  SalePrice  \n",
       "Id                                                               \n",
       "2          0      5    2007        WD         Normal   181500.0  \n",
       "4          0      2    2006        WD        Abnorml   140000.0  \n",
       "6        700     10    2009        WD         Normal   143000.0  \n",
       "9          0      4    2008        WD        Abnorml   129900.0  \n",
       "10         0      1    2008        WD         Normal   118000.0  \n",
       "...      ...    ...     ...       ...            ...        ...  \n",
       "2914       0      6    2006        WD         Normal        NaN  \n",
       "2915       0      6    2006        WD         Normal        NaN  \n",
       "2916       0      4    2006        WD        Abnorml        NaN  \n",
       "2917       0      9    2006        WD        Abnorml        NaN  \n",
       "2918     700      7    2006        WD         Normal        NaN  \n",
       "\n",
       "[1766 rows x 80 columns]"
      ]
     },
     "execution_count": 170,
     "metadata": {},
     "output_type": "execute_result"
    }
   ],
   "source": [
    "df[df[[\"MasVnrArea\" , \"MasVnrType\"]].isnull().any(axis=1)]"
   ]
  },
  {
   "cell_type": "code",
   "execution_count": 171,
   "metadata": {},
   "outputs": [
    {
     "data": {
      "text/plain": [
       "MasVnrType\n",
       "BrkFace    879\n",
       "Stone      249\n",
       "BrkCmn      25\n",
       "Name: count, dtype: int64"
      ]
     },
     "execution_count": 171,
     "metadata": {},
     "output_type": "execute_result"
    }
   ],
   "source": [
    "df[\"MasVnrType\"].value_counts()\n",
    "# df[\"MasVnrArea\"].value_counts()\n"
   ]
  },
  {
   "cell_type": "code",
   "execution_count": 172,
   "metadata": {},
   "outputs": [
    {
     "data": {
      "text/plain": [
       "0"
      ]
     },
     "execution_count": 172,
     "metadata": {},
     "output_type": "execute_result"
    }
   ],
   "source": [
    "MasVnrType_mode = df_mvi[\"MasVnrType\"].mode()[0]\n",
    "df_mvi[\"MasVnrType\"].replace(np.nan,MasVnrType_mode, inplace=True)\n",
    "df_mvi[\"MasVnrType\"].isnull().sum()"
   ]
  },
  {
   "cell_type": "code",
   "execution_count": 173,
   "metadata": {},
   "outputs": [
    {
     "data": {
      "image/png": "[encoded data removed]",
      "text/plain": [
       "<Figure size 1600x500 with 2 Axes>"
      ]
     },
     "metadata": {},
     "output_type": "display_data"
    }
   ],
   "source": [
    "\n",
    "boxHistplot(df, \"MasVnrArea\")\n",
    "\n"
   ]
  },
  {
   "cell_type": "code",
   "execution_count": 174,
   "metadata": {},
   "outputs": [
    {
     "data": {
      "text/plain": [
       "0"
      ]
     },
     "execution_count": 174,
     "metadata": {},
     "output_type": "execute_result"
    }
   ],
   "source": [
    "MasVnrArea_cont = 0\n",
    "df_mvi[\"MasVnrArea\"].replace(np.nan,MasVnrArea_cont, inplace=True)\n",
    "df_mvi[\"MasVnrArea\"].isnull().sum()"
   ]
  },
  {
   "cell_type": "markdown",
   "metadata": {},
   "source": [
    "## Handling Bsmt Features"
   ]
  },
  {
   "cell_type": "markdown",
   "metadata": {},
   "source": [
    "\n",
    "BsmtQual         2.774923\n",
    "BsmtCond         2.809181\n",
    "BsmtExposure     2.809181\n",
    "BsmtFinType1     2.706406\n",
    "BsmtFinType2     2.740665\n",
    "\n",
    "BsmtFinSF1       0.034258\n",
    "BsmtFinSF2       0.034258\n",
    "BsmtUnfSF        0.034258\n",
    "TotalBsmtSF      0.034258\n",
    "Electrical       0.034258\n",
    "BsmtFullBath     0.068517\n",
    "BsmtHalfBath     0.068517"
   ]
  },
  {
   "cell_type": "code",
   "execution_count": 175,
   "metadata": {},
   "outputs": [],
   "source": [
    "cat_bsmt_feat = [\n",
    "\"BsmtQual\",        \n",
    "\"BsmtCond\",       \n",
    "\"BsmtExposure\",    \n",
    "\"BsmtFinType1\", \n",
    "\"BsmtFinType2\" ]   \n",
    "\n",
    "num_bsmt_feat =[\n",
    "\"BsmtFinSF1\",\n",
    "\"BsmtFinSF2\" ,      \n",
    "\"BsmtUnfSF\"   ,     \n",
    "\"TotalBsmtSF\" ,    \n",
    "\"BsmtFullBath\" ,   \n",
    "\"BsmtHalfBath\" ]    "
   ]
  },
  {
   "cell_type": "code",
   "execution_count": 176,
   "metadata": {},
   "outputs": [
    {
     "data": {
      "text/plain": [
       "<Axes: ylabel='Id'>"
      ]
     },
     "execution_count": 176,
     "metadata": {},
     "output_type": "execute_result"
    },
    {
     "data": {
      "image/png": "[encoded data removed]",
      "text/plain": [
       "<Figure size 640x480 with 2 Axes>"
      ]
     },
     "metadata": {},
     "output_type": "display_data"
    }
   ],
   "source": [
    "sns.heatmap(df[cat_bsmt_feat].isnull())"
   ]
  },
  {
   "cell_type": "code",
   "execution_count": 177,
   "metadata": {},
   "outputs": [
    {
     "name": "stdout",
     "output_type": "stream",
     "text": [
      "value count of BsmtQual :BsmtQual\n",
      "TA    1283\n",
      "Gd    1209\n",
      "Ex     258\n",
      "Fa      88\n",
      "Name: count, dtype: int64\n",
      "value count of BsmtCond :BsmtCond\n",
      "TA    2606\n",
      "Gd     122\n",
      "Fa     104\n",
      "Po       5\n",
      "Name: count, dtype: int64\n",
      "value count of BsmtExposure :BsmtExposure\n",
      "No    1904\n",
      "Av     418\n",
      "Gd     276\n",
      "Mn     239\n",
      "Name: count, dtype: int64\n",
      "value count of BsmtFinType1 :BsmtFinType1\n",
      "Unf    851\n",
      "GLQ    849\n",
      "ALQ    429\n",
      "Rec    288\n",
      "BLQ    269\n",
      "LwQ    154\n",
      "Name: count, dtype: int64\n",
      "value count of BsmtFinType2 :BsmtFinType2\n",
      "Unf    2493\n",
      "Rec     105\n",
      "LwQ      87\n",
      "BLQ      68\n",
      "ALQ      52\n",
      "GLQ      34\n",
      "Name: count, dtype: int64\n"
     ]
    }
   ],
   "source": [
    "bsmt_cont = \"NA\"\n",
    "for feat in cat_bsmt_feat:\n",
    "    print(f\"value count of {feat} :{df[feat].value_counts()}\")"
   ]
  },
  {
   "cell_type": "code",
   "execution_count": 178,
   "metadata": {},
   "outputs": [
    {
     "data": {
      "text/plain": [
       "<Axes: ylabel='Id'>"
      ]
     },
     "execution_count": 178,
     "metadata": {},
     "output_type": "execute_result"
    },
    {
     "data": {
      "image/png": "[encoded data removed]",
      "text/plain": [
       "<Figure size 640x480 with 2 Axes>"
      ]
     },
     "metadata": {},
     "output_type": "display_data"
    }
   ],
   "source": [
    "sns.heatmap(df[num_bsmt_feat].isnull())"
   ]
  },
  {
   "cell_type": "code",
   "execution_count": 179,
   "metadata": {},
   "outputs": [
    {
     "data": {
      "text/html": [
       "<div>\n",
       "<style scoped>\n",
       "    .dataframe tbody tr th:only-of-type {\n",
       "        vertical-align: middle;\n",
       "    }\n",
       "\n",
       "    .dataframe tbody tr th {\n",
       "        vertical-align: top;\n",
       "    }\n",
       "\n",
       "    .dataframe thead th {\n",
       "        text-align: right;\n",
       "    }\n",
       "</style>\n",
       "<table border=\"1\" class=\"dataframe\">\n",
       "  <thead>\n",
       "    <tr style=\"text-align: right;\">\n",
       "      <th></th>\n",
       "      <th>BsmtQual</th>\n",
       "      <th>BsmtCond</th>\n",
       "      <th>BsmtExposure</th>\n",
       "      <th>BsmtFinType1</th>\n",
       "      <th>BsmtFinType2</th>\n",
       "      <th>BsmtFinSF1</th>\n",
       "      <th>BsmtFinSF2</th>\n",
       "      <th>BsmtUnfSF</th>\n",
       "      <th>TotalBsmtSF</th>\n",
       "      <th>BsmtFullBath</th>\n",
       "      <th>BsmtHalfBath</th>\n",
       "    </tr>\n",
       "    <tr>\n",
       "      <th>Id</th>\n",
       "      <th></th>\n",
       "      <th></th>\n",
       "      <th></th>\n",
       "      <th></th>\n",
       "      <th></th>\n",
       "      <th></th>\n",
       "      <th></th>\n",
       "      <th></th>\n",
       "      <th></th>\n",
       "      <th></th>\n",
       "      <th></th>\n",
       "    </tr>\n",
       "  </thead>\n",
       "  <tbody>\n",
       "    <tr>\n",
       "      <th>18</th>\n",
       "      <td>NaN</td>\n",
       "      <td>NaN</td>\n",
       "      <td>NaN</td>\n",
       "      <td>NaN</td>\n",
       "      <td>NaN</td>\n",
       "      <td>0.0</td>\n",
       "      <td>0.0</td>\n",
       "      <td>0.0</td>\n",
       "      <td>0.0</td>\n",
       "      <td>0.0</td>\n",
       "      <td>0.0</td>\n",
       "    </tr>\n",
       "    <tr>\n",
       "      <th>40</th>\n",
       "      <td>NaN</td>\n",
       "      <td>NaN</td>\n",
       "      <td>NaN</td>\n",
       "      <td>NaN</td>\n",
       "      <td>NaN</td>\n",
       "      <td>0.0</td>\n",
       "      <td>0.0</td>\n",
       "      <td>0.0</td>\n",
       "      <td>0.0</td>\n",
       "      <td>0.0</td>\n",
       "      <td>0.0</td>\n",
       "    </tr>\n",
       "    <tr>\n",
       "      <th>91</th>\n",
       "      <td>NaN</td>\n",
       "      <td>NaN</td>\n",
       "      <td>NaN</td>\n",
       "      <td>NaN</td>\n",
       "      <td>NaN</td>\n",
       "      <td>0.0</td>\n",
       "      <td>0.0</td>\n",
       "      <td>0.0</td>\n",
       "      <td>0.0</td>\n",
       "      <td>0.0</td>\n",
       "      <td>0.0</td>\n",
       "    </tr>\n",
       "    <tr>\n",
       "      <th>103</th>\n",
       "      <td>NaN</td>\n",
       "      <td>NaN</td>\n",
       "      <td>NaN</td>\n",
       "      <td>NaN</td>\n",
       "      <td>NaN</td>\n",
       "      <td>0.0</td>\n",
       "      <td>0.0</td>\n",
       "      <td>0.0</td>\n",
       "      <td>0.0</td>\n",
       "      <td>0.0</td>\n",
       "      <td>0.0</td>\n",
       "    </tr>\n",
       "    <tr>\n",
       "      <th>157</th>\n",
       "      <td>NaN</td>\n",
       "      <td>NaN</td>\n",
       "      <td>NaN</td>\n",
       "      <td>NaN</td>\n",
       "      <td>NaN</td>\n",
       "      <td>0.0</td>\n",
       "      <td>0.0</td>\n",
       "      <td>0.0</td>\n",
       "      <td>0.0</td>\n",
       "      <td>0.0</td>\n",
       "      <td>0.0</td>\n",
       "    </tr>\n",
       "    <tr>\n",
       "      <th>...</th>\n",
       "      <td>...</td>\n",
       "      <td>...</td>\n",
       "      <td>...</td>\n",
       "      <td>...</td>\n",
       "      <td>...</td>\n",
       "      <td>...</td>\n",
       "      <td>...</td>\n",
       "      <td>...</td>\n",
       "      <td>...</td>\n",
       "      <td>...</td>\n",
       "      <td>...</td>\n",
       "    </tr>\n",
       "    <tr>\n",
       "      <th>2804</th>\n",
       "      <td>NaN</td>\n",
       "      <td>NaN</td>\n",
       "      <td>NaN</td>\n",
       "      <td>NaN</td>\n",
       "      <td>NaN</td>\n",
       "      <td>0.0</td>\n",
       "      <td>0.0</td>\n",
       "      <td>0.0</td>\n",
       "      <td>0.0</td>\n",
       "      <td>0.0</td>\n",
       "      <td>0.0</td>\n",
       "    </tr>\n",
       "    <tr>\n",
       "      <th>2805</th>\n",
       "      <td>NaN</td>\n",
       "      <td>NaN</td>\n",
       "      <td>NaN</td>\n",
       "      <td>NaN</td>\n",
       "      <td>NaN</td>\n",
       "      <td>0.0</td>\n",
       "      <td>0.0</td>\n",
       "      <td>0.0</td>\n",
       "      <td>0.0</td>\n",
       "      <td>0.0</td>\n",
       "      <td>0.0</td>\n",
       "    </tr>\n",
       "    <tr>\n",
       "      <th>2825</th>\n",
       "      <td>NaN</td>\n",
       "      <td>NaN</td>\n",
       "      <td>NaN</td>\n",
       "      <td>NaN</td>\n",
       "      <td>NaN</td>\n",
       "      <td>0.0</td>\n",
       "      <td>0.0</td>\n",
       "      <td>0.0</td>\n",
       "      <td>0.0</td>\n",
       "      <td>0.0</td>\n",
       "      <td>0.0</td>\n",
       "    </tr>\n",
       "    <tr>\n",
       "      <th>2892</th>\n",
       "      <td>NaN</td>\n",
       "      <td>NaN</td>\n",
       "      <td>NaN</td>\n",
       "      <td>NaN</td>\n",
       "      <td>NaN</td>\n",
       "      <td>0.0</td>\n",
       "      <td>0.0</td>\n",
       "      <td>0.0</td>\n",
       "      <td>0.0</td>\n",
       "      <td>0.0</td>\n",
       "      <td>0.0</td>\n",
       "    </tr>\n",
       "    <tr>\n",
       "      <th>2905</th>\n",
       "      <td>NaN</td>\n",
       "      <td>NaN</td>\n",
       "      <td>NaN</td>\n",
       "      <td>NaN</td>\n",
       "      <td>NaN</td>\n",
       "      <td>0.0</td>\n",
       "      <td>0.0</td>\n",
       "      <td>0.0</td>\n",
       "      <td>0.0</td>\n",
       "      <td>0.0</td>\n",
       "      <td>0.0</td>\n",
       "    </tr>\n",
       "  </tbody>\n",
       "</table>\n",
       "<p>88 rows × 11 columns</p>\n",
       "</div>"
      ],
      "text/plain": [
       "     BsmtQual BsmtCond BsmtExposure BsmtFinType1 BsmtFinType2  BsmtFinSF1  \\\n",
       "Id                                                                          \n",
       "18        NaN      NaN          NaN          NaN          NaN         0.0   \n",
       "40        NaN      NaN          NaN          NaN          NaN         0.0   \n",
       "91        NaN      NaN          NaN          NaN          NaN         0.0   \n",
       "103       NaN      NaN          NaN          NaN          NaN         0.0   \n",
       "157       NaN      NaN          NaN          NaN          NaN         0.0   \n",
       "...       ...      ...          ...          ...          ...         ...   \n",
       "2804      NaN      NaN          NaN          NaN          NaN         0.0   \n",
       "2805      NaN      NaN          NaN          NaN          NaN         0.0   \n",
       "2825      NaN      NaN          NaN          NaN          NaN         0.0   \n",
       "2892      NaN      NaN          NaN          NaN          NaN         0.0   \n",
       "2905      NaN      NaN          NaN          NaN          NaN         0.0   \n",
       "\n",
       "      BsmtFinSF2  BsmtUnfSF  TotalBsmtSF  BsmtFullBath  BsmtHalfBath  \n",
       "Id                                                                    \n",
       "18           0.0        0.0          0.0           0.0           0.0  \n",
       "40           0.0        0.0          0.0           0.0           0.0  \n",
       "91           0.0        0.0          0.0           0.0           0.0  \n",
       "103          0.0        0.0          0.0           0.0           0.0  \n",
       "157          0.0        0.0          0.0           0.0           0.0  \n",
       "...          ...        ...          ...           ...           ...  \n",
       "2804         0.0        0.0          0.0           0.0           0.0  \n",
       "2805         0.0        0.0          0.0           0.0           0.0  \n",
       "2825         0.0        0.0          0.0           0.0           0.0  \n",
       "2892         0.0        0.0          0.0           0.0           0.0  \n",
       "2905         0.0        0.0          0.0           0.0           0.0  \n",
       "\n",
       "[88 rows x 11 columns]"
      ]
     },
     "execution_count": 179,
     "metadata": {},
     "output_type": "execute_result"
    }
   ],
   "source": [
    "df_bsmt = df[cat_bsmt_feat + num_bsmt_feat]\n",
    "df_bsmt[df_bsmt.isnull().any(axis=1)]"
   ]
  },
  {
   "cell_type": "code",
   "execution_count": 180,
   "metadata": {},
   "outputs": [],
   "source": [
    "bsmt_num = 0\n",
    "for feat in num_bsmt_feat:\n",
    "   df_mvi[feat].replace(np.nan, bsmt_num, inplace=True )"
   ]
  },
  {
   "cell_type": "code",
   "execution_count": 181,
   "metadata": {},
   "outputs": [
    {
     "data": {
      "text/plain": [
       "BsmtFinSF1      0\n",
       "BsmtFinSF2      0\n",
       "BsmtUnfSF       0\n",
       "TotalBsmtSF     0\n",
       "BsmtFullBath    0\n",
       "BsmtHalfBath    0\n",
       "dtype: int64"
      ]
     },
     "execution_count": 181,
     "metadata": {},
     "output_type": "execute_result"
    }
   ],
   "source": [
    "df_mvi[num_bsmt_feat].isnull().sum()"
   ]
  },
  {
   "cell_type": "markdown",
   "metadata": {},
   "source": [
    "## Handling Electrical = 0.034258 KitchnQual = 0.034285"
   ]
  },
  {
   "cell_type": "code",
   "execution_count": 182,
   "metadata": {},
   "outputs": [
    {
     "data": {
      "text/plain": [
       "Electrical\n",
       "SBrkr    2671\n",
       "FuseA     188\n",
       "FuseF      50\n",
       "FuseP       8\n",
       "Mix         1\n",
       "Name: count, dtype: int64"
      ]
     },
     "execution_count": 182,
     "metadata": {},
     "output_type": "execute_result"
    }
   ],
   "source": [
    "df[\"Electrical\"].value_counts()"
   ]
  },
  {
   "cell_type": "code",
   "execution_count": 183,
   "metadata": {},
   "outputs": [
    {
     "data": {
      "text/plain": [
       "KitchenQual\n",
       "TA    1492\n",
       "Gd    1151\n",
       "Ex     205\n",
       "Fa      70\n",
       "Name: count, dtype: int64"
      ]
     },
     "execution_count": 183,
     "metadata": {},
     "output_type": "execute_result"
    }
   ],
   "source": [
    "df[\"KitchenQual\"].value_counts()"
   ]
  },
  {
   "cell_type": "code",
   "execution_count": 184,
   "metadata": {},
   "outputs": [
    {
     "data": {
      "text/html": [
       "<div>\n",
       "<style scoped>\n",
       "    .dataframe tbody tr th:only-of-type {\n",
       "        vertical-align: middle;\n",
       "    }\n",
       "\n",
       "    .dataframe tbody tr th {\n",
       "        vertical-align: top;\n",
       "    }\n",
       "\n",
       "    .dataframe thead th {\n",
       "        text-align: right;\n",
       "    }\n",
       "</style>\n",
       "<table border=\"1\" class=\"dataframe\">\n",
       "  <thead>\n",
       "    <tr style=\"text-align: right;\">\n",
       "      <th></th>\n",
       "      <th>Electrical</th>\n",
       "      <th>KitchenQual</th>\n",
       "      <th>KitchenAbvGr</th>\n",
       "    </tr>\n",
       "    <tr>\n",
       "      <th>Id</th>\n",
       "      <th></th>\n",
       "      <th></th>\n",
       "      <th></th>\n",
       "    </tr>\n",
       "  </thead>\n",
       "  <tbody>\n",
       "    <tr>\n",
       "      <th>1380</th>\n",
       "      <td>NaN</td>\n",
       "      <td>Gd</td>\n",
       "      <td>1</td>\n",
       "    </tr>\n",
       "    <tr>\n",
       "      <th>1556</th>\n",
       "      <td>SBrkr</td>\n",
       "      <td>NaN</td>\n",
       "      <td>1</td>\n",
       "    </tr>\n",
       "  </tbody>\n",
       "</table>\n",
       "</div>"
      ],
      "text/plain": [
       "     Electrical KitchenQual  KitchenAbvGr\n",
       "Id                                       \n",
       "1380        NaN          Gd             1\n",
       "1556      SBrkr         NaN             1"
      ]
     },
     "execution_count": 184,
     "metadata": {},
     "output_type": "execute_result"
    }
   ],
   "source": [
    "df_ekk = df[[\"Electrical\", \"KitchenQual\" , \"KitchenAbvGr\"]]\n",
    "df_ekk[df_ekk.isnull().any(axis=1)]"
   ]
  },
  {
   "cell_type": "code",
   "execution_count": 185,
   "metadata": {},
   "outputs": [
    {
     "data": {
      "text/plain": [
       "0"
      ]
     },
     "execution_count": 185,
     "metadata": {},
     "output_type": "execute_result"
    }
   ],
   "source": [
    "Electrical_mode = df_mvi[\"Electrical\"].mode()[0]\n",
    "df_mvi[\"Electrical\"].replace(np.nan,Electrical_mode, inplace=True)\n",
    "df_mvi[\"Electrical\"].isnull().sum()"
   ]
  },
  {
   "cell_type": "code",
   "execution_count": 186,
   "metadata": {},
   "outputs": [
    {
     "data": {
      "text/plain": [
       "0"
      ]
     },
     "execution_count": 186,
     "metadata": {},
     "output_type": "execute_result"
    }
   ],
   "source": [
    "KitchenQual_mode = df_mvi[\"KitchenQual\"].mode()[0]\n",
    "df_mvi[\"KitchenQual\"].replace(np.nan,KitchenQual_mode, inplace=True)\n",
    "df_mvi[\"KitchenQual\"].isnull().sum()"
   ]
  },
  {
   "cell_type": "markdown",
   "metadata": {},
   "source": [
    "# hendling Remaining cat feature\n"
   ]
  },
  {
   "cell_type": "markdown",
   "metadata": {},
   "source": [
    "Functional       0.068517\n",
    "FireplaceQu     48.646797\n",
    "PoolQC          99.657417\n",
    "Fence           80.438506\n",
    "MiscFeature     96.402878\n",
    "SaleType         0.034258\n",
    "SalePrice       49.982871\n",
    "\n",
    "GarageType       5.378554\n",
    "GarageYrBlt      5.447071\n",
    "GarageFinish     5.447071\n",
    "GarageCars       0.034258\n",
    "GarageArea       0.034258\n",
    "GarageQual       5.447071\n",
    "GarageCond       5.447071"
   ]
  },
  {
   "cell_type": "code",
   "execution_count": 187,
   "metadata": {},
   "outputs": [
    {
     "data": {
      "text/plain": [
       "Functional\n",
       "Typ     2717\n",
       "Min2      70\n",
       "Min1      65\n",
       "Mod       35\n",
       "Maj1      19\n",
       "Maj2       9\n",
       "Sev        2\n",
       "Name: count, dtype: int64"
      ]
     },
     "execution_count": 187,
     "metadata": {},
     "output_type": "execute_result"
    }
   ],
   "source": [
    "df[\"Functional\"].value_counts()"
   ]
  },
  {
   "cell_type": "code",
   "execution_count": 188,
   "metadata": {},
   "outputs": [
    {
     "data": {
      "text/plain": [
       "SaleType\n",
       "WD       2525\n",
       "New       239\n",
       "COD        87\n",
       "ConLD      26\n",
       "CWD        12\n",
       "ConLI       9\n",
       "ConLw       8\n",
       "Oth         7\n",
       "Con         5\n",
       "Name: count, dtype: int64"
      ]
     },
     "execution_count": 188,
     "metadata": {},
     "output_type": "execute_result"
    }
   ],
   "source": [
    "df[\"SaleType\"].value_counts()"
   ]
  },
  {
   "cell_type": "code",
   "execution_count": 189,
   "metadata": {},
   "outputs": [
    {
     "data": {
      "text/plain": [
       "0"
      ]
     },
     "execution_count": 189,
     "metadata": {},
     "output_type": "execute_result"
    }
   ],
   "source": [
    "Functional_mode = df_mvi[\"Functional\"].mode()[0]\n",
    "df_mvi[\"Functional\"].replace(np.nan,Functional_mode, inplace=True)\n",
    "df_mvi[\"Functional\"].isnull().sum()"
   ]
  },
  {
   "cell_type": "code",
   "execution_count": 190,
   "metadata": {},
   "outputs": [
    {
     "data": {
      "text/plain": [
       "0"
      ]
     },
     "execution_count": 190,
     "metadata": {},
     "output_type": "execute_result"
    }
   ],
   "source": [
    "SaleType_mode = df_mvi[\"SaleType\"].mode()[0]\n",
    "df_mvi[\"SaleType\"].replace(np.nan,SaleType_mode, inplace=True)\n",
    "df_mvi[\"SaleType\"].isnull().sum()"
   ]
  },
  {
   "cell_type": "code",
   "execution_count": 191,
   "metadata": {},
   "outputs": [
    {
     "name": "stdout",
     "output_type": "stream",
     "text": [
      "value count of FireplaceQu:FireplaceQu\n",
      "Gd    744\n",
      "TA    592\n",
      "Fa     74\n",
      "Po     46\n",
      "Ex     43\n",
      "Name: count, dtype: int64\n",
      "value count of PoolQC:PoolQC\n",
      "Ex    4\n",
      "Gd    4\n",
      "Fa    2\n",
      "Name: count, dtype: int64\n",
      "value count of Fence:Fence\n",
      "MnPrv    329\n",
      "GdPrv    118\n",
      "GdWo     112\n",
      "MnWw      12\n",
      "Name: count, dtype: int64\n",
      "value count of MiscFeature:MiscFeature\n",
      "Shed    95\n",
      "Gar2     5\n",
      "Othr     4\n",
      "TenC     1\n",
      "Name: count, dtype: int64\n",
      "value count of SaleType:SaleType\n",
      "WD       2525\n",
      "New       239\n",
      "COD        87\n",
      "ConLD      26\n",
      "CWD        12\n",
      "ConLI       9\n",
      "ConLw       8\n",
      "Oth         7\n",
      "Con         5\n",
      "Name: count, dtype: int64\n",
      "value count of SalePrice:SalePrice\n",
      "140000.0    20\n",
      "135000.0    17\n",
      "155000.0    14\n",
      "145000.0    14\n",
      "190000.0    13\n",
      "            ..\n",
      "202665.0     1\n",
      "164900.0     1\n",
      "208300.0     1\n",
      "181500.0     1\n",
      "147500.0     1\n",
      "Name: count, Length: 663, dtype: int64\n"
     ]
    }
   ],
   "source": [
    "other_cat_feat =[\"FireplaceQu\",\n",
    "\"PoolQC\",     \n",
    "\"Fence\" ,      \n",
    "\"MiscFeature\", \n",
    "\"SaleType\"  ,  \n",
    "\"SalePrice\"]\n",
    "\n",
    "for feat in other_cat_feat:\n",
    "    print(f\"value count of {feat}:{df[feat].value_counts()}\")"
   ]
  },
  {
   "cell_type": "code",
   "execution_count": 192,
   "metadata": {},
   "outputs": [
    {
     "data": {
      "text/plain": [
       "0"
      ]
     },
     "execution_count": 192,
     "metadata": {},
     "output_type": "execute_result"
    }
   ],
   "source": [
    "FireplaceQu_cont =\"NA\"\n",
    "df_mvi[\"FireplaceQu\"].replace(np.nan,FireplaceQu_cont, inplace=True)\n",
    "df_mvi[\"FireplaceQu\"].isnull().sum()\n"
   ]
  },
  {
   "cell_type": "code",
   "execution_count": 193,
   "metadata": {},
   "outputs": [
    {
     "data": {
      "text/plain": [
       "0"
      ]
     },
     "execution_count": 193,
     "metadata": {},
     "output_type": "execute_result"
    }
   ],
   "source": [
    "PoolQC_cont =\"NA\"\n",
    "df_mvi[\"PoolQC\"].replace(np.nan,PoolQC_cont, inplace=True)\n",
    "df_mvi[\"PoolQC\"].isnull().sum()"
   ]
  },
  {
   "cell_type": "code",
   "execution_count": 194,
   "metadata": {},
   "outputs": [
    {
     "data": {
      "text/plain": [
       "0"
      ]
     },
     "execution_count": 194,
     "metadata": {},
     "output_type": "execute_result"
    }
   ],
   "source": [
    "Fence_cont=\"NA\"\n",
    "df_mvi[\"Fence\"].replace(np.nan,Fence_cont, inplace=True)\n",
    "df_mvi[\"Fence\"].isnull().sum()"
   ]
  },
  {
   "cell_type": "code",
   "execution_count": 195,
   "metadata": {},
   "outputs": [
    {
     "data": {
      "text/plain": [
       "0"
      ]
     },
     "execution_count": 195,
     "metadata": {},
     "output_type": "execute_result"
    }
   ],
   "source": [
    "MiscFeature_cont =\"NA\"\n",
    "df_mvi[\"MiscFeature\"].replace(np.nan,MiscFeature_cont, inplace=True)\n",
    "df_mvi[\"MiscFeature\"].isnull().sum()"
   ]
  },
  {
   "cell_type": "code",
   "execution_count": 196,
   "metadata": {},
   "outputs": [
    {
     "data": {
      "text/plain": [
       "0"
      ]
     },
     "execution_count": 196,
     "metadata": {},
     "output_type": "execute_result"
    }
   ],
   "source": [
    "SaleType_cont =\"NA\"\n",
    "df_mvi[\"SaleType\"].replace(np.nan,SaleType_cont, inplace=True)\n",
    "df_mvi[\"SaleType\"].isnull().sum()"
   ]
  },
  {
   "cell_type": "code",
   "execution_count": 197,
   "metadata": {},
   "outputs": [
    {
     "data": {
      "text/plain": [
       "0"
      ]
     },
     "execution_count": 197,
     "metadata": {},
     "output_type": "execute_result"
    }
   ],
   "source": [
    "SaleType_cont =\"NA\"\n",
    "df_mvi[\"SaleType\"].replace(np.nan,SaleType_cont, inplace=True)\n",
    "df_mvi[\"SaleType\"].isnull().sum()"
   ]
  },
  {
   "cell_type": "code",
   "execution_count": 198,
   "metadata": {},
   "outputs": [],
   "source": [
    "gar_cat_feat= [\"GarageType\",   \n",
    "\"GarageQual\",\"GarageCond\", \"GarageFinish\"\n",
    "]\n",
    "gar_num_feat = [\"GarageArea\",\"GarageCars\",\"GarageYrBlt\"]"
   ]
  },
  {
   "cell_type": "code",
   "execution_count": 199,
   "metadata": {},
   "outputs": [
    {
     "data": {
      "text/html": [
       "<div>\n",
       "<style scoped>\n",
       "    .dataframe tbody tr th:only-of-type {\n",
       "        vertical-align: middle;\n",
       "    }\n",
       "\n",
       "    .dataframe tbody tr th {\n",
       "        vertical-align: top;\n",
       "    }\n",
       "\n",
       "    .dataframe thead th {\n",
       "        text-align: right;\n",
       "    }\n",
       "</style>\n",
       "<table border=\"1\" class=\"dataframe\">\n",
       "  <thead>\n",
       "    <tr style=\"text-align: right;\">\n",
       "      <th></th>\n",
       "      <th>GarageType</th>\n",
       "      <th>GarageQual</th>\n",
       "      <th>GarageCond</th>\n",
       "      <th>GarageFinish</th>\n",
       "      <th>GarageArea</th>\n",
       "      <th>GarageCars</th>\n",
       "      <th>GarageYrBlt</th>\n",
       "    </tr>\n",
       "    <tr>\n",
       "      <th>Id</th>\n",
       "      <th></th>\n",
       "      <th></th>\n",
       "      <th></th>\n",
       "      <th></th>\n",
       "      <th></th>\n",
       "      <th></th>\n",
       "      <th></th>\n",
       "    </tr>\n",
       "  </thead>\n",
       "  <tbody>\n",
       "    <tr>\n",
       "      <th>40</th>\n",
       "      <td>NaN</td>\n",
       "      <td>NaN</td>\n",
       "      <td>NaN</td>\n",
       "      <td>NaN</td>\n",
       "      <td>0.0</td>\n",
       "      <td>0.0</td>\n",
       "      <td>NaN</td>\n",
       "    </tr>\n",
       "    <tr>\n",
       "      <th>49</th>\n",
       "      <td>NaN</td>\n",
       "      <td>NaN</td>\n",
       "      <td>NaN</td>\n",
       "      <td>NaN</td>\n",
       "      <td>0.0</td>\n",
       "      <td>0.0</td>\n",
       "      <td>NaN</td>\n",
       "    </tr>\n",
       "    <tr>\n",
       "      <th>79</th>\n",
       "      <td>NaN</td>\n",
       "      <td>NaN</td>\n",
       "      <td>NaN</td>\n",
       "      <td>NaN</td>\n",
       "      <td>0.0</td>\n",
       "      <td>0.0</td>\n",
       "      <td>NaN</td>\n",
       "    </tr>\n",
       "    <tr>\n",
       "      <th>89</th>\n",
       "      <td>NaN</td>\n",
       "      <td>NaN</td>\n",
       "      <td>NaN</td>\n",
       "      <td>NaN</td>\n",
       "      <td>0.0</td>\n",
       "      <td>0.0</td>\n",
       "      <td>NaN</td>\n",
       "    </tr>\n",
       "    <tr>\n",
       "      <th>90</th>\n",
       "      <td>NaN</td>\n",
       "      <td>NaN</td>\n",
       "      <td>NaN</td>\n",
       "      <td>NaN</td>\n",
       "      <td>0.0</td>\n",
       "      <td>0.0</td>\n",
       "      <td>NaN</td>\n",
       "    </tr>\n",
       "    <tr>\n",
       "      <th>...</th>\n",
       "      <td>...</td>\n",
       "      <td>...</td>\n",
       "      <td>...</td>\n",
       "      <td>...</td>\n",
       "      <td>...</td>\n",
       "      <td>...</td>\n",
       "      <td>...</td>\n",
       "    </tr>\n",
       "    <tr>\n",
       "      <th>2894</th>\n",
       "      <td>NaN</td>\n",
       "      <td>NaN</td>\n",
       "      <td>NaN</td>\n",
       "      <td>NaN</td>\n",
       "      <td>0.0</td>\n",
       "      <td>0.0</td>\n",
       "      <td>NaN</td>\n",
       "    </tr>\n",
       "    <tr>\n",
       "      <th>2910</th>\n",
       "      <td>NaN</td>\n",
       "      <td>NaN</td>\n",
       "      <td>NaN</td>\n",
       "      <td>NaN</td>\n",
       "      <td>0.0</td>\n",
       "      <td>0.0</td>\n",
       "      <td>NaN</td>\n",
       "    </tr>\n",
       "    <tr>\n",
       "      <th>2914</th>\n",
       "      <td>NaN</td>\n",
       "      <td>NaN</td>\n",
       "      <td>NaN</td>\n",
       "      <td>NaN</td>\n",
       "      <td>0.0</td>\n",
       "      <td>0.0</td>\n",
       "      <td>NaN</td>\n",
       "    </tr>\n",
       "    <tr>\n",
       "      <th>2915</th>\n",
       "      <td>NaN</td>\n",
       "      <td>NaN</td>\n",
       "      <td>NaN</td>\n",
       "      <td>NaN</td>\n",
       "      <td>0.0</td>\n",
       "      <td>0.0</td>\n",
       "      <td>NaN</td>\n",
       "    </tr>\n",
       "    <tr>\n",
       "      <th>2918</th>\n",
       "      <td>NaN</td>\n",
       "      <td>NaN</td>\n",
       "      <td>NaN</td>\n",
       "      <td>NaN</td>\n",
       "      <td>0.0</td>\n",
       "      <td>0.0</td>\n",
       "      <td>NaN</td>\n",
       "    </tr>\n",
       "  </tbody>\n",
       "</table>\n",
       "<p>159 rows × 7 columns</p>\n",
       "</div>"
      ],
      "text/plain": [
       "     GarageType GarageQual GarageCond GarageFinish  GarageArea  GarageCars  \\\n",
       "Id                                                                           \n",
       "40          NaN        NaN        NaN          NaN         0.0         0.0   \n",
       "49          NaN        NaN        NaN          NaN         0.0         0.0   \n",
       "79          NaN        NaN        NaN          NaN         0.0         0.0   \n",
       "89          NaN        NaN        NaN          NaN         0.0         0.0   \n",
       "90          NaN        NaN        NaN          NaN         0.0         0.0   \n",
       "...         ...        ...        ...          ...         ...         ...   \n",
       "2894        NaN        NaN        NaN          NaN         0.0         0.0   \n",
       "2910        NaN        NaN        NaN          NaN         0.0         0.0   \n",
       "2914        NaN        NaN        NaN          NaN         0.0         0.0   \n",
       "2915        NaN        NaN        NaN          NaN         0.0         0.0   \n",
       "2918        NaN        NaN        NaN          NaN         0.0         0.0   \n",
       "\n",
       "      GarageYrBlt  \n",
       "Id                 \n",
       "40            NaN  \n",
       "49            NaN  \n",
       "79            NaN  \n",
       "89            NaN  \n",
       "90            NaN  \n",
       "...           ...  \n",
       "2894          NaN  \n",
       "2910          NaN  \n",
       "2914          NaN  \n",
       "2915          NaN  \n",
       "2918          NaN  \n",
       "\n",
       "[159 rows x 7 columns]"
      ]
     },
     "execution_count": 199,
     "metadata": {},
     "output_type": "execute_result"
    }
   ],
   "source": [
    "df_garafe = df[gar_cat_feat + gar_num_feat]\n",
    "df_garafe[df_garafe.isnull().any(axis=1)]"
   ]
  },
  {
   "cell_type": "code",
   "execution_count": 200,
   "metadata": {},
   "outputs": [
    {
     "data": {
      "text/plain": [
       "GarageType      0\n",
       "GarageQual      0\n",
       "GarageCond      0\n",
       "GarageFinish    0\n",
       "dtype: int64"
      ]
     },
     "execution_count": 200,
     "metadata": {},
     "output_type": "execute_result"
    }
   ],
   "source": [
    "garage_cont= \"NA\"\n",
    "for feat in gar_cat_feat:\n",
    "    df_mvi[feat].replace(np.nan, garage_cont, inplace=True)\n",
    "df_mvi[gar_cat_feat].isnull().sum()"
   ]
  },
  {
   "cell_type": "code",
   "execution_count": 201,
   "metadata": {},
   "outputs": [
    {
     "data": {
      "text/plain": [
       "GarageArea     0\n",
       "GarageCars     0\n",
       "GarageYrBlt    0\n",
       "dtype: int64"
      ]
     },
     "execution_count": 201,
     "metadata": {},
     "output_type": "execute_result"
    }
   ],
   "source": [
    "garage_num= 0\n",
    "for feat in gar_num_feat:\n",
    "    df_mvi[feat].replace(np.nan, garage_num, inplace=True)\n",
    "df_mvi[gar_num_feat].isnull().sum()"
   ]
  },
  {
   "cell_type": "code",
   "execution_count": 202,
   "metadata": {},
   "outputs": [
    {
     "data": {
      "text/plain": [
       "MSSubClass          0\n",
       "MSZoning            0\n",
       "LotFrontage         0\n",
       "LotArea             0\n",
       "Street              0\n",
       "                 ... \n",
       "MoSold              0\n",
       "YrSold              0\n",
       "SaleType            0\n",
       "SaleCondition       0\n",
       "SalePrice        1459\n",
       "Length: 80, dtype: int64"
      ]
     },
     "execution_count": 202,
     "metadata": {},
     "output_type": "execute_result"
    }
   ],
   "source": [
    "df_mvi.isnull().sum()"
   ]
  },
  {
   "cell_type": "markdown",
   "metadata": {},
   "source": [
    "## feature transformation"
   ]
  },
  {
   "cell_type": "markdown",
   "metadata": {},
   "source": [
    "Convert numerical Feature to catagorical feature"
   ]
  },
  {
   "cell_type": "code",
   "execution_count": 203,
   "metadata": {},
   "outputs": [
    {
     "name": "stdout",
     "output_type": "stream",
     "text": [
      "MSSubClass: data type = int64\n",
      "YearBuilt: data type = int64\n",
      "YearRemodAdd: data type = int64\n",
      "GarageYrBlt: data type = float64\n",
      "MoSold: data type = int64\n",
      "YrSold: data type = int64\n"
     ]
    }
   ],
   "source": [
    "for_num_conv = [\"MSSubClass\", \"YearBuilt\", \"YearRemodAdd\", \"GarageYrBlt\", \"MoSold\", \"YrSold\"]\n",
    "for feat in for_num_conv:\n",
    "    print(f\"{feat}: data type = {df_mvi[feat].dtype}\")"
   ]
  },
  {
   "cell_type": "code",
   "execution_count": 204,
   "metadata": {},
   "outputs": [
    {
     "data": {
      "text/html": [
       "<div>\n",
       "<style scoped>\n",
       "    .dataframe tbody tr th:only-of-type {\n",
       "        vertical-align: middle;\n",
       "    }\n",
       "\n",
       "    .dataframe tbody tr th {\n",
       "        vertical-align: top;\n",
       "    }\n",
       "\n",
       "    .dataframe thead th {\n",
       "        text-align: right;\n",
       "    }\n",
       "</style>\n",
       "<table border=\"1\" class=\"dataframe\">\n",
       "  <thead>\n",
       "    <tr style=\"text-align: right;\">\n",
       "      <th></th>\n",
       "      <th>MSSubClass</th>\n",
       "      <th>YearBuilt</th>\n",
       "      <th>YearRemodAdd</th>\n",
       "      <th>GarageYrBlt</th>\n",
       "      <th>MoSold</th>\n",
       "      <th>YrSold</th>\n",
       "    </tr>\n",
       "    <tr>\n",
       "      <th>Id</th>\n",
       "      <th></th>\n",
       "      <th></th>\n",
       "      <th></th>\n",
       "      <th></th>\n",
       "      <th></th>\n",
       "      <th></th>\n",
       "    </tr>\n",
       "  </thead>\n",
       "  <tbody>\n",
       "    <tr>\n",
       "      <th>1</th>\n",
       "      <td>60</td>\n",
       "      <td>2003</td>\n",
       "      <td>2003</td>\n",
       "      <td>2003.0</td>\n",
       "      <td>2</td>\n",
       "      <td>2008</td>\n",
       "    </tr>\n",
       "    <tr>\n",
       "      <th>2</th>\n",
       "      <td>20</td>\n",
       "      <td>1976</td>\n",
       "      <td>1976</td>\n",
       "      <td>1976.0</td>\n",
       "      <td>5</td>\n",
       "      <td>2007</td>\n",
       "    </tr>\n",
       "    <tr>\n",
       "      <th>3</th>\n",
       "      <td>60</td>\n",
       "      <td>2001</td>\n",
       "      <td>2002</td>\n",
       "      <td>2001.0</td>\n",
       "      <td>9</td>\n",
       "      <td>2008</td>\n",
       "    </tr>\n",
       "    <tr>\n",
       "      <th>4</th>\n",
       "      <td>70</td>\n",
       "      <td>1915</td>\n",
       "      <td>1970</td>\n",
       "      <td>1998.0</td>\n",
       "      <td>2</td>\n",
       "      <td>2006</td>\n",
       "    </tr>\n",
       "    <tr>\n",
       "      <th>5</th>\n",
       "      <td>60</td>\n",
       "      <td>2000</td>\n",
       "      <td>2000</td>\n",
       "      <td>2000.0</td>\n",
       "      <td>12</td>\n",
       "      <td>2008</td>\n",
       "    </tr>\n",
       "  </tbody>\n",
       "</table>\n",
       "</div>"
      ],
      "text/plain": [
       "    MSSubClass  YearBuilt  YearRemodAdd  GarageYrBlt  MoSold  YrSold\n",
       "Id                                                                  \n",
       "1           60       2003          2003       2003.0       2    2008\n",
       "2           20       1976          1976       1976.0       5    2007\n",
       "3           60       2001          2002       2001.0       9    2008\n",
       "4           70       1915          1970       1998.0       2    2006\n",
       "5           60       2000          2000       2000.0      12    2008"
      ]
     },
     "execution_count": 204,
     "metadata": {},
     "output_type": "execute_result"
    }
   ],
   "source": [
    "df_mvi[for_num_conv].head()"
   ]
  },
  {
   "cell_type": "code",
   "execution_count": 205,
   "metadata": {},
   "outputs": [
    {
     "data": {
      "text/plain": [
       "array([ 2,  5,  9, 12, 10,  8, 11,  4,  1,  7,  3,  6], dtype=int64)"
      ]
     },
     "execution_count": 205,
     "metadata": {},
     "output_type": "execute_result"
    }
   ],
   "source": [
    "df_mvi[\"MoSold\"].unique()"
   ]
  },
  {
   "cell_type": "code",
   "execution_count": 206,
   "metadata": {},
   "outputs": [
    {
     "data": {
      "text/plain": [
       "'Dec'"
      ]
     },
     "execution_count": 206,
     "metadata": {},
     "output_type": "execute_result"
    }
   ],
   "source": [
    "calendar.month_abbr[12]"
   ]
  },
  {
   "cell_type": "code",
   "execution_count": 207,
   "metadata": {},
   "outputs": [
    {
     "data": {
      "text/plain": [
       "array(['Feb', 'May', 'Sep', 'Dec', 'Oct', 'Aug', 'Nov', 'Apr', 'Jan',\n",
       "       'Jul', 'Mar', 'Jun'], dtype=object)"
      ]
     },
     "execution_count": 207,
     "metadata": {},
     "output_type": "execute_result"
    }
   ],
   "source": [
    "df_mvi[\"MoSold\"] = df_mvi[\"MoSold\"].apply(lambda x : calendar.month_abbr[x])\n",
    "df_mvi[\"MoSold\"].unique()"
   ]
  },
  {
   "cell_type": "code",
   "execution_count": 208,
   "metadata": {},
   "outputs": [],
   "source": [
    "for feat in for_num_conv:\n",
    "    df_mvi[feat] = df_mvi[feat].astype(str)"
   ]
  },
  {
   "cell_type": "code",
   "execution_count": 209,
   "metadata": {},
   "outputs": [
    {
     "name": "stdout",
     "output_type": "stream",
     "text": [
      "MSSubClass: data type = object\n",
      "YearBuilt: data type = object\n",
      "YearRemodAdd: data type = object\n",
      "GarageYrBlt: data type = object\n",
      "MoSold: data type = object\n",
      "YrSold: data type = object\n"
     ]
    }
   ],
   "source": [
    "for feat in for_num_conv:\n",
    "    print(f\"{feat}: data type = {df_mvi[feat].dtype}\") "
   ]
  },
  {
   "cell_type": "markdown",
   "metadata": {},
   "source": [
    "## convert Categorical Features into Numerical Feature "
   ]
  },
  {
   "cell_type": "markdown",
   "metadata": {},
   "source": [
    "Ordinal Encoding"
   ]
  },
  {
   "cell_type": "code",
   "execution_count": 210,
   "metadata": {},
   "outputs": [
    {
     "name": "stdout",
     "output_type": "stream",
     "text": [
      "Total numbre of feature  to convert ordinal numerical format: 18\n"
     ]
    }
   ],
   "source": [
    "ordinal_end_var = [\n",
    "    \"ExterQual\",\n",
    "    \"ExterCond\",\n",
    "    \"BsmtQual\",\n",
    "    \"BsmtCond\",\n",
    "    \"BsmtExposure\",\n",
    "    \"BsmtFinType1\",\n",
    "    \"BsmtFinSF1\",\n",
    "    \"BsmtFinType2\",\n",
    "    \"HeatingQC\",\n",
    "    \"KitchenQual\",\n",
    "    \"FireplaceQu\",\n",
    "    \"GarageQual\",\n",
    "    \"GarageCond\",\n",
    "    \"PoolQC\",\n",
    "    \"Functional\",\n",
    "    \"GarageFinish\",\n",
    "    \"PavedDrive\",\n",
    "    \"Utilities\"\n",
    "    \n",
    "]\n",
    "\n",
    "print(\"Total numbre of feature  to convert ordinal numerical format:\", len(ordinal_end_var))"
   ]
  },
  {
   "cell_type": "code",
   "execution_count": 211,
   "metadata": {},
   "outputs": [
    {
     "data": {
      "text/plain": [
       "ExterQual\n",
       "TA    1798\n",
       "Gd     979\n",
       "Ex     107\n",
       "Fa      35\n",
       "Name: count, dtype: int64"
      ]
     },
     "execution_count": 211,
     "metadata": {},
     "output_type": "execute_result"
    }
   ],
   "source": [
    "df_mvi[\"ExterQual\"].value_counts()"
   ]
  },
  {
   "cell_type": "code",
   "execution_count": 212,
   "metadata": {},
   "outputs": [],
   "source": [
    "df_mvi[\"ExterQual\"] = df_mvi[\"ExterQual\"].astype(CategoricalDtype(categories=[\"Po\", \"Fa\", \"Gd\", \"TA\", \"Ex\"],ordered=True)).cat.codes"
   ]
  },
  {
   "cell_type": "code",
   "execution_count": 213,
   "metadata": {},
   "outputs": [
    {
     "data": {
      "text/plain": [
       "ExterQual\n",
       "3    1798\n",
       "2     979\n",
       "4     107\n",
       "1      35\n",
       "Name: count, dtype: int64"
      ]
     },
     "execution_count": 213,
     "metadata": {},
     "output_type": "execute_result"
    }
   ],
   "source": [
    "df_mvi[\"ExterQual\"].value_counts()"
   ]
  },
  {
   "cell_type": "code",
   "execution_count": 214,
   "metadata": {},
   "outputs": [
    {
     "data": {
      "text/plain": [
       "BsmtExposure\n",
       "No    1904\n",
       "Av     418\n",
       "Gd     276\n",
       "Mn     239\n",
       "Name: count, dtype: int64"
      ]
     },
     "execution_count": 214,
     "metadata": {},
     "output_type": "execute_result"
    }
   ],
   "source": [
    "df_mvi[\"BsmtExposure\"].value_counts()"
   ]
  },
  {
   "cell_type": "code",
   "execution_count": 215,
   "metadata": {},
   "outputs": [],
   "source": [
    "\n",
    "df_mvi[\"BsmtExposure\"] = df_mvi[\"BsmtExposure\"].astype(CategoricalDtype(categories=[\"NA\", \"No\", \"Mn\", \"Av\", \"Gd\"],ordered=True)).cat.codes"
   ]
  },
  {
   "cell_type": "code",
   "execution_count": 216,
   "metadata": {},
   "outputs": [
    {
     "data": {
      "text/plain": [
       "BsmtExposure\n",
       " 1    1904\n",
       " 3     418\n",
       " 4     276\n",
       " 2     239\n",
       "-1      82\n",
       "Name: count, dtype: int64"
      ]
     },
     "execution_count": 216,
     "metadata": {},
     "output_type": "execute_result"
    }
   ],
   "source": [
    "df_mvi[\"BsmtExposure\"].value_counts()"
   ]
  },
  {
   "cell_type": "code",
   "execution_count": 217,
   "metadata": {},
   "outputs": [],
   "source": [
    "df_mvi[\"ExterCond\"] = df_mvi[\"ExterCond\"].astype(CategoricalDtype(categories=[\"Po\", \"Fa\", \"TA\", \"Gd\", \"Ex\"],ordered=True)).cat.codes\n",
    "\n",
    "df_mvi[\"BsmtQual\"] = df_mvi[\"BsmtQual\"].astype(CategoricalDtype(categories=[\"NA\", \"Po\", \"Fa\", \"Ta\", \"Gd\", \"Ex\"],ordered=True)).cat.codes\n",
    "\n",
    "df_mvi[\"BsmtCond\"] = df_mvi[\"BsmtCond\"].astype(CategoricalDtype(categories=[\"NA\", \"Po\", \"Fa\", \"Ta\", \"Gd\", \"Ex\"],ordered=True)).cat.codes\n",
    "\n",
    "df_mvi[\"BsmtFinSF1\"] = df_mvi[\"BsmtFinSF1\"].astype(CategoricalDtype(categories=[\"NA\", \"Unf\", \"LwQ\", \"Rec\", \"BLQ\", \"ALQ\", \"GLQ\"],ordered=True)).cat.codes\n",
    "\n",
    "df_mvi[\"BsmtFinType2\"] = df_mvi[\"BsmtFinType2\"].astype(CategoricalDtype(categories=[\"NA\", \"Unf\", \"LwQ\", \"Rec\", \"BLQ\", \"ALQ\", \"GLQ\"],ordered=True)).cat.codes\n",
    "\n",
    "df_mvi[\"HeatingQC\"]= df_mvi[\"HeatingQC\"].astype(CategoricalDtype(categories=[ \"Wall\", \"OthW\",\"Grav\",\"GasW\",\"GasA\",\"Floor\" ],ordered=True)).cat.codes\n",
    "\n",
    "df_mvi[\"KitchenQual\"] = df_mvi[\"KitchenQual\"].astype(CategoricalDtype(categories=[\"Po\",\"Fa\",\"TA\",\"Gd\", \"Ex\" ],ordered=True)).cat.codes\n",
    "\n",
    "df_mvi[\"FireplaceQu\"] = df_mvi[\"GarageQual\"].astype(CategoricalDtype(categories=[\"NA\", \"Po\", \"Fa\", \"TA\", \"Gd\", \"Ex\"],ordered=True)).cat.codes\n",
    "\n",
    "df_mvi[\"GarageQual\"] = df_mvi[\"BsmtExposure\"].astype(CategoricalDtype(categories=[\"NA\", \"Po\", \"Fa\", \"TA\", \"Gd\", \"Ex\"],ordered=True)).cat.codes\n",
    "\n",
    "df_mvi[\"GarageCond\"] = df_mvi[\"GarageCond\"].astype(CategoricalDtype(categories=[\"NA\", \"Po\", \"Fa\", \"TA\", \"Gd\", \"Ex\"],ordered=True)).cat.codes\n",
    "\n",
    "df_mvi[\"PoolQC\"] = df_mvi[\"PoolQC\"].astype(CategoricalDtype(categories=[\"NA\",\"Fa\", \"TA\", \"Gd\", \"Ex\"],ordered=True)).cat.codes\n",
    "\n",
    "df_mvi[\"Functional\"] = df_mvi[\"Functional\"].astype(CategoricalDtype(categories=[\"Sal\", \"Sev\", \"Maj2\", \"Maj1\", \"Mod\",\"Min2\",\"Min1\", \"Typ\"],ordered=True)).cat.codes\n",
    "\n",
    "df_mvi[\"GarageFinish\"] = df_mvi[\"GarageFinish\"].astype(CategoricalDtype(categories=[\"NA\", \"Unf\", \"RFn\", \"Fin\"],ordered=True)).cat.codes\n",
    "\n",
    "df_mvi[\"PavedDrive\"] = df_mvi[\"PavedDrive\"].astype(CategoricalDtype(categories=[\"N\",\"P\",\"Y\"],ordered=True)).cat.codes\n",
    "\n",
    "df_mvi[\"Utilities\"] = df_mvi[\"Utilities\"].astype(CategoricalDtype(categories=[\"ELO\", \"NASewa\", \"NASeWr\", \"AllPub\"],ordered=True)).cat.codes"
   ]
  },
  {
   "cell_type": "code",
   "execution_count": 218,
   "metadata": {},
   "outputs": [
    {
     "name": "stdout",
     "output_type": "stream",
     "text": [
      "<class 'pandas.core.frame.DataFrame'>\n",
      "Index: 2919 entries, 1 to 2919\n",
      "Data columns (total 80 columns):\n",
      " #   Column         Non-Null Count  Dtype  \n",
      "---  ------         --------------  -----  \n",
      " 0   MSSubClass     2919 non-null   object \n",
      " 1   MSZoning       2919 non-null   object \n",
      " 2   LotFrontage    2919 non-null   float64\n",
      " 3   LotArea        2919 non-null   int64  \n",
      " 4   Street         2919 non-null   object \n",
      " 5   Alley          2919 non-null   object \n",
      " 6   LotShape       2919 non-null   object \n",
      " 7   LandContour    2919 non-null   object \n",
      " 8   Utilities      2919 non-null   int8   \n",
      " 9   LotConfig      2919 non-null   object \n",
      " 10  LandSlope      2919 non-null   object \n",
      " 11  Neighborhood   2919 non-null   object \n",
      " 12  Condition1     2919 non-null   object \n",
      " 13  Condition2     2919 non-null   object \n",
      " 14  BldgType       2919 non-null   object \n",
      " 15  HouseStyle     2919 non-null   object \n",
      " 16  OverallQual    2919 non-null   int64  \n",
      " 17  OverallCond    2919 non-null   int64  \n",
      " 18  YearBuilt      2919 non-null   object \n",
      " 19  YearRemodAdd   2919 non-null   object \n",
      " 20  RoofStyle      2919 non-null   object \n",
      " 21  RoofMatl       2919 non-null   object \n",
      " 22  Exterior1st    2919 non-null   object \n",
      " 23  Exterior2nd    2919 non-null   object \n",
      " 24  MasVnrType     2919 non-null   object \n",
      " 25  MasVnrArea     2919 non-null   float64\n",
      " 26  ExterQual      2919 non-null   int8   \n",
      " 27  ExterCond      2919 non-null   int8   \n",
      " 28  Foundation     2919 non-null   object \n",
      " 29  BsmtQual       2919 non-null   int8   \n",
      " 30  BsmtCond       2919 non-null   int8   \n",
      " 31  BsmtExposure   2919 non-null   int8   \n",
      " 32  BsmtFinType1   2840 non-null   object \n",
      " 33  BsmtFinSF1     2919 non-null   int8   \n",
      " 34  BsmtFinType2   2919 non-null   int8   \n",
      " 35  BsmtFinSF2     2919 non-null   float64\n",
      " 36  BsmtUnfSF      2919 non-null   float64\n",
      " 37  TotalBsmtSF    2919 non-null   float64\n",
      " 38  Heating        2919 non-null   object \n",
      " 39  HeatingQC      2919 non-null   int8   \n",
      " 40  CentralAir     2919 non-null   object \n",
      " 41  Electrical     2919 non-null   object \n",
      " 42  1stFlrSF       2919 non-null   int64  \n",
      " 43  2ndFlrSF       2919 non-null   int64  \n",
      " 44  LowQualFinSF   2919 non-null   int64  \n",
      " 45  GrLivArea      2919 non-null   int64  \n",
      " 46  BsmtFullBath   2919 non-null   float64\n",
      " 47  BsmtHalfBath   2919 non-null   float64\n",
      " 48  FullBath       2919 non-null   int64  \n",
      " 49  HalfBath       2919 non-null   int64  \n",
      " 50  BedroomAbvGr   2919 non-null   int64  \n",
      " 51  KitchenAbvGr   2919 non-null   int64  \n",
      " 52  KitchenQual    2919 non-null   int8   \n",
      " 53  TotRmsAbvGrd   2919 non-null   int64  \n",
      " 54  Functional     2919 non-null   int8   \n",
      " 55  Fireplaces     2919 non-null   int64  \n",
      " 56  FireplaceQu    2919 non-null   int8   \n",
      " 57  GarageType     2919 non-null   object \n",
      " 58  GarageYrBlt    2919 non-null   object \n",
      " 59  GarageFinish   2919 non-null   int8   \n",
      " 60  GarageCars     2919 non-null   float64\n",
      " 61  GarageArea     2919 non-null   float64\n",
      " 62  GarageQual     2919 non-null   int8   \n",
      " 63  GarageCond     2919 non-null   int8   \n",
      " 64  PavedDrive     2919 non-null   int8   \n",
      " 65  WoodDeckSF     2919 non-null   int64  \n",
      " 66  OpenPorchSF    2919 non-null   int64  \n",
      " 67  EnclosedPorch  2919 non-null   int64  \n",
      " 68  3SsnPorch      2919 non-null   int64  \n",
      " 69  ScreenPorch    2919 non-null   int64  \n",
      " 70  PoolArea       2919 non-null   int64  \n",
      " 71  PoolQC         2919 non-null   int8   \n",
      " 72  Fence          2919 non-null   object \n",
      " 73  MiscFeature    2919 non-null   object \n",
      " 74  MiscVal        2919 non-null   int64  \n",
      " 75  MoSold         2919 non-null   object \n",
      " 76  YrSold         2919 non-null   object \n",
      " 77  SaleType       2919 non-null   object \n",
      " 78  SaleCondition  2919 non-null   object \n",
      " 79  SalePrice      1460 non-null   float64\n",
      "dtypes: float64(10), int64(20), int8(17), object(33)\n",
      "memory usage: 1.5+ MB\n"
     ]
    }
   ],
   "source": [
    "df_mvi.info()"
   ]
  },
  {
   "cell_type": "markdown",
   "metadata": {},
   "source": [
    "## One Hot Encoding for Nominal Categorical Data"
   ]
  },
  {
   "cell_type": "code",
   "execution_count": 219,
   "metadata": {},
   "outputs": [
    {
     "name": "stdout",
     "output_type": "stream",
     "text": [
      "Total Objecct data type features: 33\n",
      "Features:\n",
      "  ['MSSubClass', 'MSZoning', 'Street', 'Alley', 'LotShape', 'LandContour', 'LotConfig', 'LandSlope', 'Neighborhood', 'Condition1', 'Condition2', 'BldgType', 'HouseStyle', 'YearBuilt', 'YearRemodAdd', 'RoofStyle', 'RoofMatl', 'Exterior1st', 'Exterior2nd', 'MasVnrType', 'Foundation', 'BsmtFinType1', 'Heating', 'CentralAir', 'Electrical', 'GarageType', 'GarageYrBlt', 'Fence', 'MiscFeature', 'MoSold', 'YrSold', 'SaleType', 'SaleCondition']\n"
     ]
    }
   ],
   "source": [
    "df_encod = df_mvi.copy()\n",
    "\n",
    "object_features = df_encod.select_dtypes(include=\"object\").columns.tolist()\n",
    "print(\"Total Objecct data type features:\", len(object_features))\n",
    "\n",
    "print(\"Features:\\n \", object_features)"
   ]
  },
  {
   "cell_type": "code",
   "execution_count": 220,
   "metadata": {},
   "outputs": [
    {
     "data": {
      "text/html": [
       "<div>\n",
       "<style scoped>\n",
       "    .dataframe tbody tr th:only-of-type {\n",
       "        vertical-align: middle;\n",
       "    }\n",
       "\n",
       "    .dataframe tbody tr th {\n",
       "        vertical-align: top;\n",
       "    }\n",
       "\n",
       "    .dataframe thead th {\n",
       "        text-align: right;\n",
       "    }\n",
       "</style>\n",
       "<table border=\"1\" class=\"dataframe\">\n",
       "  <thead>\n",
       "    <tr style=\"text-align: right;\">\n",
       "      <th></th>\n",
       "      <th>MSSubClass</th>\n",
       "      <th>MSZoning</th>\n",
       "      <th>Street</th>\n",
       "      <th>Alley</th>\n",
       "      <th>LotShape</th>\n",
       "      <th>LandContour</th>\n",
       "      <th>LotConfig</th>\n",
       "      <th>LandSlope</th>\n",
       "      <th>Neighborhood</th>\n",
       "      <th>Condition1</th>\n",
       "      <th>...</th>\n",
       "      <th>CentralAir</th>\n",
       "      <th>Electrical</th>\n",
       "      <th>GarageType</th>\n",
       "      <th>GarageYrBlt</th>\n",
       "      <th>Fence</th>\n",
       "      <th>MiscFeature</th>\n",
       "      <th>MoSold</th>\n",
       "      <th>YrSold</th>\n",
       "      <th>SaleType</th>\n",
       "      <th>SaleCondition</th>\n",
       "    </tr>\n",
       "    <tr>\n",
       "      <th>Id</th>\n",
       "      <th></th>\n",
       "      <th></th>\n",
       "      <th></th>\n",
       "      <th></th>\n",
       "      <th></th>\n",
       "      <th></th>\n",
       "      <th></th>\n",
       "      <th></th>\n",
       "      <th></th>\n",
       "      <th></th>\n",
       "      <th></th>\n",
       "      <th></th>\n",
       "      <th></th>\n",
       "      <th></th>\n",
       "      <th></th>\n",
       "      <th></th>\n",
       "      <th></th>\n",
       "      <th></th>\n",
       "      <th></th>\n",
       "      <th></th>\n",
       "      <th></th>\n",
       "    </tr>\n",
       "  </thead>\n",
       "  <tbody>\n",
       "    <tr>\n",
       "      <th>1</th>\n",
       "      <td>60</td>\n",
       "      <td>RL</td>\n",
       "      <td>Pave</td>\n",
       "      <td>Alley_cons</td>\n",
       "      <td>Reg</td>\n",
       "      <td>Lvl</td>\n",
       "      <td>Inside</td>\n",
       "      <td>Gtl</td>\n",
       "      <td>CollgCr</td>\n",
       "      <td>Norm</td>\n",
       "      <td>...</td>\n",
       "      <td>Y</td>\n",
       "      <td>SBrkr</td>\n",
       "      <td>Attchd</td>\n",
       "      <td>2003.0</td>\n",
       "      <td>NA</td>\n",
       "      <td>NA</td>\n",
       "      <td>Feb</td>\n",
       "      <td>2008</td>\n",
       "      <td>WD</td>\n",
       "      <td>Normal</td>\n",
       "    </tr>\n",
       "    <tr>\n",
       "      <th>2</th>\n",
       "      <td>20</td>\n",
       "      <td>RL</td>\n",
       "      <td>Pave</td>\n",
       "      <td>Alley_cons</td>\n",
       "      <td>Reg</td>\n",
       "      <td>Lvl</td>\n",
       "      <td>FR2</td>\n",
       "      <td>Gtl</td>\n",
       "      <td>Veenker</td>\n",
       "      <td>Feedr</td>\n",
       "      <td>...</td>\n",
       "      <td>Y</td>\n",
       "      <td>SBrkr</td>\n",
       "      <td>Attchd</td>\n",
       "      <td>1976.0</td>\n",
       "      <td>NA</td>\n",
       "      <td>NA</td>\n",
       "      <td>May</td>\n",
       "      <td>2007</td>\n",
       "      <td>WD</td>\n",
       "      <td>Normal</td>\n",
       "    </tr>\n",
       "  </tbody>\n",
       "</table>\n",
       "<p>2 rows × 33 columns</p>\n",
       "</div>"
      ],
      "text/plain": [
       "   MSSubClass MSZoning Street       Alley LotShape LandContour LotConfig  \\\n",
       "Id                                                                         \n",
       "1          60       RL   Pave  Alley_cons      Reg         Lvl    Inside   \n",
       "2          20       RL   Pave  Alley_cons      Reg         Lvl       FR2   \n",
       "\n",
       "   LandSlope Neighborhood Condition1  ... CentralAir Electrical GarageType  \\\n",
       "Id                                    ...                                    \n",
       "1        Gtl      CollgCr       Norm  ...          Y      SBrkr     Attchd   \n",
       "2        Gtl      Veenker      Feedr  ...          Y      SBrkr     Attchd   \n",
       "\n",
       "   GarageYrBlt Fence MiscFeature MoSold YrSold SaleType SaleCondition  \n",
       "Id                                                                     \n",
       "1       2003.0    NA          NA    Feb   2008       WD        Normal  \n",
       "2       1976.0    NA          NA    May   2007       WD        Normal  \n",
       "\n",
       "[2 rows x 33 columns]"
      ]
     },
     "execution_count": 220,
     "metadata": {},
     "output_type": "execute_result"
    }
   ],
   "source": [
    "df_encod[object_features].head(2)"
   ]
  },
  {
   "cell_type": "code",
   "execution_count": 221,
   "metadata": {},
   "outputs": [
    {
     "name": "stdout",
     "output_type": "stream",
     "text": [
      "shape of DF befor encoding: (2919, 80)\n",
      "shape of DF after encoding: (2919, 516)\n"
     ]
    }
   ],
   "source": [
    "print(\"shape of DF befor encoding:\", df_encod.shape)\n",
    "df_encod = pd.get_dummies(df_encod, columns=object_features, prefix=object_features, drop_first=True)\n",
    "print(\"shape of DF after encoding:\", df_encod.shape)\n"
   ]
  },
  {
   "cell_type": "code",
   "execution_count": 222,
   "metadata": {},
   "outputs": [],
   "source": [
    "# df_encod[\"MSZoning\"].value_counts()"
   ]
  },
  {
   "cell_type": "code",
   "execution_count": 223,
   "metadata": {},
   "outputs": [],
   "source": [
    "# pd.get_dummies(df_encod[\"MSZoning\"], columns=\"MSZoning\", prefix=\"MSZoning\", drop_first=True)"
   ]
  },
  {
   "cell_type": "code",
   "execution_count": 224,
   "metadata": {},
   "outputs": [
    {
     "data": {
      "text/html": [
       "<div>\n",
       "<style scoped>\n",
       "    .dataframe tbody tr th:only-of-type {\n",
       "        vertical-align: middle;\n",
       "    }\n",
       "\n",
       "    .dataframe tbody tr th {\n",
       "        vertical-align: top;\n",
       "    }\n",
       "\n",
       "    .dataframe thead th {\n",
       "        text-align: right;\n",
       "    }\n",
       "</style>\n",
       "<table border=\"1\" class=\"dataframe\">\n",
       "  <thead>\n",
       "    <tr style=\"text-align: right;\">\n",
       "      <th></th>\n",
       "      <th>LotFrontage</th>\n",
       "      <th>LotArea</th>\n",
       "      <th>Utilities</th>\n",
       "      <th>OverallQual</th>\n",
       "      <th>OverallCond</th>\n",
       "      <th>MasVnrArea</th>\n",
       "      <th>ExterQual</th>\n",
       "      <th>ExterCond</th>\n",
       "      <th>BsmtQual</th>\n",
       "      <th>BsmtCond</th>\n",
       "      <th>...</th>\n",
       "      <th>SaleType_ConLI</th>\n",
       "      <th>SaleType_ConLw</th>\n",
       "      <th>SaleType_New</th>\n",
       "      <th>SaleType_Oth</th>\n",
       "      <th>SaleType_WD</th>\n",
       "      <th>SaleCondition_AdjLand</th>\n",
       "      <th>SaleCondition_Alloca</th>\n",
       "      <th>SaleCondition_Family</th>\n",
       "      <th>SaleCondition_Normal</th>\n",
       "      <th>SaleCondition_Partial</th>\n",
       "    </tr>\n",
       "    <tr>\n",
       "      <th>Id</th>\n",
       "      <th></th>\n",
       "      <th></th>\n",
       "      <th></th>\n",
       "      <th></th>\n",
       "      <th></th>\n",
       "      <th></th>\n",
       "      <th></th>\n",
       "      <th></th>\n",
       "      <th></th>\n",
       "      <th></th>\n",
       "      <th></th>\n",
       "      <th></th>\n",
       "      <th></th>\n",
       "      <th></th>\n",
       "      <th></th>\n",
       "      <th></th>\n",
       "      <th></th>\n",
       "      <th></th>\n",
       "      <th></th>\n",
       "      <th></th>\n",
       "      <th></th>\n",
       "    </tr>\n",
       "  </thead>\n",
       "  <tbody>\n",
       "    <tr>\n",
       "      <th>1</th>\n",
       "      <td>65.0</td>\n",
       "      <td>8450</td>\n",
       "      <td>3</td>\n",
       "      <td>7</td>\n",
       "      <td>5</td>\n",
       "      <td>196.0</td>\n",
       "      <td>2</td>\n",
       "      <td>2</td>\n",
       "      <td>4</td>\n",
       "      <td>-1</td>\n",
       "      <td>...</td>\n",
       "      <td>False</td>\n",
       "      <td>False</td>\n",
       "      <td>False</td>\n",
       "      <td>False</td>\n",
       "      <td>True</td>\n",
       "      <td>False</td>\n",
       "      <td>False</td>\n",
       "      <td>False</td>\n",
       "      <td>True</td>\n",
       "      <td>False</td>\n",
       "    </tr>\n",
       "    <tr>\n",
       "      <th>2</th>\n",
       "      <td>80.0</td>\n",
       "      <td>9600</td>\n",
       "      <td>3</td>\n",
       "      <td>6</td>\n",
       "      <td>8</td>\n",
       "      <td>0.0</td>\n",
       "      <td>3</td>\n",
       "      <td>2</td>\n",
       "      <td>4</td>\n",
       "      <td>-1</td>\n",
       "      <td>...</td>\n",
       "      <td>False</td>\n",
       "      <td>False</td>\n",
       "      <td>False</td>\n",
       "      <td>False</td>\n",
       "      <td>True</td>\n",
       "      <td>False</td>\n",
       "      <td>False</td>\n",
       "      <td>False</td>\n",
       "      <td>True</td>\n",
       "      <td>False</td>\n",
       "    </tr>\n",
       "  </tbody>\n",
       "</table>\n",
       "<p>2 rows × 516 columns</p>\n",
       "</div>"
      ],
      "text/plain": [
       "    LotFrontage  LotArea  Utilities  OverallQual  OverallCond  MasVnrArea  \\\n",
       "Id                                                                          \n",
       "1          65.0     8450          3            7            5       196.0   \n",
       "2          80.0     9600          3            6            8         0.0   \n",
       "\n",
       "    ExterQual  ExterCond  BsmtQual  BsmtCond  ...  SaleType_ConLI  \\\n",
       "Id                                            ...                   \n",
       "1           2          2         4        -1  ...           False   \n",
       "2           3          2         4        -1  ...           False   \n",
       "\n",
       "    SaleType_ConLw  SaleType_New  SaleType_Oth  SaleType_WD  \\\n",
       "Id                                                            \n",
       "1            False         False         False         True   \n",
       "2            False         False         False         True   \n",
       "\n",
       "    SaleCondition_AdjLand  SaleCondition_Alloca  SaleCondition_Family  \\\n",
       "Id                                                                      \n",
       "1                   False                 False                 False   \n",
       "2                   False                 False                 False   \n",
       "\n",
       "    SaleCondition_Normal  SaleCondition_Partial  \n",
       "Id                                               \n",
       "1                   True                  False  \n",
       "2                   True                  False  \n",
       "\n",
       "[2 rows x 516 columns]"
      ]
     },
     "execution_count": 224,
     "metadata": {},
     "output_type": "execute_result"
    }
   ],
   "source": [
    "df_encod.head(2)"
   ]
  },
  {
   "cell_type": "code",
   "execution_count": 225,
   "metadata": {},
   "outputs": [
    {
     "data": {
      "text/plain": [
       "[]"
      ]
     },
     "execution_count": 225,
     "metadata": {},
     "output_type": "execute_result"
    }
   ],
   "source": [
    "df_encod.select_dtypes(include=\"object\").columns.tolist()"
   ]
  },
  {
   "cell_type": "markdown",
   "metadata": {},
   "source": [
    "## Split Data for Traning and Testing"
   ]
  },
  {
   "cell_type": "code",
   "execution_count": 226,
   "metadata": {},
   "outputs": [
    {
     "data": {
      "text/plain": [
       "(2919, 516)"
      ]
     },
     "execution_count": 226,
     "metadata": {},
     "output_type": "execute_result"
    }
   ],
   "source": [
    "df_encod.shape"
   ]
  },
  {
   "cell_type": "code",
   "execution_count": 227,
   "metadata": {},
   "outputs": [
    {
     "data": {
      "text/plain": [
       "1460"
      ]
     },
     "execution_count": 227,
     "metadata": {},
     "output_type": "execute_result"
    }
   ],
   "source": [
    "len_train = house_train.shape[0]\n",
    "len_train"
   ]
  },
  {
   "cell_type": "code",
   "execution_count": 228,
   "metadata": {},
   "outputs": [
    {
     "name": "stdout",
     "output_type": "stream",
     "text": [
      "Shape of x_train data :  (1460, 515)\n",
      "Shape of y_train data :  (1460,)\n",
      "Shape of x_test data :  (1459, 515)\n"
     ]
    }
   ],
   "source": [
    "x_train = df_encod[:len_train].drop(\"SalePrice\", axis=1)\n",
    "y_train = df_encod[\"SalePrice\"][:len_train]\n",
    "x_test  = df_encod[len_train:].drop(\"SalePrice\", axis=1)\n",
    "print(\"Shape of x_train data : \", x_train.shape)\n",
    "print(\"Shape of y_train data : \", y_train.shape)\n",
    "print(\"Shape of x_test data : \", x_test.shape)"
   ]
  },
  {
   "cell_type": "markdown",
   "metadata": {},
   "source": [
    "## Feature Scaling"
   ]
  },
  {
   "cell_type": "code",
   "execution_count": 229,
   "metadata": {},
   "outputs": [],
   "source": [
    "sc = StandardScaler()\n",
    "sc.fit(x_train)\n",
    "# formula = z= (x-u)\"/System Volume Information\"\n",
    "x_train = sc.transform(x_train)\n",
    "x_test= sc.transform(x_test)\n"
   ]
  },
  {
   "cell_type": "code",
   "execution_count": 230,
   "metadata": {},
   "outputs": [
    {
     "data": {
      "text/plain": [
       "array([[-0.22335706, -0.20714171,  0.02618016, ..., -0.11785113,\n",
       "         0.4676514 , -0.30599503],\n",
       "       [ 0.45789401, -0.09188637,  0.02618016, ..., -0.11785113,\n",
       "         0.4676514 , -0.30599503],\n",
       "       [-0.08710685,  0.07347998,  0.02618016, ..., -0.11785113,\n",
       "         0.4676514 , -0.30599503]])"
      ]
     },
     "execution_count": 230,
     "metadata": {},
     "output_type": "execute_result"
    }
   ],
   "source": [
    "x_train[:3,:]"
   ]
  },
  {
   "cell_type": "code",
   "execution_count": 231,
   "metadata": {},
   "outputs": [
    {
     "data": {
      "text/plain": [
       "array([[ 0.45789401,  0.11076257,  0.02618016, ..., -0.11785113,\n",
       "         0.4676514 , -0.30599503],\n",
       "       [ 0.50331075,  0.37584985,  0.02618016, ..., -0.11785113,\n",
       "         0.4676514 , -0.30599503],\n",
       "       [ 0.18539358,  0.33205282,  0.02618016, ..., -0.11785113,\n",
       "         0.4676514 , -0.30599503]])"
      ]
     },
     "execution_count": 231,
     "metadata": {},
     "output_type": "execute_result"
    }
   ],
   "source": [
    "x_test[:3,:]"
   ]
  },
  {
   "cell_type": "code",
   "execution_count": 232,
   "metadata": {},
   "outputs": [
    {
     "data": {
      "text/plain": [
       "array([ 6.99179459e+01,  1.05168281e+04,  2.99726027e+00,  6.09931507e+00,\n",
       "        5.57534247e+00,  1.03117123e+02,  2.68219178e+00,  2.08356164e+00,\n",
       "        1.68561644e+00, -6.82191781e-01,  1.60410959e+00, -1.00000000e+00,\n",
       "        1.22123288e+00,  4.65493151e+01,  5.67240411e+02,  1.05742945e+03,\n",
       "       -1.00000000e+00,  1.16262671e+03,  3.46992466e+02,  5.84452055e+00,\n",
       "        1.51546370e+03,  4.25342466e-01,  5.75342466e-02,  1.56506849e+00,\n",
       "        3.82876712e-01,  2.86643836e+00,  1.04657534e+00,  2.51164384e+00,\n",
       "        6.51780822e+00,  6.84178082e+00,  6.13013699e-01,  2.81027397e+00,\n",
       "        1.71575342e+00,  1.76712329e+00,  4.72980137e+02, -1.00000000e+00,\n",
       "        2.80890411e+00,  1.85616438e+00,  9.42445205e+01,  4.66602740e+01,\n",
       "        2.19541096e+01,  3.40958904e+00,  1.50609589e+01,  2.75890411e+00,\n",
       "        1.30136986e-02,  4.34890411e+01,  0.00000000e+00,  4.31506849e-02,\n",
       "        6.84931507e-03,  2.05479452e-02,  3.67123288e-01,  4.72602740e-02,\n",
       "        2.73972603e-03,  8.21917808e-03,  9.86301370e-02,  2.04794521e-01,\n",
       "        4.10958904e-02,  1.09589041e-02,  3.97260274e-02,  1.36986301e-02,\n",
       "        3.56164384e-02,  4.45205479e-02,  1.09589041e-02,  7.88356164e-01,\n",
       "        1.49315068e-01,  9.95890411e-01,  3.42465753e-02,  2.80821918e-02,\n",
       "        2.80821918e-02,  6.84931507e-03,  6.33561644e-01,  3.42465753e-02,\n",
       "        2.46575342e-02,  8.97945205e-01,  6.43835616e-02,  3.21917808e-02,\n",
       "        2.73972603e-03,  7.20547945e-01,  4.45205479e-02,  8.90410959e-03,\n",
       "        1.36986301e-03,  1.09589041e-02,  3.97260274e-02,  1.91780822e-02,\n",
       "        1.02739726e-01,  3.49315068e-02,  6.84931507e-02,  5.41095890e-02,\n",
       "        2.53424658e-02,  1.16438356e-02,  3.35616438e-02,  1.54109589e-01,\n",
       "        6.16438356e-03,  5.00000000e-02,  2.80821918e-02,  5.27397260e-02,\n",
       "        7.73972603e-02,  1.71232877e-02,  5.06849315e-02,  4.04109589e-02,\n",
       "        5.89041096e-02,  1.71232877e-02,  2.60273973e-02,  7.53424658e-03,\n",
       "        5.54794521e-02,  8.63013699e-01,  5.47945205e-03,  1.30136986e-02,\n",
       "        7.53424658e-03,  1.78082192e-02,  1.36986301e-03,  3.42465753e-03,\n",
       "        4.10958904e-03,  9.89726027e-01,  6.84931507e-04,  1.36986301e-03,\n",
       "        6.84931507e-04,  6.84931507e-04,  1.36986301e-03,  2.12328767e-02,\n",
       "        3.56164384e-02,  2.94520548e-02,  7.80821918e-02,  9.58904110e-03,\n",
       "        4.97260274e-01,  5.47945205e-03,  7.53424658e-03,  3.04794521e-01,\n",
       "        2.53424658e-02,  4.45205479e-02,  6.84931507e-04,  0.00000000e+00,\n",
       "        2.73972603e-03,  6.84931507e-04,  1.36986301e-03,  1.36986301e-03,\n",
       "        1.36986301e-03,  6.84931507e-04,  0.00000000e+00,  0.00000000e+00,\n",
       "        6.84931507e-04,  6.84931507e-03,  0.00000000e+00,  0.00000000e+00,\n",
       "        6.84931507e-04,  6.84931507e-04,  6.84931507e-04,  0.00000000e+00,\n",
       "        1.36986301e-03,  1.16438356e-02,  6.84931507e-04,  2.05479452e-03,\n",
       "        6.84931507e-04,  4.79452055e-03,  6.84931507e-03,  5.47945205e-03,\n",
       "        6.84931507e-04,  4.79452055e-03,  2.05479452e-03,  2.05479452e-02,\n",
       "        4.10958904e-03,  5.47945205e-03,  4.79452055e-03,  4.79452055e-03,\n",
       "        1.09589041e-02,  6.16438356e-03,  2.05479452e-03,  4.79452055e-03,\n",
       "        2.73972603e-03,  6.16438356e-03,  4.10958904e-03,  2.73972603e-03,\n",
       "        2.05479452e-03,  4.10958904e-03,  6.16438356e-03,  3.42465753e-03,\n",
       "        2.73972603e-03,  5.47945205e-03,  1.23287671e-02,  1.02739726e-02,\n",
       "        1.36986301e-03,  4.10958904e-03,  4.79452055e-03,  3.42465753e-03,\n",
       "        9.58904110e-03,  8.21917808e-03,  1.36986301e-02,  4.10958904e-03,\n",
       "        3.42465753e-03,  8.21917808e-03,  1.64383562e-02,  1.09589041e-02,\n",
       "        9.58904110e-03,  1.36986301e-02,  1.64383562e-02,  1.78082192e-02,\n",
       "        1.16438356e-02,  9.58904110e-03,  1.30136986e-02,  1.09589041e-02,\n",
       "        1.02739726e-02,  1.64383562e-02,  1.23287671e-02,  1.09589041e-02,\n",
       "        1.50684932e-02,  9.58904110e-03,  1.64383562e-02,  1.50684932e-02,\n",
       "        1.57534247e-02,  7.53424658e-03,  6.84931507e-03,  5.47945205e-03,\n",
       "        2.26027397e-02,  2.19178082e-02,  1.09589041e-02,  6.16438356e-03,\n",
       "        6.84931507e-03,  3.42465753e-03,  4.10958904e-03,  2.73972603e-03,\n",
       "        6.16438356e-03,  3.42465753e-03,  3.42465753e-03,  2.05479452e-03,\n",
       "        7.53424658e-03,  2.05479452e-03,  8.21917808e-03,  3.42465753e-03,\n",
       "        8.90410959e-03,  1.16438356e-02,  1.30136986e-02,  1.23287671e-02,\n",
       "        1.02739726e-02,  9.58904110e-03,  1.71232877e-02,  1.71232877e-02,\n",
       "        1.64383562e-02,  1.36986301e-02,  1.57534247e-02,  3.08219178e-02,\n",
       "        3.69863014e-02,  4.38356164e-02,  4.58904110e-02,  3.35616438e-02,\n",
       "        1.57534247e-02,  1.23287671e-02,  6.84931507e-04,  2.73972603e-03,\n",
       "        3.42465753e-03,  6.84931507e-03,  9.58904110e-03,  6.16438356e-03,\n",
       "        6.84931507e-03,  6.16438356e-03,  1.02739726e-02,  1.23287671e-02,\n",
       "        8.21917808e-03,  5.47945205e-03,  9.58904110e-03,  8.90410959e-03,\n",
       "        7.53424658e-03,  1.30136986e-02,  1.02739726e-02,  8.21917808e-03,\n",
       "        1.16438356e-02,  9.58904110e-03,  1.78082192e-02,  1.23287671e-02,\n",
       "        1.36986301e-02,  7.53424658e-03,  4.79452055e-03,  6.84931507e-03,\n",
       "        2.05479452e-02,  1.71232877e-02,  1.09589041e-02,  6.84931507e-03,\n",
       "        8.21917808e-03,  5.47945205e-03,  4.79452055e-03,  3.42465753e-03,\n",
       "        4.79452055e-03,  6.16438356e-03,  3.42465753e-03,  6.84931507e-03,\n",
       "        6.16438356e-03,  7.53424658e-03,  1.02739726e-02,  9.58904110e-03,\n",
       "        1.16438356e-02,  1.30136986e-02,  1.50684932e-02,  2.12328767e-02,\n",
       "        2.46575342e-02,  1.71232877e-02,  2.46575342e-02,  2.05479452e-02,\n",
       "        3.76712329e-02,  1.43835616e-02,  3.28767123e-02,  3.49315068e-02,\n",
       "        4.24657534e-02,  5.00000000e-02,  6.64383562e-02,  5.20547945e-02,\n",
       "        2.73972603e-02,  1.57534247e-02,  4.10958904e-03,  7.81506849e-01,\n",
       "        7.53424658e-03,  1.95890411e-01,  4.79452055e-03,  1.36986301e-03,\n",
       "        9.82191781e-01,  6.84931507e-04,  6.84931507e-04,  6.84931507e-04,\n",
       "        7.53424658e-03,  3.42465753e-03,  4.10958904e-03,  6.84931507e-04,\n",
       "        1.36986301e-03,  3.42465753e-02,  6.84931507e-04,  4.17808219e-02,\n",
       "        1.52054795e-01,  6.84931507e-04,  1.50684932e-01,  7.39726027e-02,\n",
       "        1.36986301e-03,  1.71232877e-02,  3.52739726e-01,  1.41095890e-01,\n",
       "        1.78082192e-02,  2.05479452e-03,  4.79452055e-03,  1.71232877e-02,\n",
       "        6.84931507e-04,  4.10958904e-02,  1.41780822e-01,  6.84931507e-03,\n",
       "        1.46575342e-01,  6.84931507e-04,  9.72602740e-02,  3.42465753e-03,\n",
       "        1.78082192e-02,  3.45205479e-01,  1.34931507e-01,  2.60273973e-02,\n",
       "        9.02054795e-01,  8.76712329e-02,  4.34246575e-01,  4.43150685e-01,\n",
       "        1.64383562e-02,  4.10958904e-03,  2.05479452e-03,  1.01369863e-01,\n",
       "        2.86301370e-01,  5.06849315e-02,  9.10958904e-02,  2.94520548e-01,\n",
       "        9.78082192e-01,  1.23287671e-02,  4.79452055e-03,  1.36986301e-03,\n",
       "        2.73972603e-03,  9.34931507e-01,  1.84931507e-02,  2.05479452e-03,\n",
       "        6.84931507e-04,  9.14383562e-01,  5.95890411e-01,  1.30136986e-02,\n",
       "        6.02739726e-02,  6.16438356e-03,  2.65068493e-01,  5.54794521e-02,\n",
       "        0.00000000e+00,  0.00000000e+00,  6.84931507e-04,  6.84931507e-04,\n",
       "        6.84931507e-04,  2.05479452e-03,  1.36986301e-03,  1.36986301e-03,\n",
       "        3.42465753e-03,  0.00000000e+00,  1.36986301e-03,  0.00000000e+00,\n",
       "        9.58904110e-03,  2.05479452e-03,  3.42465753e-03,  2.05479452e-03,\n",
       "        2.05479452e-03,  6.84931507e-03,  4.10958904e-03,  6.84931507e-04,\n",
       "        2.73972603e-03,  1.36986301e-03,  5.47945205e-03,  2.73972603e-03,\n",
       "        2.05479452e-03,  6.84931507e-04,  1.36986301e-03,  2.73972603e-03,\n",
       "        3.42465753e-03,  1.36986301e-03,  2.05479452e-03,  6.16438356e-03,\n",
       "        9.58904110e-03,  6.84931507e-03,  1.36986301e-03,  0.00000000e+00,\n",
       "        2.73972603e-03,  2.73972603e-03,  1.36986301e-03,  7.53424658e-03,\n",
       "        5.47945205e-03,  1.64383562e-02,  4.10958904e-03,  2.05479452e-03,\n",
       "        8.21917808e-03,  1.30136986e-02,  8.90410959e-03,  1.09589041e-02,\n",
       "        1.36986301e-02,  1.43835616e-02,  1.16438356e-02,  1.30136986e-02,\n",
       "        8.90410959e-03,  1.43835616e-02,  1.09589041e-02,  1.23287671e-02,\n",
       "        1.43835616e-02,  1.43835616e-02,  1.02739726e-02,  1.78082192e-02,\n",
       "        1.02739726e-02,  1.36986301e-02,  8.90410959e-03,  9.58904110e-03,\n",
       "        9.58904110e-03,  1.23287671e-02,  6.16438356e-03,  1.98630137e-02,\n",
       "        2.39726027e-02,  1.30136986e-02,  1.02739726e-02,  1.02739726e-02,\n",
       "        6.84931507e-03,  2.73972603e-03,  4.79452055e-03,  5.47945205e-03,\n",
       "        6.84931507e-03,  4.10958904e-03,  7.53424658e-03,  9.58904110e-03,\n",
       "        6.84931507e-03,  1.09589041e-02,  6.16438356e-03,  8.90410959e-03,\n",
       "        1.50684932e-02,  1.23287671e-02,  1.23287671e-02,  1.36986301e-02,\n",
       "        1.30136986e-02,  2.12328767e-02,  2.05479452e-02,  1.84931507e-02,\n",
       "        1.36986301e-02,  1.78082192e-02,  3.42465753e-02,  3.63013699e-02,\n",
       "        4.45205479e-02,  4.04109589e-02,  3.35616438e-02,  1.98630137e-02,\n",
       "        1.43835616e-02,  2.05479452e-03,  0.00000000e+00,  3.69863014e-02,\n",
       "        1.07534247e-01,  7.53424658e-03,  8.07534247e-01,  9.63013699e-01,\n",
       "        1.36986301e-03,  3.35616438e-02,  6.84931507e-04,  8.35616438e-02,\n",
       "        4.04109589e-02,  3.56164384e-02,  3.97260274e-02,  1.60273973e-01,\n",
       "        1.73287671e-01,  7.26027397e-02,  1.39726027e-01,  5.41095890e-02,\n",
       "        6.09589041e-02,  4.31506849e-02,  2.25342466e-01,  2.08219178e-01,\n",
       "        2.31506849e-01,  1.19863014e-01,  2.73972603e-03,  1.36986301e-03,\n",
       "        6.16438356e-03,  3.42465753e-03,  3.42465753e-03,  8.35616438e-02,\n",
       "        2.05479452e-03,  8.67808219e-01,  2.73972603e-03,  8.21917808e-03,\n",
       "        1.36986301e-02,  8.20547945e-01,  8.56164384e-02])"
      ]
     },
     "execution_count": 232,
     "metadata": {},
     "output_type": "execute_result"
    }
   ],
   "source": [
    "sc.mean_"
   ]
  },
  {
   "cell_type": "code",
   "execution_count": 233,
   "metadata": {},
   "outputs": [
    {
     "data": {
      "text/plain": [
       "515"
      ]
     },
     "execution_count": 233,
     "metadata": {},
     "output_type": "execute_result"
    }
   ],
   "source": [
    "sc.n_features_in_"
   ]
  },
  {
   "cell_type": "code",
   "execution_count": 234,
   "metadata": {},
   "outputs": [
    {
     "data": {
      "text/plain": [
       "1460"
      ]
     },
     "execution_count": 234,
     "metadata": {},
     "output_type": "execute_result"
    }
   ],
   "source": [
    "sc.n_samples_seen_"
   ]
  },
  {
   "cell_type": "code",
   "execution_count": 235,
   "metadata": {},
   "outputs": [
    {
     "data": {
      "text/plain": [
       "array([2.20183141e+01, 9.97784611e+03, 1.04648927e-01, 1.38252284e+00,\n",
       "       1.11241818e+00, 1.80669468e+02, 5.54271697e-01, 3.50933666e-01,\n",
       "       2.56300043e+00, 1.13793161e+00, 1.11747494e+00, 1.00000000e+00,\n",
       "       9.41269101e-01, 1.61264017e+02, 4.41715605e+02, 4.38555057e+02,\n",
       "       1.00000000e+00, 3.86455322e+02, 4.36378914e+02, 4.86064268e+01,\n",
       "       5.25300394e+02, 5.18732867e-01, 2.38670868e-01, 5.50727099e-01,\n",
       "       5.02713131e-01, 8.15498620e-01, 2.20262727e-01, 6.63532501e-01,\n",
       "       1.62483655e+00, 6.67468828e-01, 6.44445572e-01, 7.22650132e-01,\n",
       "       8.92525151e-01, 7.47059036e-01, 2.13731608e+02, 1.00000000e+00,\n",
       "       7.19438635e-01, 4.96421800e-01, 1.25295863e+02, 6.62333334e+01,\n",
       "       6.10982138e+01, 2.93072887e+01, 5.57383170e+01, 4.01635452e+01,\n",
       "       2.03988886e-01, 4.95953090e+02, 1.00000000e+00, 2.03196219e-01,\n",
       "       8.24766752e-02, 1.41865172e-01, 4.82020518e-01, 2.12195053e-01,\n",
       "       5.22706412e-02, 9.02863400e-02, 2.98164775e-01, 4.03551391e-01,\n",
       "       1.98512010e-01, 1.04109589e-01, 1.95314798e-01, 1.16236731e-01,\n",
       "       1.85331885e-01, 2.06248561e-01, 1.04109589e-01, 4.08473650e-01,\n",
       "       3.56398764e-01, 6.39742160e-02, 1.81861891e-01, 1.65207694e-01,\n",
       "       1.65207694e-01, 8.24766752e-02, 4.81831181e-01, 1.81861891e-01,\n",
       "       1.55079142e-01, 3.02720355e-01, 2.45434958e-01, 1.76509122e-01,\n",
       "       5.22706412e-02, 4.48729990e-01, 2.06248561e-01, 9.39405473e-02,\n",
       "       3.69863014e-02, 1.04109589e-01, 1.95314798e-01, 1.37150586e-01,\n",
       "       3.03618634e-01, 1.83606363e-01, 2.52590259e-01, 2.26233820e-01,\n",
       "       1.57163053e-01, 1.07276543e-01, 1.80097918e-01, 3.61053768e-01,\n",
       "       7.82712204e-02, 2.17944947e-01, 1.65207694e-01, 2.23513416e-01,\n",
       "       2.67220741e-01, 1.29730801e-01, 2.19353526e-01, 1.96921084e-01,\n",
       "       2.35445143e-01, 1.29730801e-01, 1.59216745e-01, 8.64724332e-02,\n",
       "       2.28913701e-01, 3.43832888e-01, 7.38202388e-02, 1.13332883e-01,\n",
       "       8.64724332e-02, 1.32253871e-01, 3.69863014e-02, 5.84202812e-02,\n",
       "       6.39742160e-02, 1.00838574e-01, 2.61622319e-02, 3.69863014e-02,\n",
       "       2.61622319e-02, 2.61622319e-02, 3.69863014e-02, 1.44159778e-01,\n",
       "       1.85331885e-01, 1.69069901e-01, 2.68300882e-01, 9.74530214e-02,\n",
       "       4.99992494e-01, 7.38202388e-02, 8.64724332e-02, 4.60320346e-01,\n",
       "       1.57163053e-01, 2.06248561e-01, 2.61622319e-02, 1.00000000e+00,\n",
       "       5.22706412e-02, 2.61622319e-02, 3.69863014e-02, 3.69863014e-02,\n",
       "       3.69863014e-02, 2.61622319e-02, 1.00000000e+00, 1.00000000e+00,\n",
       "       2.61622319e-02, 8.24766752e-02, 1.00000000e+00, 1.00000000e+00,\n",
       "       2.61622319e-02, 2.61622319e-02, 2.61622319e-02, 1.00000000e+00,\n",
       "       3.69863014e-02, 1.07276543e-01, 2.61622319e-02, 4.52832457e-02,\n",
       "       2.61622319e-02, 6.90762848e-02, 8.24766752e-02, 7.38202388e-02,\n",
       "       2.61622319e-02, 6.90762848e-02, 4.52832457e-02, 1.41865172e-01,\n",
       "       6.39742160e-02, 7.38202388e-02, 6.90762848e-02, 6.90762848e-02,\n",
       "       1.04109589e-01, 7.82712204e-02, 4.52832457e-02, 6.90762848e-02,\n",
       "       5.22706412e-02, 7.82712204e-02, 6.39742160e-02, 5.22706412e-02,\n",
       "       4.52832457e-02, 6.39742160e-02, 7.82712204e-02, 5.84202812e-02,\n",
       "       5.22706412e-02, 7.38202388e-02, 1.10348397e-01, 1.00838574e-01,\n",
       "       3.69863014e-02, 6.39742160e-02, 6.90762848e-02, 5.84202812e-02,\n",
       "       9.74530214e-02, 9.02863400e-02, 1.16236731e-01, 6.39742160e-02,\n",
       "       5.84202812e-02, 9.02863400e-02, 1.27153988e-01, 1.04109589e-01,\n",
       "       9.74530214e-02, 1.16236731e-01, 1.27153988e-01, 1.32253871e-01,\n",
       "       1.07276543e-01, 9.74530214e-02, 1.13332883e-01, 1.04109589e-01,\n",
       "       1.00838574e-01, 1.27153988e-01, 1.10348397e-01, 1.04109589e-01,\n",
       "       1.21825423e-01, 9.74530214e-02, 1.27153988e-01, 1.21825423e-01,\n",
       "       1.24520096e-01, 8.64724332e-02, 8.24766752e-02, 7.38202388e-02,\n",
       "       1.48633293e-01, 1.46415224e-01, 1.04109589e-01, 7.82712204e-02,\n",
       "       8.24766752e-02, 5.84202812e-02, 6.39742160e-02, 5.22706412e-02,\n",
       "       7.82712204e-02, 5.84202812e-02, 5.84202812e-02, 4.52832457e-02,\n",
       "       8.64724332e-02, 4.52832457e-02, 9.02863400e-02, 5.84202812e-02,\n",
       "       9.39405473e-02, 1.07276543e-01, 1.13332883e-01, 1.10348397e-01,\n",
       "       1.00838574e-01, 9.74530214e-02, 1.29730801e-01, 1.29730801e-01,\n",
       "       1.27153988e-01, 1.16236731e-01, 1.24520096e-01, 1.72834971e-01,\n",
       "       1.88728151e-01, 2.04729224e-01, 2.09247416e-01, 1.80097918e-01,\n",
       "       1.24520096e-01, 1.10348397e-01, 2.61622319e-02, 5.22706412e-02,\n",
       "       5.84202812e-02, 8.24766752e-02, 9.74530214e-02, 7.82712204e-02,\n",
       "       8.24766752e-02, 7.82712204e-02, 1.00838574e-01, 1.10348397e-01,\n",
       "       9.02863400e-02, 7.38202388e-02, 9.74530214e-02, 9.39405473e-02,\n",
       "       8.64724332e-02, 1.13332883e-01, 1.00838574e-01, 9.02863400e-02,\n",
       "       1.07276543e-01, 9.74530214e-02, 1.32253871e-01, 1.10348397e-01,\n",
       "       1.16236731e-01, 8.64724332e-02, 6.90762848e-02, 8.24766752e-02,\n",
       "       1.41865172e-01, 1.29730801e-01, 1.04109589e-01, 8.24766752e-02,\n",
       "       9.02863400e-02, 7.38202388e-02, 6.90762848e-02, 5.84202812e-02,\n",
       "       6.90762848e-02, 7.82712204e-02, 5.84202812e-02, 8.24766752e-02,\n",
       "       7.82712204e-02, 8.64724332e-02, 1.00838574e-01, 9.74530214e-02,\n",
       "       1.07276543e-01, 1.13332883e-01, 1.21825423e-01, 1.44159778e-01,\n",
       "       1.55079142e-01, 1.29730801e-01, 1.55079142e-01, 1.41865172e-01,\n",
       "       1.90399872e-01, 1.19065842e-01, 1.78313864e-01, 1.83606363e-01,\n",
       "       2.01649233e-01, 2.17944947e-01, 2.49046785e-01, 2.22137554e-01,\n",
       "       1.63238018e-01, 1.24520096e-01, 6.39742160e-02, 4.13223782e-01,\n",
       "       8.64724332e-02, 3.96884565e-01, 6.90762848e-02, 3.69863014e-02,\n",
       "       1.32253871e-01, 2.61622319e-02, 2.61622319e-02, 2.61622319e-02,\n",
       "       8.64724332e-02, 5.84202812e-02, 6.39742160e-02, 2.61622319e-02,\n",
       "       3.69863014e-02, 1.81861891e-01, 2.61622319e-02, 2.00087943e-01,\n",
       "       3.59073995e-01, 2.61622319e-02, 3.57741503e-01, 2.61726301e-01,\n",
       "       3.69863014e-02, 1.29730801e-01, 4.77822573e-01, 3.48120439e-01,\n",
       "       1.32253871e-01, 4.52832457e-02, 6.90762848e-02, 1.29730801e-01,\n",
       "       2.61622319e-02, 1.98512010e-01, 3.48825200e-01, 8.24766752e-02,\n",
       "       3.53682077e-01, 2.61622319e-02, 2.96311851e-01, 5.84202812e-02,\n",
       "       1.32253871e-01, 4.75435228e-01, 3.41650399e-01, 1.59216745e-01,\n",
       "       2.97240546e-01, 2.82816173e-01, 4.95657631e-01, 4.96757642e-01,\n",
       "       1.27153988e-01, 6.39742160e-02, 4.52832457e-02, 3.01817849e-01,\n",
       "       4.52031963e-01, 2.19353526e-01, 2.87745424e-01, 4.55826935e-01,\n",
       "       1.46415224e-01, 1.10348397e-01, 6.90762848e-02, 3.69863014e-02,\n",
       "       5.22706412e-02, 2.46646679e-01, 1.34726219e-01, 4.52832457e-02,\n",
       "       2.61622319e-02, 2.79796826e-01, 4.90718890e-01, 1.13332883e-01,\n",
       "       2.37993741e-01, 7.82712204e-02, 4.41369672e-01, 2.28913701e-01,\n",
       "       1.00000000e+00, 1.00000000e+00, 2.61622319e-02, 2.61622319e-02,\n",
       "       2.61622319e-02, 4.52832457e-02, 3.69863014e-02, 3.69863014e-02,\n",
       "       5.84202812e-02, 1.00000000e+00, 3.69863014e-02, 1.00000000e+00,\n",
       "       9.74530214e-02, 4.52832457e-02, 5.84202812e-02, 4.52832457e-02,\n",
       "       4.52832457e-02, 8.24766752e-02, 6.39742160e-02, 2.61622319e-02,\n",
       "       5.22706412e-02, 3.69863014e-02, 7.38202388e-02, 5.22706412e-02,\n",
       "       4.52832457e-02, 2.61622319e-02, 3.69863014e-02, 5.22706412e-02,\n",
       "       5.84202812e-02, 3.69863014e-02, 4.52832457e-02, 7.82712204e-02,\n",
       "       9.74530214e-02, 8.24766752e-02, 3.69863014e-02, 1.00000000e+00,\n",
       "       5.22706412e-02, 5.22706412e-02, 3.69863014e-02, 8.64724332e-02,\n",
       "       7.38202388e-02, 1.27153988e-01, 6.39742160e-02, 4.52832457e-02,\n",
       "       9.02863400e-02, 1.13332883e-01, 9.39405473e-02, 1.04109589e-01,\n",
       "       1.16236731e-01, 1.19065842e-01, 1.07276543e-01, 1.13332883e-01,\n",
       "       9.39405473e-02, 1.19065842e-01, 1.04109589e-01, 1.10348397e-01,\n",
       "       1.19065842e-01, 1.19065842e-01, 1.00838574e-01, 1.32253871e-01,\n",
       "       1.00838574e-01, 1.16236731e-01, 9.39405473e-02, 9.74530214e-02,\n",
       "       9.74530214e-02, 1.10348397e-01, 7.82712204e-02, 1.39529475e-01,\n",
       "       1.52963777e-01, 1.13332883e-01, 1.00838574e-01, 1.00838574e-01,\n",
       "       8.24766752e-02, 5.22706412e-02, 6.90762848e-02, 7.38202388e-02,\n",
       "       8.24766752e-02, 6.39742160e-02, 8.64724332e-02, 9.74530214e-02,\n",
       "       8.24766752e-02, 1.04109589e-01, 7.82712204e-02, 9.39405473e-02,\n",
       "       1.21825423e-01, 1.10348397e-01, 1.10348397e-01, 1.16236731e-01,\n",
       "       1.13332883e-01, 1.44159778e-01, 1.41865172e-01, 1.34726219e-01,\n",
       "       1.16236731e-01, 1.32253871e-01, 1.81861891e-01, 1.87038981e-01,\n",
       "       2.06248561e-01, 1.96921084e-01, 1.80097918e-01, 1.39529475e-01,\n",
       "       1.19065842e-01, 4.52832457e-02, 1.00000000e+00, 1.88728151e-01,\n",
       "       3.09791272e-01, 8.64724332e-02, 3.94236841e-01, 1.88728151e-01,\n",
       "       3.69863014e-02, 1.80097918e-01, 2.61622319e-02, 2.76729282e-01,\n",
       "       1.96921084e-01, 1.85331885e-01, 1.95314798e-01, 3.66859955e-01,\n",
       "       3.78495778e-01, 2.59483298e-01, 3.46702559e-01, 2.26233820e-01,\n",
       "       2.39254919e-01, 2.03196219e-01, 4.17807658e-01, 4.06034422e-01,\n",
       "       4.21795481e-01, 3.24801280e-01, 5.22706412e-02, 3.69863014e-02,\n",
       "       7.82712204e-02, 5.84202812e-02, 5.84202812e-02, 2.76729282e-01,\n",
       "       4.52832457e-02, 3.38699150e-01, 5.22706412e-02, 9.02863400e-02,\n",
       "       1.16236731e-01, 3.83730393e-01, 2.79796826e-01])"
      ]
     },
     "execution_count": 235,
     "metadata": {},
     "output_type": "execute_result"
    }
   ],
   "source": [
    "sc.scale_"
   ]
  },
  {
   "cell_type": "markdown",
   "metadata": {},
   "source": [
    "## Train Ml MOdel"
   ]
  },
  {
   "cell_type": "code",
   "execution_count": 236,
   "metadata": {},
   "outputs": [
    {
     "name": "stdout",
     "output_type": "stream",
     "text": [
      "Requirement already satisfied: xgboost in c:\\users\\supri\\appdata\\local\\programs\\python\\python311\\lib\\site-packages (1.7.6)\n",
      "Requirement already satisfied: numpy in c:\\users\\supri\\appdata\\local\\programs\\python\\python311\\lib\\site-packages (from xgboost) (1.23.5)\n",
      "Requirement already satisfied: scipy in c:\\users\\supri\\appdata\\local\\programs\\python\\python311\\lib\\site-packages (from xgboost) (1.10.1)\n"
     ]
    },
    {
     "name": "stderr",
     "output_type": "stream",
     "text": [
      "\n",
      "[notice] A new release of pip is available: 23.1.2 -> 23.2.1\n",
      "[notice] To update, run: python.exe -m pip install --upgrade pip\n"
     ]
    }
   ],
   "source": [
    "!pip install xgboost"
   ]
  },
  {
   "cell_type": "code",
   "execution_count": 237,
   "metadata": {},
   "outputs": [],
   "source": [
    "from sklearn.svm import SVR\n",
    "from sklearn.linear_model import SGDRegressor\n",
    "from sklearn.linear_model import LinearRegression\n",
    "from sklearn.neighbors import KNeighborsRegressor\n",
    "from sklearn.gaussian_process import GaussianProcessRegressor\n",
    "from sklearn.tree import DecisionTreeRegressor\n",
    "from sklearn.ensemble import GradientBoostingRegressor\n",
    "from sklearn.ensemble import RandomForestRegressor\n",
    "from sklearn.isotonic import IsotonicRegression\n",
    "from sklearn.neural_network import MLPRegressor\n",
    "from xgboost import XGBRegressor"
   ]
  },
  {
   "cell_type": "code",
   "execution_count": 238,
   "metadata": {},
   "outputs": [],
   "source": [
    "svr = SVR()\n",
    "lr = LinearRegression()\n",
    "sgdr = SGDRegressor()\n",
    "knr = KNeighborsRegressor()\n",
    "gpr= GaussianProcessRegressor()\n",
    "dtr= DecisionTreeRegressor()\n",
    "gbr= GradientBoostingRegressor()\n",
    "rfr= RandomForestRegressor()\n",
    "mlpr= MLPRegressor()\n",
    "ir = IsotonicRegression()\n",
    "xgbr = XGBRegressor()\n",
    "\n"
   ]
  },
  {
   "cell_type": "code",
   "execution_count": 239,
   "metadata": {},
   "outputs": [],
   "source": [
    "models= {\"a\":[\"LinearRegression\", lr],\n",
    "\"b\":[\"SVR\", svr],\n",
    "\"c\":[\"SGDRegressor\", sgdr],\n",
    "\"d\":[\"KNeighborsRegressor\", knr],\n",
    "\"e\":[\"GaussianProcessRegressor\", gpr],\n",
    "\"f\":[\"DecisionTreeRegressor\", dtr],\n",
    "\"g\":[\"GradientBoostingRegressor\", gbr],\n",
    "\"h\":[\" RandomForestRegressor\", rfr],\n",
    "\"i\":[\"XGBRegressor\", xgbr],\n",
    "\"j\":[\"MLPRegressor\", mlpr],\n",
    "\"k\":[\"IsotonicRegression\", ir]\n",
    "}"
   ]
  },
  {
   "cell_type": "code",
   "execution_count": 242,
   "metadata": {},
   "outputs": [],
   "source": [
    "\n",
    "from sklearn.metrics import make_scorer, r2_score\n",
    "from sklearn.model_selection import KFold , cross_val_predict\n",
    "def test_model(model, X_train=x_train, Y_train=y_train):\n",
    "    cv = KFold(n_splits=7, shuffle=True , random_state= 45)\n",
    "    r2 = make_scorer(r2_score)\n",
    "    r2_val_score = cross_val_score(model, X_train, Y_train, cv=cv, scoring= r2)\n",
    "    score = [r2_val_score.mean()]\n",
    "    return score"
   ]
  },
  {
   "cell_type": "code",
   "execution_count": 243,
   "metadata": {},
   "outputs": [
    {
     "name": "stdout",
     "output_type": "stream",
     "text": [
      "Training model: LinearRegression\n",
      "Score of model:  [-6.183326489633019e+24]\n",
      "Training model: SVR\n",
      "Score of model:  [-0.05214766787859548]\n",
      "Training model: SGDRegressor\n",
      "Score of model:  [-6148.919088209309]\n",
      "Training model: KNeighborsRegressor\n",
      "Score of model:  [0.5519904331564068]\n",
      "Training model: GaussianProcessRegressor\n",
      "Score of model:  [-5.398593729726135]\n",
      "Training model: DecisionTreeRegressor\n",
      "Score of model:  [0.6674858649581565]\n",
      "Training model: GradientBoostingRegressor\n",
      "Score of model:  [0.8776960826557111]\n",
      "Training model:  RandomForestRegressor\n",
      "Score of model:  [0.8419454290160948]\n",
      "Training model: XGBRegressor\n",
      "Score of model:  [0.8413538459703954]\n",
      "Training model: MLPRegressor\n"
     ]
    },
    {
     "name": "stderr",
     "output_type": "stream",
     "text": [
      "c:\\Users\\supri\\AppData\\Local\\Programs\\Python\\Python311\\Lib\\site-packages\\sklearn\\neural_network\\_multilayer_perceptron.py:686: ConvergenceWarning: Stochastic Optimizer: Maximum iterations (200) reached and the optimization hasn't converged yet.\n",
      "  warnings.warn(\n",
      "c:\\Users\\supri\\AppData\\Local\\Programs\\Python\\Python311\\Lib\\site-packages\\sklearn\\neural_network\\_multilayer_perceptron.py:686: ConvergenceWarning: Stochastic Optimizer: Maximum iterations (200) reached and the optimization hasn't converged yet.\n",
      "  warnings.warn(\n",
      "c:\\Users\\supri\\AppData\\Local\\Programs\\Python\\Python311\\Lib\\site-packages\\sklearn\\neural_network\\_multilayer_perceptron.py:686: ConvergenceWarning: Stochastic Optimizer: Maximum iterations (200) reached and the optimization hasn't converged yet.\n",
      "  warnings.warn(\n",
      "c:\\Users\\supri\\AppData\\Local\\Programs\\Python\\Python311\\Lib\\site-packages\\sklearn\\neural_network\\_multilayer_perceptron.py:686: ConvergenceWarning: Stochastic Optimizer: Maximum iterations (200) reached and the optimization hasn't converged yet.\n",
      "  warnings.warn(\n",
      "c:\\Users\\supri\\AppData\\Local\\Programs\\Python\\Python311\\Lib\\site-packages\\sklearn\\neural_network\\_multilayer_perceptron.py:686: ConvergenceWarning: Stochastic Optimizer: Maximum iterations (200) reached and the optimization hasn't converged yet.\n",
      "  warnings.warn(\n",
      "c:\\Users\\supri\\AppData\\Local\\Programs\\Python\\Python311\\Lib\\site-packages\\sklearn\\neural_network\\_multilayer_perceptron.py:686: ConvergenceWarning: Stochastic Optimizer: Maximum iterations (200) reached and the optimization hasn't converged yet.\n",
      "  warnings.warn(\n"
     ]
    },
    {
     "name": "stdout",
     "output_type": "stream",
     "text": [
      "Score of model:  [-4.838294948659595]\n",
      "Training model: IsotonicRegression\n"
     ]
    },
    {
     "name": "stderr",
     "output_type": "stream",
     "text": [
      "c:\\Users\\supri\\AppData\\Local\\Programs\\Python\\Python311\\Lib\\site-packages\\sklearn\\neural_network\\_multilayer_perceptron.py:686: ConvergenceWarning: Stochastic Optimizer: Maximum iterations (200) reached and the optimization hasn't converged yet.\n",
      "  warnings.warn(\n"
     ]
    },
    {
     "ename": "ValueError",
     "evalue": "\nAll the 7 fits failed.\nIt is very likely that your model is misconfigured.\nYou can try to debug the error by setting error_score='raise'.\n\nBelow are more details about the failures:\n--------------------------------------------------------------------------------\n7 fits failed with the following error:\nTraceback (most recent call last):\n  File \"c:\\Users\\supri\\AppData\\Local\\Programs\\Python\\Python311\\Lib\\site-packages\\sklearn\\model_selection\\_validation.py\", line 686, in _fit_and_score\n    estimator.fit(X_train, y_train, **fit_params)\n  File \"c:\\Users\\supri\\AppData\\Local\\Programs\\Python\\Python311\\Lib\\site-packages\\sklearn\\isotonic.py\", line 351, in fit\n    X, y = self._build_y(X, y, sample_weight)\n           ^^^^^^^^^^^^^^^^^^^^^^^^^^^^^^^^^^\n  File \"c:\\Users\\supri\\AppData\\Local\\Programs\\Python\\Python311\\Lib\\site-packages\\sklearn\\isotonic.py\", line 266, in _build_y\n    self._check_input_data_shape(X)\n  File \"c:\\Users\\supri\\AppData\\Local\\Programs\\Python\\Python311\\Lib\\site-packages\\sklearn\\isotonic.py\", line 250, in _check_input_data_shape\n    raise ValueError(msg)\nValueError: Isotonic regression input X should be a 1d array or 2d array with 1 feature\n",
     "output_type": "error",
     "traceback": [
      "\u001b[1;31m---------------------------------------------------------------------------\u001b[0m",
      "\u001b[1;31mValueError\u001b[0m                                Traceback (most recent call last)",
      "Cell \u001b[1;32mIn[243], line 4\u001b[0m\n\u001b[0;32m      2\u001b[0m \u001b[39mfor\u001b[39;00m model \u001b[39min\u001b[39;00m models:\n\u001b[0;32m      3\u001b[0m     \u001b[39mprint\u001b[39m(\u001b[39m\"\u001b[39m\u001b[39mTraining model:\u001b[39m\u001b[39m\"\u001b[39m, models[model][\u001b[39m0\u001b[39m])\n\u001b[1;32m----> 4\u001b[0m     score \u001b[39m=\u001b[39mtest_model(models[model][\u001b[39m1\u001b[39;49m], x_train, y_train)\n\u001b[0;32m      5\u001b[0m     \u001b[39mprint\u001b[39m(\u001b[39m\"\u001b[39m\u001b[39mScore of model: \u001b[39m\u001b[39m\"\u001b[39m, score)\n\u001b[0;32m      6\u001b[0m     model_score\u001b[39m.\u001b[39mappend([models[model][\u001b[39m0\u001b[39m], score[\u001b[39m0\u001b[39m]])\n",
      "Cell \u001b[1;32mIn[242], line 6\u001b[0m, in \u001b[0;36mtest_model\u001b[1;34m(model, X_train, Y_train)\u001b[0m\n\u001b[0;32m      4\u001b[0m cv \u001b[39m=\u001b[39m KFold(n_splits\u001b[39m=\u001b[39m\u001b[39m7\u001b[39m, shuffle\u001b[39m=\u001b[39m\u001b[39mTrue\u001b[39;00m , random_state\u001b[39m=\u001b[39m \u001b[39m45\u001b[39m)\n\u001b[0;32m      5\u001b[0m r2 \u001b[39m=\u001b[39m make_scorer(r2_score)\n\u001b[1;32m----> 6\u001b[0m r2_val_score \u001b[39m=\u001b[39m cross_val_score(model, X_train, Y_train, cv\u001b[39m=\u001b[39;49mcv, scoring\u001b[39m=\u001b[39;49m r2)\n\u001b[0;32m      7\u001b[0m score \u001b[39m=\u001b[39m [r2_val_score\u001b[39m.\u001b[39mmean()]\n\u001b[0;32m      8\u001b[0m \u001b[39mreturn\u001b[39;00m score\n",
      "File \u001b[1;32mc:\\Users\\supri\\AppData\\Local\\Programs\\Python\\Python311\\Lib\\site-packages\\sklearn\\model_selection\\_validation.py:515\u001b[0m, in \u001b[0;36mcross_val_score\u001b[1;34m(estimator, X, y, groups, scoring, cv, n_jobs, verbose, fit_params, pre_dispatch, error_score)\u001b[0m\n\u001b[0;32m    512\u001b[0m \u001b[39m# To ensure multimetric format is not supported\u001b[39;00m\n\u001b[0;32m    513\u001b[0m scorer \u001b[39m=\u001b[39m check_scoring(estimator, scoring\u001b[39m=\u001b[39mscoring)\n\u001b[1;32m--> 515\u001b[0m cv_results \u001b[39m=\u001b[39m cross_validate(\n\u001b[0;32m    516\u001b[0m     estimator\u001b[39m=\u001b[39;49mestimator,\n\u001b[0;32m    517\u001b[0m     X\u001b[39m=\u001b[39;49mX,\n\u001b[0;32m    518\u001b[0m     y\u001b[39m=\u001b[39;49my,\n\u001b[0;32m    519\u001b[0m     groups\u001b[39m=\u001b[39;49mgroups,\n\u001b[0;32m    520\u001b[0m     scoring\u001b[39m=\u001b[39;49m{\u001b[39m\"\u001b[39;49m\u001b[39mscore\u001b[39;49m\u001b[39m\"\u001b[39;49m: scorer},\n\u001b[0;32m    521\u001b[0m     cv\u001b[39m=\u001b[39;49mcv,\n\u001b[0;32m    522\u001b[0m     n_jobs\u001b[39m=\u001b[39;49mn_jobs,\n\u001b[0;32m    523\u001b[0m     verbose\u001b[39m=\u001b[39;49mverbose,\n\u001b[0;32m    524\u001b[0m     fit_params\u001b[39m=\u001b[39;49mfit_params,\n\u001b[0;32m    525\u001b[0m     pre_dispatch\u001b[39m=\u001b[39;49mpre_dispatch,\n\u001b[0;32m    526\u001b[0m     error_score\u001b[39m=\u001b[39;49merror_score,\n\u001b[0;32m    527\u001b[0m )\n\u001b[0;32m    528\u001b[0m \u001b[39mreturn\u001b[39;00m cv_results[\u001b[39m\"\u001b[39m\u001b[39mtest_score\u001b[39m\u001b[39m\"\u001b[39m]\n",
      "File \u001b[1;32mc:\\Users\\supri\\AppData\\Local\\Programs\\Python\\Python311\\Lib\\site-packages\\sklearn\\model_selection\\_validation.py:285\u001b[0m, in \u001b[0;36mcross_validate\u001b[1;34m(estimator, X, y, groups, scoring, cv, n_jobs, verbose, fit_params, pre_dispatch, return_train_score, return_estimator, error_score)\u001b[0m\n\u001b[0;32m    265\u001b[0m parallel \u001b[39m=\u001b[39m Parallel(n_jobs\u001b[39m=\u001b[39mn_jobs, verbose\u001b[39m=\u001b[39mverbose, pre_dispatch\u001b[39m=\u001b[39mpre_dispatch)\n\u001b[0;32m    266\u001b[0m results \u001b[39m=\u001b[39m parallel(\n\u001b[0;32m    267\u001b[0m     delayed(_fit_and_score)(\n\u001b[0;32m    268\u001b[0m         clone(estimator),\n\u001b[1;32m   (...)\u001b[0m\n\u001b[0;32m    282\u001b[0m     \u001b[39mfor\u001b[39;00m train, test \u001b[39min\u001b[39;00m cv\u001b[39m.\u001b[39msplit(X, y, groups)\n\u001b[0;32m    283\u001b[0m )\n\u001b[1;32m--> 285\u001b[0m _warn_or_raise_about_fit_failures(results, error_score)\n\u001b[0;32m    287\u001b[0m \u001b[39m# For callabe scoring, the return type is only know after calling. If the\u001b[39;00m\n\u001b[0;32m    288\u001b[0m \u001b[39m# return type is a dictionary, the error scores can now be inserted with\u001b[39;00m\n\u001b[0;32m    289\u001b[0m \u001b[39m# the correct key.\u001b[39;00m\n\u001b[0;32m    290\u001b[0m \u001b[39mif\u001b[39;00m \u001b[39mcallable\u001b[39m(scoring):\n",
      "File \u001b[1;32mc:\\Users\\supri\\AppData\\Local\\Programs\\Python\\Python311\\Lib\\site-packages\\sklearn\\model_selection\\_validation.py:367\u001b[0m, in \u001b[0;36m_warn_or_raise_about_fit_failures\u001b[1;34m(results, error_score)\u001b[0m\n\u001b[0;32m    360\u001b[0m \u001b[39mif\u001b[39;00m num_failed_fits \u001b[39m==\u001b[39m num_fits:\n\u001b[0;32m    361\u001b[0m     all_fits_failed_message \u001b[39m=\u001b[39m (\n\u001b[0;32m    362\u001b[0m         \u001b[39mf\u001b[39m\u001b[39m\"\u001b[39m\u001b[39m\\n\u001b[39;00m\u001b[39mAll the \u001b[39m\u001b[39m{\u001b[39;00mnum_fits\u001b[39m}\u001b[39;00m\u001b[39m fits failed.\u001b[39m\u001b[39m\\n\u001b[39;00m\u001b[39m\"\u001b[39m\n\u001b[0;32m    363\u001b[0m         \u001b[39m\"\u001b[39m\u001b[39mIt is very likely that your model is misconfigured.\u001b[39m\u001b[39m\\n\u001b[39;00m\u001b[39m\"\u001b[39m\n\u001b[0;32m    364\u001b[0m         \u001b[39m\"\u001b[39m\u001b[39mYou can try to debug the error by setting error_score=\u001b[39m\u001b[39m'\u001b[39m\u001b[39mraise\u001b[39m\u001b[39m'\u001b[39m\u001b[39m.\u001b[39m\u001b[39m\\n\u001b[39;00m\u001b[39m\\n\u001b[39;00m\u001b[39m\"\u001b[39m\n\u001b[0;32m    365\u001b[0m         \u001b[39mf\u001b[39m\u001b[39m\"\u001b[39m\u001b[39mBelow are more details about the failures:\u001b[39m\u001b[39m\\n\u001b[39;00m\u001b[39m{\u001b[39;00mfit_errors_summary\u001b[39m}\u001b[39;00m\u001b[39m\"\u001b[39m\n\u001b[0;32m    366\u001b[0m     )\n\u001b[1;32m--> 367\u001b[0m     \u001b[39mraise\u001b[39;00m \u001b[39mValueError\u001b[39;00m(all_fits_failed_message)\n\u001b[0;32m    369\u001b[0m \u001b[39melse\u001b[39;00m:\n\u001b[0;32m    370\u001b[0m     some_fits_failed_message \u001b[39m=\u001b[39m (\n\u001b[0;32m    371\u001b[0m         \u001b[39mf\u001b[39m\u001b[39m\"\u001b[39m\u001b[39m\\n\u001b[39;00m\u001b[39m{\u001b[39;00mnum_failed_fits\u001b[39m}\u001b[39;00m\u001b[39m fits failed out of a total of \u001b[39m\u001b[39m{\u001b[39;00mnum_fits\u001b[39m}\u001b[39;00m\u001b[39m.\u001b[39m\u001b[39m\\n\u001b[39;00m\u001b[39m\"\u001b[39m\n\u001b[0;32m    372\u001b[0m         \u001b[39m\"\u001b[39m\u001b[39mThe score on these train-test partitions for these parameters\u001b[39m\u001b[39m\"\u001b[39m\n\u001b[1;32m   (...)\u001b[0m\n\u001b[0;32m    376\u001b[0m         \u001b[39mf\u001b[39m\u001b[39m\"\u001b[39m\u001b[39mBelow are more details about the failures:\u001b[39m\u001b[39m\\n\u001b[39;00m\u001b[39m{\u001b[39;00mfit_errors_summary\u001b[39m}\u001b[39;00m\u001b[39m\"\u001b[39m\n\u001b[0;32m    377\u001b[0m     )\n",
      "\u001b[1;31mValueError\u001b[0m: \nAll the 7 fits failed.\nIt is very likely that your model is misconfigured.\nYou can try to debug the error by setting error_score='raise'.\n\nBelow are more details about the failures:\n--------------------------------------------------------------------------------\n7 fits failed with the following error:\nTraceback (most recent call last):\n  File \"c:\\Users\\supri\\AppData\\Local\\Programs\\Python\\Python311\\Lib\\site-packages\\sklearn\\model_selection\\_validation.py\", line 686, in _fit_and_score\n    estimator.fit(X_train, y_train, **fit_params)\n  File \"c:\\Users\\supri\\AppData\\Local\\Programs\\Python\\Python311\\Lib\\site-packages\\sklearn\\isotonic.py\", line 351, in fit\n    X, y = self._build_y(X, y, sample_weight)\n           ^^^^^^^^^^^^^^^^^^^^^^^^^^^^^^^^^^\n  File \"c:\\Users\\supri\\AppData\\Local\\Programs\\Python\\Python311\\Lib\\site-packages\\sklearn\\isotonic.py\", line 266, in _build_y\n    self._check_input_data_shape(X)\n  File \"c:\\Users\\supri\\AppData\\Local\\Programs\\Python\\Python311\\Lib\\site-packages\\sklearn\\isotonic.py\", line 250, in _check_input_data_shape\n    raise ValueError(msg)\nValueError: Isotonic regression input X should be a 1d array or 2d array with 1 feature\n"
     ]
    }
   ],
   "source": [
    "model_score = []\n",
    "for model in models:\n",
    "    print(\"Training model:\", models[model][0])\n",
    "    score =test_model(models[model][1], x_train, y_train)\n",
    "    print(\"Score of model: \", score)\n",
    "    model_score.append([models[model][0], score[0]])"
   ]
  },
  {
   "cell_type": "markdown",
   "metadata": {},
   "source": [
    "model scrose\n",
    "\n",
    "Training model: LinearRegression\n",
    "Score of model:  [-6.183326489633019e+24]\n",
    "Training model: SVR\n",
    "Score of model:  [-0.05214766787859548]\n",
    "Training model: SGDRegressor\n",
    "Score of model:  [-6148.919088209309]\n",
    "Training model: KNeighborsRegressor\n",
    "Score of model:  [0.5519904331564068]\n",
    "Training model: GaussianProcessRegressor\n",
    "Score of model:  [-5.398593729726135]\n",
    "Training model: DecisionTreeRegressor\n",
    "Score of model:  [0.6674858649581565]\n",
    "Training model: GradientBoostingRegressor\n",
    "Score of model:  [0.8776960826557111]\n",
    "Training model:  RandomForestRegressor\n",
    "Score of model:  [0.8419454290160948]\n",
    "Training model: XGBRegressor\n",
    "Score of model:  [0.8413538459703954]\n",
    "Training model: MLPRegressor\n",
    "Score of model:  [-4.838294948659595]\n"
   ]
  }
 ],
 "metadata": {
  "kernelspec": {
   "display_name": "Python 3",
   "language": "python",
   "name": "python3"
  },
  "language_info": {
   "codemirror_mode": {
    "name": "ipython",
    "version": 3
   },
   "file_extension": ".py",
   "mimetype": "text/x-python",
   "name": "python",
   "nbconvert_exporter": "python",
   "pygments_lexer": "ipython3",
   "version": "3.11.4"
  },
  "orig_nbformat": 4
 },
 "nbformat": 4,
 "nbformat_minor": 2
}
